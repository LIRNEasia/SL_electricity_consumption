{
 "cells": [
  {
   "cell_type": "code",
   "execution_count": 1,
   "id": "1109c78b",
   "metadata": {},
   "outputs": [],
   "source": [
    "import pandas as pd"
   ]
  },
  {
   "cell_type": "code",
   "execution_count": 9,
   "id": "a8dbd7a2",
   "metadata": {},
   "outputs": [],
   "source": [
    "# -------------------------------\n",
    "# 2️⃣ Load autoencoder CSVs (clusters 0-6) and concatenate\n",
    "# -------------------------------\n",
    "ae_dfs = []\n",
    "for i in range(6):\n",
    "    path = f'/home/ranushi/test/Anomaly DetectionMethod/anomalous_high_energy_households_cluster_2{i}.csv'\n",
    "    df = pd.read_csv(path)\n",
    "    df = df[['household_ID', 'cluster']]\n",
    "    ae_dfs.append(df)\n",
    "\n",
    "ae_df = pd.concat(ae_dfs, ignore_index=True)"
   ]
  },
  {
   "cell_type": "code",
   "execution_count": 10,
   "id": "6c462fa2",
   "metadata": {},
   "outputs": [
    {
     "name": "stderr",
     "output_type": "stream",
     "text": [
      "/tmp/ipykernel_13574/2973607930.py:1: DtypeWarning: Columns (11) have mixed types. Specify dtype option on import or set low_memory=False.\n",
      "  appliance_age = pd.read_csv('/home/ranushi/test/Anomaly DetectionMethod/wave_1/household_appliance_specifications_202509020921.csv')\n"
     ]
    }
   ],
   "source": [
    "appliance_age = pd.read_csv('/home/ranushi/test/Anomaly DetectionMethod/wave_1/household_appliance_specifications_202509020921.csv')"
   ]
  },
  {
   "cell_type": "code",
   "execution_count": 11,
   "id": "d532ae39",
   "metadata": {},
   "outputs": [],
   "source": [
    "appliance_age = appliance_age[['household_id','appliance_name','no_of_appliances','purchased_time1',\n",
    "                              'purchased_time2','purchased_time3','purchased_time4']]"
   ]
  },
  {
   "cell_type": "code",
   "execution_count": 12,
   "id": "d7e6daa0",
   "metadata": {},
   "outputs": [],
   "source": [
    "df = appliance_age.copy()"
   ]
  },
  {
   "cell_type": "code",
   "execution_count": 13,
   "id": "b304af30",
   "metadata": {},
   "outputs": [
    {
     "name": "stdout",
     "output_type": "stream",
     "text": [
      "  household_id   appliance_name              appliance_age\n",
      "0       ID0430        Microwave     More than 10 years ago\n",
      "1       ID0430      Rice cooker  Wthin the last 5-10 years\n",
      "2       ID0430  Electric Kettle     More than 10 years ago\n",
      "3       ID0528     Refrigerator     More than 10 years ago\n",
      "4       ID0528      Rice cooker     Within the last 1 year\n"
     ]
    }
   ],
   "source": [
    "import pandas as pd\n",
    "import numpy as np\n",
    "\n",
    "# Define order of appliance age (older = larger number)\n",
    "age_order = {\n",
    "    'Within the last 1 year': 1,\n",
    "    'Within the last 1-5 years': 2,\n",
    "    'Wthin the last 1-5 years': 2,     # fix typo version\n",
    "    'Within the last 5-10 years': 3,\n",
    "    'Wthin the last 5-10 years': 3,    # fix typo version\n",
    "    'More than 10 years ago': 4\n",
    "}\n",
    "\n",
    "# Columns to check\n",
    "purchased_cols = ['purchased_time1', 'purchased_time2', 'purchased_time3', 'purchased_time4']\n",
    "\n",
    "# Convert categories to numeric according to hierarchy\n",
    "df_numeric = df[purchased_cols].apply(lambda col: col.map(age_order))\n",
    "\n",
    "# Find the oldest (maximum numeric value across columns)\n",
    "df['appliance_age_code'] = df_numeric.max(axis=1, skipna=True)\n",
    "\n",
    "# Map numeric code back to category name\n",
    "reverse_age_order = {v: k for k, v in age_order.items()}\n",
    "df['appliance_age'] = df['appliance_age_code'].map(reverse_age_order)\n",
    "\n",
    "# Keep only the required columns\n",
    "result = df[['household_id', 'appliance_name', 'appliance_age']].dropna(subset=['appliance_age']).reset_index(drop=True)\n",
    "\n",
    "print(result.head())"
   ]
  },
  {
   "cell_type": "code",
   "execution_count": 14,
   "id": "1cc3122a",
   "metadata": {},
   "outputs": [
    {
     "name": "stdout",
     "output_type": "stream",
     "text": [
      "     household_ID  average_powerfactor\n",
      "0          ID0013             0.754472\n",
      "1          ID0018             0.205128\n",
      "2          ID0041            -0.001664\n",
      "3          ID0043             0.220554\n",
      "4          ID0052             0.869455\n",
      "...           ...                  ...\n",
      "2933       ID5571             0.946570\n",
      "2934       ID5572             0.121005\n",
      "2935       ID5573             0.710816\n",
      "2936       ID5574             0.553514\n",
      "2937       ID5575             0.245074\n",
      "\n",
      "[2938 rows x 2 columns]\n"
     ]
    }
   ],
   "source": [
    "import pandas as pd\n",
    "import os\n",
    "import glob\n",
    "\n",
    "# Directory path\n",
    "dir_path = '/home/ranushi/test/Anomaly DetectionMethod/15min_interval'\n",
    "\n",
    "# Get all CSV files in the directory\n",
    "csv_files = glob.glob(os.path.join(dir_path, '*.csv'))\n",
    "\n",
    "# List to store dataframes\n",
    "dfs = []\n",
    "\n",
    "# Read each CSV file\n",
    "for file in csv_files:\n",
    "    df = pd.read_csv(file)\n",
    "    dfs.append(df)\n",
    "\n",
    "# Concatenate all dataframes\n",
    "combined_df = pd.concat(dfs, ignore_index=True)\n",
    "\n",
    "# Calculate average powerfactor for each household\n",
    "avg_powerfactor = combined_df.groupby('household_ID')['powerfactor'].mean().reset_index()\n",
    "avg_powerfactor.columns = ['household_ID', 'average_powerfactor']\n",
    "\n",
    "# Display the result\n",
    "print(avg_powerfactor)"
   ]
  },
  {
   "cell_type": "code",
   "execution_count": 15,
   "id": "7e65aeac",
   "metadata": {},
   "outputs": [],
   "source": [
    "age_powerfactor = pd.merge(result,avg_powerfactor, left_on='household_id', right_on='household_ID', how='inner')"
   ]
  },
  {
   "cell_type": "code",
   "execution_count": 17,
   "id": "b082132d",
   "metadata": {},
   "outputs": [
    {
     "data": {
      "text/html": [
       "<div>\n",
       "<style scoped>\n",
       "    .dataframe tbody tr th:only-of-type {\n",
       "        vertical-align: middle;\n",
       "    }\n",
       "\n",
       "    .dataframe tbody tr th {\n",
       "        vertical-align: top;\n",
       "    }\n",
       "\n",
       "    .dataframe thead th {\n",
       "        text-align: right;\n",
       "    }\n",
       "</style>\n",
       "<table border=\"1\" class=\"dataframe\">\n",
       "  <thead>\n",
       "    <tr style=\"text-align: right;\">\n",
       "      <th></th>\n",
       "      <th>household_id</th>\n",
       "      <th>appliance_name</th>\n",
       "      <th>appliance_age</th>\n",
       "      <th>household_ID</th>\n",
       "      <th>average_powerfactor</th>\n",
       "    </tr>\n",
       "  </thead>\n",
       "  <tbody>\n",
       "    <tr>\n",
       "      <th>0</th>\n",
       "      <td>ID0886</td>\n",
       "      <td>Rice cooker</td>\n",
       "      <td>Wthin the last 5-10 years</td>\n",
       "      <td>ID0886</td>\n",
       "      <td>0.914335</td>\n",
       "    </tr>\n",
       "    <tr>\n",
       "      <th>1</th>\n",
       "      <td>ID0886</td>\n",
       "      <td>Washing Machine</td>\n",
       "      <td>More than 10 years ago</td>\n",
       "      <td>ID0886</td>\n",
       "      <td>0.914335</td>\n",
       "    </tr>\n",
       "    <tr>\n",
       "      <th>2</th>\n",
       "      <td>ID0886</td>\n",
       "      <td>Electric Iron including electric steam iron</td>\n",
       "      <td>More than 10 years ago</td>\n",
       "      <td>ID0886</td>\n",
       "      <td>0.914335</td>\n",
       "    </tr>\n",
       "    <tr>\n",
       "      <th>3</th>\n",
       "      <td>ID0886</td>\n",
       "      <td>Laptops</td>\n",
       "      <td>More than 10 years ago</td>\n",
       "      <td>ID0886</td>\n",
       "      <td>0.914335</td>\n",
       "    </tr>\n",
       "    <tr>\n",
       "      <th>4</th>\n",
       "      <td>ID0041</td>\n",
       "      <td>Rice cooker</td>\n",
       "      <td>Wthin the last 5-10 years</td>\n",
       "      <td>ID0041</td>\n",
       "      <td>-0.001664</td>\n",
       "    </tr>\n",
       "    <tr>\n",
       "      <th>...</th>\n",
       "      <td>...</td>\n",
       "      <td>...</td>\n",
       "      <td>...</td>\n",
       "      <td>...</td>\n",
       "      <td>...</td>\n",
       "    </tr>\n",
       "    <tr>\n",
       "      <th>4367</th>\n",
       "      <td>ID2272</td>\n",
       "      <td>Washing Machine</td>\n",
       "      <td>Wthin the last 5-10 years</td>\n",
       "      <td>ID2272</td>\n",
       "      <td>0.962718</td>\n",
       "    </tr>\n",
       "    <tr>\n",
       "      <th>4368</th>\n",
       "      <td>ID2272</td>\n",
       "      <td>Electric Iron including electric steam iron</td>\n",
       "      <td>Wthin the last 5-10 years</td>\n",
       "      <td>ID2272</td>\n",
       "      <td>0.962718</td>\n",
       "    </tr>\n",
       "    <tr>\n",
       "      <th>4369</th>\n",
       "      <td>ID3144</td>\n",
       "      <td>Electric Iron including electric steam iron</td>\n",
       "      <td>More than 10 years ago</td>\n",
       "      <td>ID3144</td>\n",
       "      <td>0.677572</td>\n",
       "    </tr>\n",
       "    <tr>\n",
       "      <th>4370</th>\n",
       "      <td>ID3142</td>\n",
       "      <td>Rice cooker</td>\n",
       "      <td>More than 10 years ago</td>\n",
       "      <td>ID3142</td>\n",
       "      <td>0.809876</td>\n",
       "    </tr>\n",
       "    <tr>\n",
       "      <th>4371</th>\n",
       "      <td>ID3142</td>\n",
       "      <td>Laptops</td>\n",
       "      <td>More than 10 years ago</td>\n",
       "      <td>ID3142</td>\n",
       "      <td>0.809876</td>\n",
       "    </tr>\n",
       "  </tbody>\n",
       "</table>\n",
       "<p>4372 rows × 5 columns</p>\n",
       "</div>"
      ],
      "text/plain": [
       "     household_id                               appliance_name  \\\n",
       "0          ID0886                                  Rice cooker   \n",
       "1          ID0886                              Washing Machine   \n",
       "2          ID0886  Electric Iron including electric steam iron   \n",
       "3          ID0886                                      Laptops   \n",
       "4          ID0041                                  Rice cooker   \n",
       "...           ...                                          ...   \n",
       "4367       ID2272                              Washing Machine   \n",
       "4368       ID2272  Electric Iron including electric steam iron   \n",
       "4369       ID3144  Electric Iron including electric steam iron   \n",
       "4370       ID3142                                  Rice cooker   \n",
       "4371       ID3142                                      Laptops   \n",
       "\n",
       "                  appliance_age household_ID  average_powerfactor  \n",
       "0     Wthin the last 5-10 years       ID0886             0.914335  \n",
       "1        More than 10 years ago       ID0886             0.914335  \n",
       "2        More than 10 years ago       ID0886             0.914335  \n",
       "3        More than 10 years ago       ID0886             0.914335  \n",
       "4     Wthin the last 5-10 years       ID0041            -0.001664  \n",
       "...                         ...          ...                  ...  \n",
       "4367  Wthin the last 5-10 years       ID2272             0.962718  \n",
       "4368  Wthin the last 5-10 years       ID2272             0.962718  \n",
       "4369     More than 10 years ago       ID3144             0.677572  \n",
       "4370     More than 10 years ago       ID3142             0.809876  \n",
       "4371     More than 10 years ago       ID3142             0.809876  \n",
       "\n",
       "[4372 rows x 5 columns]"
      ]
     },
     "execution_count": 17,
     "metadata": {},
     "output_type": "execute_result"
    }
   ],
   "source": [
    "age_powerfactor"
   ]
  },
  {
   "cell_type": "code",
   "execution_count": 18,
   "id": "3f620722",
   "metadata": {},
   "outputs": [],
   "source": [
    "filtered_data = age_powerfactor[\n",
    "    (age_powerfactor['appliance_age'] == 'More than 10 years ago') & \n",
    "    (age_powerfactor['average_powerfactor'] < 0.75) &\n",
    "    (age_powerfactor['average_powerfactor'].notna())\n",
    "]"
   ]
  },
  {
   "cell_type": "code",
   "execution_count": 19,
   "id": "2d777521",
   "metadata": {},
   "outputs": [
    {
     "name": "stdout",
     "output_type": "stream",
     "text": [
      "Number of common households: 50\n",
      "  household_ID\n",
      "0       ID1019\n",
      "1       ID0533\n",
      "2       ID2077\n",
      "3       ID0232\n",
      "4       ID2408\n"
     ]
    }
   ],
   "source": [
    "# Find intersection of household_IDs\n",
    "common_households = set(filtered_data['household_id']).intersection(set(ae_df['household_ID']))\n",
    "\n",
    "# Convert to DataFrame if you want to see or save it\n",
    "intersection_df = pd.DataFrame({'household_ID': list(common_households)})\n",
    "\n",
    "# Display results\n",
    "print(f\"Number of common households: {len(intersection_df)}\")\n",
    "print(intersection_df.head())"
   ]
  },
  {
   "cell_type": "code",
   "execution_count": 22,
   "id": "b16e4d62",
   "metadata": {},
   "outputs": [
    {
     "name": "stderr",
     "output_type": "stream",
     "text": [
      "/tmp/ipykernel_13574/3814418572.py:26: DtypeWarning: Columns (9,27) have mixed types. Specify dtype option on import or set low_memory=False.\n",
      "  df = pd.read_csv(file)\n",
      "/tmp/ipykernel_13574/3814418572.py:26: DtypeWarning: Columns (9) have mixed types. Specify dtype option on import or set low_memory=False.\n",
      "  df = pd.read_csv(file)\n",
      "/tmp/ipykernel_13574/3814418572.py:26: DtypeWarning: Columns (14,25,27) have mixed types. Specify dtype option on import or set low_memory=False.\n",
      "  df = pd.read_csv(file)\n",
      "/tmp/ipykernel_13574/3814418572.py:26: DtypeWarning: Columns (26) have mixed types. Specify dtype option on import or set low_memory=False.\n",
      "  df = pd.read_csv(file)\n"
     ]
    }
   ],
   "source": [
    "import os\n",
    "import pandas as pd\n",
    "from sklearn.metrics import confusion_matrix, ConfusionMatrixDisplay\n",
    "import matplotlib.pyplot as plt\n",
    "import glob\n",
    "\n",
    "# ======================================================\n",
    "# 1️⃣ Load the ground truth anomalies (filtered_data)\n",
    "# ======================================================\n",
    "# Assuming filtered_data is already a DataFrame\n",
    "true_anomalies = set(filtered_data['household_ID'].unique())\n",
    "# ======================================================\n",
    "# 2️⃣ Load predicted anomalies\n",
    "# ======================================================\n",
    "#similar_csv = '/home/ranushi/test/Anomaly DetectionMethod/similar_usage_high_energy_households3.csv'\n",
    "#predicted_anomalies_df = pd.read_csv(similar_csv)\n",
    "predicted_anomalies = set(ae_df['household_ID'].unique())\n",
    "# ======================================================\n",
    "# 3️⃣ Load all households from 6-hour interval files\n",
    "# ======================================================\n",
    "folder_path = '/home/ranushi/test/Anomaly DetectionMethod/6hour_interval'\n",
    "all_files = glob.glob(os.path.join(folder_path, '*.csv'))\n",
    "\n",
    "all_households = set()\n",
    "for file in all_files:\n",
    "    df = pd.read_csv(file)\n",
    "    if 'household_ID' in df.columns:\n",
    "        all_households.update(df['household_ID'].unique())\n",
    "    else:\n",
    "        print(f\"⚠️ Skipping {file}, no 'household_ID' column found.\")\n",
    "\n",
    "# ======================================================\n",
    "# 4️⃣ Identify normal households (not in ground truth anomalies)\n",
    "# ======================================================\n",
    "normal_households = all_households - true_anomalies\n"
   ]
  },
  {
   "cell_type": "code",
   "execution_count": 23,
   "id": "19cb78d7",
   "metadata": {},
   "outputs": [],
   "source": [
    "# ======================================================\n",
    "# 5️⃣ Build labels for confusion matrix\n",
    "# ======================================================\n",
    "y_true = []\n",
    "y_pred = []\n",
    "\n",
    "for hh in all_households:\n",
    "    true_label = 1 if hh in true_anomalies else 0\n",
    "    pred_label = 1 if hh in predicted_anomalies else 0\n",
    "    y_true.append(true_label)\n",
    "    y_pred.append(pred_label)"
   ]
  },
  {
   "cell_type": "code",
   "execution_count": 24,
   "id": "6227aabf",
   "metadata": {},
   "outputs": [
    {
     "name": "stdout",
     "output_type": "stream",
     "text": [
      "✅ Confusion Matrix:\n",
      "                   Predicted: Anomalous  Predicted: Normal\n",
      "Actual: Anomalous                    50                155\n",
      "Actual: Normal                      198               2547\n",
      "\n",
      "Metrics Summary:\n",
      "True Positives (TP): 50\n",
      "False Negatives (FN): 155\n",
      "False Positives (FP): 198\n",
      "True Negatives (TN): 2547\n"
     ]
    },
    {
     "data": {
      "image/png": "[encoded data removed]",
      "text/plain": [
       "<Figure size 640x480 with 2 Axes>"
      ]
     },
     "metadata": {},
     "output_type": "display_data"
    }
   ],
   "source": [
    "\n",
    "# ======================================================\n",
    "# 6️⃣ Compute confusion matrix\n",
    "# ======================================================\n",
    "cm = confusion_matrix(y_true, y_pred, labels=[1, 0])\n",
    "\n",
    "# Order: [[TP, FN], [FP, TN]]\n",
    "tp, fn, fp, tn = cm[0,0], cm[0,1], cm[1,0], cm[1,1]\n",
    "\n",
    "print(\"✅ Confusion Matrix:\")\n",
    "print(pd.DataFrame(cm,\n",
    "                   index=['Actual: Anomalous', 'Actual: Normal'],\n",
    "                   columns=['Predicted: Anomalous', 'Predicted: Normal']))\n",
    "print(\"\\nMetrics Summary:\")\n",
    "print(f\"True Positives (TP): {tp}\")\n",
    "print(f\"False Negatives (FN): {fn}\")\n",
    "print(f\"False Positives (FP): {fp}\")\n",
    "print(f\"True Negatives (TN): {tn}\")\n",
    "\n",
    "# ======================================================\n",
    "# 7️⃣ Visualize confusion matrix\n",
    "# ======================================================\n",
    "disp = ConfusionMatrixDisplay(confusion_matrix=cm,\n",
    "                              display_labels=['Anomalous', 'Normal'])\n",
    "disp.plot(cmap='Blues')\n",
    "plt.title(\"Confusion Matrix - Household Anomaly Detection\")\n",
    "plt.show()"
   ]
  },
  {
   "cell_type": "code",
   "execution_count": 25,
   "id": "828fd9f4",
   "metadata": {},
   "outputs": [
    {
     "name": "stdout",
     "output_type": "stream",
     "text": [
      "\n",
      "==================== METRICS SUMMARY ====================\n",
      "Accuracy : 0.880\n",
      "Precision: 0.202\n",
      "Recall   : 0.244\n",
      "F1 Score : 0.221\n",
      "==========================================================\n",
      "\n",
      "Detailed Classification Report:\n",
      "              precision    recall  f1-score   support\n",
      "\n",
      "      Normal      0.943     0.928     0.935      2745\n",
      "   Anomalous      0.202     0.244     0.221       205\n",
      "\n",
      "    accuracy                          0.880      2950\n",
      "   macro avg      0.572     0.586     0.578      2950\n",
      "weighted avg      0.891     0.880     0.886      2950\n",
      "\n"
     ]
    }
   ],
   "source": [
    "from sklearn.metrics import (\n",
    "    f1_score,\n",
    "    precision_score,\n",
    "    recall_score,\n",
    "    accuracy_score,\n",
    "    classification_report\n",
    ")\n",
    "\n",
    "# ======================================================\n",
    "# 6️⃣.1 Compute full performance metrics\n",
    "# ======================================================\n",
    "\n",
    "# Accuracy\n",
    "accuracy = accuracy_score(y_true, y_pred)\n",
    "\n",
    "# Precision, Recall, F1\n",
    "precision = precision_score(y_true, y_pred)\n",
    "recall = recall_score(y_true, y_pred)\n",
    "f1 = f1_score(y_true, y_pred)\n",
    "\n",
    "# Classification report\n",
    "report = classification_report(\n",
    "    y_true,\n",
    "    y_pred,\n",
    "    target_names=[\"Normal\", \"Anomalous\"],\n",
    "    digits=3\n",
    ")\n",
    "\n",
    "# Print results\n",
    "print(\"\\n==================== METRICS SUMMARY ====================\")\n",
    "print(f\"Accuracy : {accuracy:.3f}\")\n",
    "print(f\"Precision: {precision:.3f}\")\n",
    "print(f\"Recall   : {recall:.3f}\")\n",
    "print(f\"F1 Score : {f1:.3f}\")\n",
    "print(\"==========================================================\")\n",
    "print(\"\\nDetailed Classification Report:\")\n",
    "print(report)"
   ]
  },
  {
   "cell_type": "markdown",
   "id": "2ef698cf",
   "metadata": {},
   "source": [
    "##  AC,Ref"
   ]
  },
  {
   "cell_type": "code",
   "execution_count": 26,
   "id": "ef4d4340",
   "metadata": {},
   "outputs": [],
   "source": [
    "df = appliance_age.copy()"
   ]
  },
  {
   "cell_type": "code",
   "execution_count": 27,
   "id": "9cd5e636",
   "metadata": {},
   "outputs": [
    {
     "name": "stdout",
     "output_type": "stream",
     "text": [
      "  household_id   appliance_name              appliance_age\n",
      "0       ID0430        Microwave     More than 10 years ago\n",
      "1       ID0430      Rice cooker  Wthin the last 5-10 years\n",
      "2       ID0430  Electric Kettle     More than 10 years ago\n",
      "3       ID0528     Refrigerator     More than 10 years ago\n",
      "4       ID0528      Rice cooker     Within the last 1 year\n"
     ]
    }
   ],
   "source": [
    "import pandas as pd\n",
    "import numpy as np\n",
    "\n",
    "# Define order of appliance age (older = larger number)\n",
    "age_order = {\n",
    "    'Within the last 1 year': 1,\n",
    "    'Within the last 1-5 years': 2,\n",
    "    'Wthin the last 1-5 years': 2,     # fix typo version\n",
    "    'Within the last 5-10 years': 3,\n",
    "    'Wthin the last 5-10 years': 3,    # fix typo version\n",
    "    'More than 10 years ago': 4\n",
    "}\n",
    "\n",
    "# Columns to check\n",
    "purchased_cols = ['purchased_time1', 'purchased_time2', 'purchased_time3', 'purchased_time4']\n",
    "\n",
    "# Convert categories to numeric according to hierarchy\n",
    "df_numeric = df[purchased_cols].apply(lambda col: col.map(age_order))\n",
    "\n",
    "# Find the oldest (maximum numeric value across columns)\n",
    "df['appliance_age_code'] = df_numeric.max(axis=1, skipna=True)\n",
    "\n",
    "# Map numeric code back to category name\n",
    "reverse_age_order = {v: k for k, v in age_order.items()}\n",
    "df['appliance_age'] = df['appliance_age_code'].map(reverse_age_order)\n",
    "\n",
    "# Keep only the required columns\n",
    "result = df[['household_id', 'appliance_name', 'appliance_age']].dropna(subset=['appliance_age']).reset_index(drop=True)\n",
    "\n",
    "print(result.head())"
   ]
  },
  {
   "cell_type": "markdown",
   "id": "4927cca1",
   "metadata": {},
   "source": [
    "#### AC, REF More than 5 years"
   ]
  },
  {
   "cell_type": "code",
   "execution_count": 28,
   "id": "1b03bb29",
   "metadata": {},
   "outputs": [],
   "source": [
    "# Define target appliances\n",
    "target_appliances = ['Air Conditioner', 'Refrigerator']\n",
    "\n",
    "# Define old or unknown age categories\n",
    "old_or_unknown = [\n",
    "    'Within the last 5-10 years',\n",
    "    'Wthin the last 5-10 years',\n",
    "    'More than 10 years ago'\n",
    "]\n",
    "\n",
    "# Filter rows for those appliances and ages (or NaN)\n",
    "filtered1 = result[\n",
    "    (result['appliance_name'].isin(target_appliances)) &\n",
    "    (result['appliance_age'].isin(old_or_unknown) | result['appliance_age'].isna())\n",
    "]\n",
    "\n",
    "# Get unique household IDs that meet the condition\n",
    "households_to_flag1 = filtered1['household_id'].unique()"
   ]
  },
  {
   "cell_type": "code",
   "execution_count": 29,
   "id": "7c0ac829",
   "metadata": {},
   "outputs": [
    {
     "data": {
      "text/html": [
       "<div>\n",
       "<style scoped>\n",
       "    .dataframe tbody tr th:only-of-type {\n",
       "        vertical-align: middle;\n",
       "    }\n",
       "\n",
       "    .dataframe tbody tr th {\n",
       "        vertical-align: top;\n",
       "    }\n",
       "\n",
       "    .dataframe thead th {\n",
       "        text-align: right;\n",
       "    }\n",
       "</style>\n",
       "<table border=\"1\" class=\"dataframe\">\n",
       "  <thead>\n",
       "    <tr style=\"text-align: right;\">\n",
       "      <th></th>\n",
       "      <th>household_id</th>\n",
       "    </tr>\n",
       "  </thead>\n",
       "  <tbody>\n",
       "    <tr>\n",
       "      <th>0</th>\n",
       "      <td>ID0528</td>\n",
       "    </tr>\n",
       "    <tr>\n",
       "      <th>1</th>\n",
       "      <td>ID2328</td>\n",
       "    </tr>\n",
       "    <tr>\n",
       "      <th>2</th>\n",
       "      <td>ID1146</td>\n",
       "    </tr>\n",
       "    <tr>\n",
       "      <th>3</th>\n",
       "      <td>ID2755</td>\n",
       "    </tr>\n",
       "    <tr>\n",
       "      <th>4</th>\n",
       "      <td>ID2663</td>\n",
       "    </tr>\n",
       "    <tr>\n",
       "      <th>...</th>\n",
       "      <td>...</td>\n",
       "    </tr>\n",
       "    <tr>\n",
       "      <th>1737</th>\n",
       "      <td>ID2496</td>\n",
       "    </tr>\n",
       "    <tr>\n",
       "      <th>1738</th>\n",
       "      <td>ID0320</td>\n",
       "    </tr>\n",
       "    <tr>\n",
       "      <th>1739</th>\n",
       "      <td>ID0373</td>\n",
       "    </tr>\n",
       "    <tr>\n",
       "      <th>1740</th>\n",
       "      <td>ID0160</td>\n",
       "    </tr>\n",
       "    <tr>\n",
       "      <th>1741</th>\n",
       "      <td>ID1667</td>\n",
       "    </tr>\n",
       "  </tbody>\n",
       "</table>\n",
       "<p>1742 rows × 1 columns</p>\n",
       "</div>"
      ],
      "text/plain": [
       "     household_id\n",
       "0          ID0528\n",
       "1          ID2328\n",
       "2          ID1146\n",
       "3          ID2755\n",
       "4          ID2663\n",
       "...           ...\n",
       "1737       ID2496\n",
       "1738       ID0320\n",
       "1739       ID0373\n",
       "1740       ID0160\n",
       "1741       ID1667\n",
       "\n",
       "[1742 rows x 1 columns]"
      ]
     },
     "execution_count": 29,
     "metadata": {},
     "output_type": "execute_result"
    }
   ],
   "source": [
    "households_to_flag1 = pd.DataFrame(households_to_flag1, columns=['household_id'])\n",
    "households_to_flag1"
   ]
  },
  {
   "cell_type": "code",
   "execution_count": 31,
   "id": "2eda6801",
   "metadata": {},
   "outputs": [
    {
     "name": "stdout",
     "output_type": "stream",
     "text": [
      "Number of common households: 116\n",
      "  household_ID\n",
      "0       ID3799\n",
      "1       ID1680\n",
      "2       ID0497\n",
      "3       ID3213\n",
      "4       ID0938\n"
     ]
    }
   ],
   "source": [
    "# Find intersection of household_IDs\n",
    "common_households = set(households_to_flag1['household_id']).intersection(set(ae_df['household_ID']))\n",
    "\n",
    "# Convert to DataFrame if you want to see or save it\n",
    "intersection_df = pd.DataFrame({'household_ID': list(common_households)})\n",
    "\n",
    "# Display results\n",
    "print(f\"Number of common households: {len(intersection_df)}\")\n",
    "print(intersection_df.head())"
   ]
  },
  {
   "cell_type": "code",
   "execution_count": 32,
   "id": "f82a157c",
   "metadata": {},
   "outputs": [],
   "source": [
    "import os\n",
    "import pandas as pd\n",
    "from sklearn.metrics import confusion_matrix, ConfusionMatrixDisplay\n",
    "import matplotlib.pyplot as plt\n",
    "import glob\n",
    "\n",
    "# ======================================================\n",
    "# 1️⃣ Load the ground truth anomalies (filtered_data)\n",
    "# ======================================================\n",
    "# Assuming filtered_data is already a DataFrame\n",
    "true_anomalies = set(households_to_flag1['household_id'].unique())"
   ]
  },
  {
   "cell_type": "code",
   "execution_count": 33,
   "id": "f72a8ed6",
   "metadata": {},
   "outputs": [],
   "source": [
    "\n",
    "predicted_anomalies = set(ae_df['household_ID'].unique())"
   ]
  },
  {
   "cell_type": "code",
   "execution_count": 34,
   "id": "1f94358b",
   "metadata": {},
   "outputs": [
    {
     "name": "stderr",
     "output_type": "stream",
     "text": [
      "/tmp/ipykernel_13574/4074882391.py:9: DtypeWarning: Columns (9,27) have mixed types. Specify dtype option on import or set low_memory=False.\n",
      "  df = pd.read_csv(file)\n",
      "/tmp/ipykernel_13574/4074882391.py:9: DtypeWarning: Columns (9) have mixed types. Specify dtype option on import or set low_memory=False.\n",
      "  df = pd.read_csv(file)\n",
      "/tmp/ipykernel_13574/4074882391.py:9: DtypeWarning: Columns (14,25,27) have mixed types. Specify dtype option on import or set low_memory=False.\n",
      "  df = pd.read_csv(file)\n",
      "/tmp/ipykernel_13574/4074882391.py:9: DtypeWarning: Columns (26) have mixed types. Specify dtype option on import or set low_memory=False.\n",
      "  df = pd.read_csv(file)\n"
     ]
    }
   ],
   "source": [
    "# ======================================================\n",
    "# 3️⃣ Load all households from 6-hour interval files\n",
    "# ======================================================\n",
    "folder_path = '/home/ranushi/test/Anomaly DetectionMethod/6hour_interval'\n",
    "all_files = glob.glob(os.path.join(folder_path, '*.csv'))\n",
    "\n",
    "all_households = set()\n",
    "for file in all_files:\n",
    "    df = pd.read_csv(file)\n",
    "    if 'household_ID' in df.columns:\n",
    "        all_households.update(df['household_ID'].unique())\n",
    "    else:\n",
    "        print(f\"⚠️ Skipping {file}, no 'household_ID' column found.\")\n",
    "\n",
    "# ======================================================\n",
    "# 4️⃣ Identify normal households (not in ground truth anomalies)\n",
    "# ======================================================\n",
    "normal_households = all_households - true_anomalies"
   ]
  },
  {
   "cell_type": "code",
   "execution_count": 35,
   "id": "c6974c0c",
   "metadata": {},
   "outputs": [],
   "source": [
    "# ======================================================\n",
    "# 5️⃣ Build labels for confusion matrix\n",
    "# ======================================================\n",
    "y_true = []\n",
    "y_pred = []\n",
    "\n",
    "for hh in all_households:\n",
    "    true_label = 1 if hh in true_anomalies else 0\n",
    "    pred_label = 1 if hh in predicted_anomalies else 0\n",
    "    y_true.append(true_label)\n",
    "    y_pred.append(pred_label)"
   ]
  },
  {
   "cell_type": "code",
   "execution_count": 36,
   "id": "9907fa3e",
   "metadata": {},
   "outputs": [
    {
     "name": "stdout",
     "output_type": "stream",
     "text": [
      "✅ Confusion Matrix:\n",
      "                   Predicted: Anomalous  Predicted: Normal\n",
      "Actual: Anomalous                   116                522\n",
      "Actual: Normal                      132               2180\n",
      "\n",
      "Metrics Summary:\n",
      "True Positives (TP): 116\n",
      "False Negatives (FN): 522\n",
      "False Positives (FP): 132\n",
      "True Negatives (TN): 2180\n"
     ]
    },
    {
     "data": {
      "image/png": "[encoded data removed]",
      "text/plain": [
       "<Figure size 640x480 with 2 Axes>"
      ]
     },
     "metadata": {},
     "output_type": "display_data"
    }
   ],
   "source": [
    "\n",
    "# ======================================================\n",
    "# 6️⃣ Compute confusion matrix\n",
    "# ======================================================\n",
    "cm = confusion_matrix(y_true, y_pred, labels=[1, 0])\n",
    "\n",
    "# Order: [[TP, FN], [FP, TN]]\n",
    "tp, fn, fp, tn = cm[0,0], cm[0,1], cm[1,0], cm[1,1]\n",
    "\n",
    "print(\"✅ Confusion Matrix:\")\n",
    "print(pd.DataFrame(cm,\n",
    "                   index=['Actual: Anomalous', 'Actual: Normal'],\n",
    "                   columns=['Predicted: Anomalous', 'Predicted: Normal']))\n",
    "print(\"\\nMetrics Summary:\")\n",
    "print(f\"True Positives (TP): {tp}\")\n",
    "print(f\"False Negatives (FN): {fn}\")\n",
    "print(f\"False Positives (FP): {fp}\")\n",
    "print(f\"True Negatives (TN): {tn}\")\n",
    "\n",
    "# ======================================================\n",
    "# 7️⃣ Visualize confusion matrix\n",
    "# ======================================================\n",
    "disp = ConfusionMatrixDisplay(confusion_matrix=cm,\n",
    "                              display_labels=['Anomalous', 'Normal'])\n",
    "disp.plot(cmap='Blues')\n",
    "plt.title(\"Confusion Matrix - Household Anomaly Detection\")\n",
    "plt.show()"
   ]
  },
  {
   "cell_type": "code",
   "execution_count": 37,
   "id": "b0cf1042",
   "metadata": {},
   "outputs": [
    {
     "name": "stdout",
     "output_type": "stream",
     "text": [
      "\n",
      "==================== METRICS SUMMARY ====================\n",
      "Accuracy : 0.778\n",
      "Precision: 0.468\n",
      "Recall   : 0.182\n",
      "F1 Score : 0.262\n",
      "==========================================================\n",
      "\n",
      "Detailed Classification Report:\n",
      "              precision    recall  f1-score   support\n",
      "\n",
      "      Normal      0.807     0.943     0.870      2312\n",
      "   Anomalous      0.468     0.182     0.262       638\n",
      "\n",
      "    accuracy                          0.778      2950\n",
      "   macro avg      0.637     0.562     0.566      2950\n",
      "weighted avg      0.733     0.778     0.738      2950\n",
      "\n"
     ]
    }
   ],
   "source": [
    "from sklearn.metrics import (\n",
    "    f1_score,\n",
    "    precision_score,\n",
    "    recall_score,\n",
    "    accuracy_score,\n",
    "    classification_report\n",
    ")\n",
    "\n",
    "# ======================================================\n",
    "# 6️⃣.1 Compute full performance metrics\n",
    "# ======================================================\n",
    "\n",
    "# Accuracy\n",
    "accuracy = accuracy_score(y_true, y_pred)\n",
    "\n",
    "# Precision, Recall, F1\n",
    "precision = precision_score(y_true, y_pred)\n",
    "recall = recall_score(y_true, y_pred)\n",
    "f1 = f1_score(y_true, y_pred)\n",
    "\n",
    "# Classification report\n",
    "report = classification_report(\n",
    "    y_true,\n",
    "    y_pred,\n",
    "    target_names=[\"Normal\", \"Anomalous\"],\n",
    "    digits=3\n",
    ")\n",
    "\n",
    "# Print results\n",
    "print(\"\\n==================== METRICS SUMMARY ====================\")\n",
    "print(f\"Accuracy : {accuracy:.3f}\")\n",
    "print(f\"Precision: {precision:.3f}\")\n",
    "print(f\"Recall   : {recall:.3f}\")\n",
    "print(f\"F1 Score : {f1:.3f}\")\n",
    "print(\"==========================================================\")\n",
    "print(\"\\nDetailed Classification Report:\")\n",
    "print(report)"
   ]
  },
  {
   "cell_type": "markdown",
   "id": "65ffdfe9",
   "metadata": {},
   "source": [
    "#### AC, REF more than 10 years"
   ]
  },
  {
   "cell_type": "code",
   "execution_count": 38,
   "id": "ba3269b0",
   "metadata": {},
   "outputs": [],
   "source": [
    "# Define target appliances\n",
    "target_appliances = ['Air Conditioner', 'Refrigerator']\n",
    "\n",
    "# Define old or unknown age categories\n",
    "old_or_unknown = [\n",
    "    'More than 10 years ago'\n",
    "]\n",
    "\n",
    "# Filter rows for those appliances and ages (or NaN)\n",
    "filtered2 = result[\n",
    "    (result['appliance_name'].isin(target_appliances)) &\n",
    "    (result['appliance_age'].isin(old_or_unknown) | result['appliance_age'].isna())\n",
    "]\n",
    "\n",
    "# Get unique household IDs that meet the condition\n",
    "households_to_flag2 = filtered2['household_id'].unique()"
   ]
  },
  {
   "cell_type": "code",
   "execution_count": 39,
   "id": "9412da44",
   "metadata": {},
   "outputs": [
    {
     "data": {
      "text/html": [
       "<div>\n",
       "<style scoped>\n",
       "    .dataframe tbody tr th:only-of-type {\n",
       "        vertical-align: middle;\n",
       "    }\n",
       "\n",
       "    .dataframe tbody tr th {\n",
       "        vertical-align: top;\n",
       "    }\n",
       "\n",
       "    .dataframe thead th {\n",
       "        text-align: right;\n",
       "    }\n",
       "</style>\n",
       "<table border=\"1\" class=\"dataframe\">\n",
       "  <thead>\n",
       "    <tr style=\"text-align: right;\">\n",
       "      <th></th>\n",
       "      <th>household_id</th>\n",
       "    </tr>\n",
       "  </thead>\n",
       "  <tbody>\n",
       "    <tr>\n",
       "      <th>0</th>\n",
       "      <td>ID0528</td>\n",
       "    </tr>\n",
       "    <tr>\n",
       "      <th>1</th>\n",
       "      <td>ID1146</td>\n",
       "    </tr>\n",
       "    <tr>\n",
       "      <th>2</th>\n",
       "      <td>ID2663</td>\n",
       "    </tr>\n",
       "    <tr>\n",
       "      <th>3</th>\n",
       "      <td>ID0016</td>\n",
       "    </tr>\n",
       "    <tr>\n",
       "      <th>4</th>\n",
       "      <td>ID0055</td>\n",
       "    </tr>\n",
       "    <tr>\n",
       "      <th>...</th>\n",
       "      <td>...</td>\n",
       "    </tr>\n",
       "    <tr>\n",
       "      <th>891</th>\n",
       "      <td>ID3731</td>\n",
       "    </tr>\n",
       "    <tr>\n",
       "      <th>892</th>\n",
       "      <td>ID2272</td>\n",
       "    </tr>\n",
       "    <tr>\n",
       "      <th>893</th>\n",
       "      <td>ID1349</td>\n",
       "    </tr>\n",
       "    <tr>\n",
       "      <th>894</th>\n",
       "      <td>ID0320</td>\n",
       "    </tr>\n",
       "    <tr>\n",
       "      <th>895</th>\n",
       "      <td>ID0373</td>\n",
       "    </tr>\n",
       "  </tbody>\n",
       "</table>\n",
       "<p>896 rows × 1 columns</p>\n",
       "</div>"
      ],
      "text/plain": [
       "    household_id\n",
       "0         ID0528\n",
       "1         ID1146\n",
       "2         ID2663\n",
       "3         ID0016\n",
       "4         ID0055\n",
       "..           ...\n",
       "891       ID3731\n",
       "892       ID2272\n",
       "893       ID1349\n",
       "894       ID0320\n",
       "895       ID0373\n",
       "\n",
       "[896 rows x 1 columns]"
      ]
     },
     "execution_count": 39,
     "metadata": {},
     "output_type": "execute_result"
    }
   ],
   "source": [
    "households_to_flag2 = pd.DataFrame(households_to_flag2, columns=['household_id'])\n",
    "households_to_flag2"
   ]
  },
  {
   "cell_type": "code",
   "execution_count": 40,
   "id": "1576a1cf",
   "metadata": {},
   "outputs": [
    {
     "name": "stdout",
     "output_type": "stream",
     "text": [
      "Number of common households: 60\n",
      "  household_ID\n",
      "0       ID1019\n",
      "1       ID3799\n",
      "2       ID2077\n",
      "3       ID0796\n",
      "4       ID0701\n"
     ]
    }
   ],
   "source": [
    "# Find intersection of household_IDs\n",
    "common_households = set(households_to_flag2['household_id']).intersection(set(ae_df['household_ID']))\n",
    "\n",
    "# Convert to DataFrame if you want to see or save it\n",
    "intersection_df = pd.DataFrame({'household_ID': list(common_households)})\n",
    "\n",
    "# Display results\n",
    "print(f\"Number of common households: {len(intersection_df)}\")\n",
    "print(intersection_df.head())"
   ]
  },
  {
   "cell_type": "code",
   "execution_count": 41,
   "id": "9ee2c4f5",
   "metadata": {},
   "outputs": [],
   "source": [
    "import os\n",
    "import pandas as pd\n",
    "from sklearn.metrics import confusion_matrix, ConfusionMatrixDisplay\n",
    "import matplotlib.pyplot as plt\n",
    "import glob\n",
    "\n",
    "# ======================================================\n",
    "# 1️⃣ Load the ground truth anomalies (filtered_data)\n",
    "# ======================================================\n",
    "# Assuming filtered_data is already a DataFrame\n",
    "true_anomalies = set(households_to_flag2['household_id'].unique())"
   ]
  },
  {
   "cell_type": "code",
   "execution_count": 43,
   "id": "95972d96",
   "metadata": {},
   "outputs": [],
   "source": [
    "# ======================================================\n",
    "# 4️⃣ Identify normal households (not in ground truth anomalies)\n",
    "# ======================================================\n",
    "normal_households = all_households - true_anomalies\n",
    "# ======================================================\n",
    "# 5️⃣ Build labels for confusion matrix\n",
    "# ======================================================\n",
    "y_true = []\n",
    "y_pred = []\n",
    "\n",
    "for hh in all_households:\n",
    "    true_label = 1 if hh in true_anomalies else 0\n",
    "    pred_label = 1 if hh in predicted_anomalies else 0\n",
    "    y_true.append(true_label)\n",
    "    y_pred.append(pred_label)"
   ]
  },
  {
   "cell_type": "code",
   "execution_count": 44,
   "id": "8d0c14bd",
   "metadata": {},
   "outputs": [
    {
     "name": "stdout",
     "output_type": "stream",
     "text": [
      "✅ Confusion Matrix:\n",
      "                   Predicted: Anomalous  Predicted: Normal\n",
      "Actual: Anomalous                    60                266\n",
      "Actual: Normal                      188               2436\n",
      "\n",
      "Metrics Summary:\n",
      "True Positives (TP): 60\n",
      "False Negatives (FN): 266\n",
      "False Positives (FP): 188\n",
      "True Negatives (TN): 2436\n"
     ]
    },
    {
     "data": {
      "image/png": "[encoded data removed]",
      "text/plain": [
       "<Figure size 640x480 with 2 Axes>"
      ]
     },
     "metadata": {},
     "output_type": "display_data"
    }
   ],
   "source": [
    "\n",
    "# ======================================================\n",
    "# 6️⃣ Compute confusion matrix\n",
    "# ======================================================\n",
    "cm = confusion_matrix(y_true, y_pred, labels=[1, 0])\n",
    "\n",
    "# Order: [[TP, FN], [FP, TN]]\n",
    "tp, fn, fp, tn = cm[0,0], cm[0,1], cm[1,0], cm[1,1]\n",
    "\n",
    "print(\"✅ Confusion Matrix:\")\n",
    "print(pd.DataFrame(cm,\n",
    "                   index=['Actual: Anomalous', 'Actual: Normal'],\n",
    "                   columns=['Predicted: Anomalous', 'Predicted: Normal']))\n",
    "print(\"\\nMetrics Summary:\")\n",
    "print(f\"True Positives (TP): {tp}\")\n",
    "print(f\"False Negatives (FN): {fn}\")\n",
    "print(f\"False Positives (FP): {fp}\")\n",
    "print(f\"True Negatives (TN): {tn}\")\n",
    "\n",
    "# ======================================================\n",
    "# 7️⃣ Visualize confusion matrix\n",
    "# ======================================================\n",
    "disp = ConfusionMatrixDisplay(confusion_matrix=cm,\n",
    "                              display_labels=['Anomalous', 'Normal'])\n",
    "disp.plot(cmap='Blues')\n",
    "plt.title(\"Confusion Matrix - Household Anomaly Detection\")\n",
    "plt.show()"
   ]
  },
  {
   "cell_type": "code",
   "execution_count": 45,
   "id": "f23ff94a",
   "metadata": {},
   "outputs": [
    {
     "name": "stdout",
     "output_type": "stream",
     "text": [
      "\n",
      "==================== METRICS SUMMARY ====================\n",
      "Accuracy : 0.846\n",
      "Precision: 0.242\n",
      "Recall   : 0.184\n",
      "F1 Score : 0.209\n",
      "==========================================================\n",
      "\n",
      "Detailed Classification Report:\n",
      "              precision    recall  f1-score   support\n",
      "\n",
      "      Normal      0.902     0.928     0.915      2624\n",
      "   Anomalous      0.242     0.184     0.209       326\n",
      "\n",
      "    accuracy                          0.846      2950\n",
      "   macro avg      0.572     0.556     0.562      2950\n",
      "weighted avg      0.829     0.846     0.837      2950\n",
      "\n"
     ]
    }
   ],
   "source": [
    "from sklearn.metrics import (\n",
    "    f1_score,\n",
    "    precision_score,\n",
    "    recall_score,\n",
    "    accuracy_score,\n",
    "    classification_report\n",
    ")\n",
    "\n",
    "# ======================================================\n",
    "# 6️⃣.1 Compute full performance metrics\n",
    "# ======================================================\n",
    "\n",
    "# Accuracy\n",
    "accuracy = accuracy_score(y_true, y_pred)\n",
    "\n",
    "# Precision, Recall, F1\n",
    "precision = precision_score(y_true, y_pred)\n",
    "recall = recall_score(y_true, y_pred)\n",
    "f1 = f1_score(y_true, y_pred)\n",
    "\n",
    "# Classification report\n",
    "report = classification_report(\n",
    "    y_true,\n",
    "    y_pred,\n",
    "    target_names=[\"Normal\", \"Anomalous\"],\n",
    "    digits=3\n",
    ")\n",
    "\n",
    "# Print results\n",
    "print(\"\\n==================== METRICS SUMMARY ====================\")\n",
    "print(f\"Accuracy : {accuracy:.3f}\")\n",
    "print(f\"Precision: {precision:.3f}\")\n",
    "print(f\"Recall   : {recall:.3f}\")\n",
    "print(f\"F1 Score : {f1:.3f}\")\n",
    "print(\"==========================================================\")\n",
    "print(\"\\nDetailed Classification Report:\")\n",
    "print(report)"
   ]
  },
  {
   "cell_type": "code",
   "execution_count": 46,
   "id": "57ef8752",
   "metadata": {},
   "outputs": [],
   "source": [
    "import pandas as pd\n",
    "\n",
    "# assuming your dataframe is called df\n",
    "\n",
    "# clean up common spelling variations (optional but useful)\n",
    "result['appliance_age'] = result['appliance_age'].replace({\n",
    "    'Wthin the last 5-10 years': 'Within the last 5-10 years'\n",
    "})\n",
    "\n",
    "# condition for Air Conditioners\n",
    "cond_aircon = (\n",
    "    (result['appliance_name'].str.lower().str.strip() == 'air conditioner') &\n",
    "    (result['appliance_age'].isin([\n",
    "        'Within the last 5-10 years',\n",
    "        'More than 10 years ago'\n",
    "    ]))\n",
    ")\n",
    "\n",
    "# condition for Refrigerator\n",
    "cond_fridge = (\n",
    "    (result['appliance_name'].str.lower().str.strip() == 'refrigerator') &\n",
    "    (result['appliance_age'] == 'More than 10 years ago')\n",
    ")\n",
    "\n",
    "# combine both conditions\n",
    "filtered_df3 = result[cond_aircon | cond_fridge]\n",
    "\n",
    "# if you want only unique households that meet the criteria:\n",
    "households_filtered3 = filtered_df3['household_id'].unique()\n",
    "\n",
    "# # optionally filter original df to show all appliances of those households\n",
    "# households_df3 = result[result['household_id'].isin(households_filtered3)]"
   ]
  },
  {
   "cell_type": "code",
   "execution_count": 47,
   "id": "33082959",
   "metadata": {},
   "outputs": [],
   "source": [
    "households_filtered3 = pd.DataFrame(households_filtered3, columns=['household_id'])"
   ]
  },
  {
   "cell_type": "code",
   "execution_count": 48,
   "id": "b3c2289e",
   "metadata": {},
   "outputs": [
    {
     "name": "stdout",
     "output_type": "stream",
     "text": [
      "Number of common households: 60\n",
      "  household_ID\n",
      "0       ID1019\n",
      "1       ID3799\n",
      "2       ID2077\n",
      "3       ID0796\n",
      "4       ID0701\n"
     ]
    }
   ],
   "source": [
    "# Find intersection of household_IDs\n",
    "common_households = set(households_filtered3['household_id']).intersection(set(ae_df['household_ID']))\n",
    "\n",
    "# Convert to DataFrame if you want to see or save it\n",
    "intersection_df = pd.DataFrame({'household_ID': list(common_households)})\n",
    "\n",
    "# Display results\n",
    "print(f\"Number of common households: {len(intersection_df)}\")\n",
    "print(intersection_df.head())"
   ]
  },
  {
   "cell_type": "code",
   "execution_count": 49,
   "id": "e68dc816",
   "metadata": {},
   "outputs": [],
   "source": [
    "import os\n",
    "import pandas as pd\n",
    "from sklearn.metrics import confusion_matrix, ConfusionMatrixDisplay\n",
    "import matplotlib.pyplot as plt\n",
    "import glob\n",
    "\n",
    "# ======================================================\n",
    "# 1️⃣ Load the ground truth anomalies (filtered_data)\n",
    "# ======================================================\n",
    "# Assuming filtered_data is already a DataFrame\n",
    "true_anomalies = set(households_filtered3['household_id'].unique())\n",
    "# ======================================================\n",
    "# 4️⃣ Identify normal households (not in ground truth anomalies)\n",
    "# ======================================================\n",
    "normal_households = all_households - true_anomalies\n",
    "# ======================================================\n",
    "# 5️⃣ Build labels for confusion matrix\n",
    "# ======================================================\n",
    "y_true = []\n",
    "y_pred = []\n",
    "\n",
    "for hh in all_households:\n",
    "    true_label = 1 if hh in true_anomalies else 0\n",
    "    pred_label = 1 if hh in predicted_anomalies else 0\n",
    "    y_true.append(true_label)\n",
    "    y_pred.append(pred_label)"
   ]
  },
  {
   "cell_type": "code",
   "execution_count": 50,
   "id": "5bb942af",
   "metadata": {},
   "outputs": [
    {
     "name": "stdout",
     "output_type": "stream",
     "text": [
      "✅ Confusion Matrix:\n",
      "                   Predicted: Anomalous  Predicted: Normal\n",
      "Actual: Anomalous                    60                267\n",
      "Actual: Normal                      188               2435\n",
      "\n",
      "Metrics Summary:\n",
      "True Positives (TP): 60\n",
      "False Negatives (FN): 267\n",
      "False Positives (FP): 188\n",
      "True Negatives (TN): 2435\n"
     ]
    },
    {
     "data": {
      "image/png": "[encoded data removed]",
      "text/plain": [
       "<Figure size 640x480 with 2 Axes>"
      ]
     },
     "metadata": {},
     "output_type": "display_data"
    }
   ],
   "source": [
    "\n",
    "# ======================================================\n",
    "# 6️⃣ Compute confusion matrix\n",
    "# ======================================================\n",
    "cm = confusion_matrix(y_true, y_pred, labels=[1, 0])\n",
    "\n",
    "# Order: [[TP, FN], [FP, TN]]\n",
    "tp, fn, fp, tn = cm[0,0], cm[0,1], cm[1,0], cm[1,1]\n",
    "\n",
    "print(\"✅ Confusion Matrix:\")\n",
    "print(pd.DataFrame(cm,\n",
    "                   index=['Actual: Anomalous', 'Actual: Normal'],\n",
    "                   columns=['Predicted: Anomalous', 'Predicted: Normal']))\n",
    "print(\"\\nMetrics Summary:\")\n",
    "print(f\"True Positives (TP): {tp}\")\n",
    "print(f\"False Negatives (FN): {fn}\")\n",
    "print(f\"False Positives (FP): {fp}\")\n",
    "print(f\"True Negatives (TN): {tn}\")\n",
    "\n",
    "# ======================================================\n",
    "# 7️⃣ Visualize confusion matrix\n",
    "# ======================================================\n",
    "disp = ConfusionMatrixDisplay(confusion_matrix=cm,\n",
    "                              display_labels=['Anomalous', 'Normal'])\n",
    "disp.plot(cmap='Blues')\n",
    "plt.title(\"Confusion Matrix - Household Anomaly Detection\")\n",
    "plt.show()"
   ]
  },
  {
   "cell_type": "code",
   "execution_count": 51,
   "id": "7219bc91",
   "metadata": {},
   "outputs": [
    {
     "name": "stdout",
     "output_type": "stream",
     "text": [
      "\n",
      "==================== METRICS SUMMARY ====================\n",
      "Accuracy : 0.846\n",
      "Precision: 0.242\n",
      "Recall   : 0.183\n",
      "F1 Score : 0.209\n",
      "==========================================================\n",
      "\n",
      "Detailed Classification Report:\n",
      "              precision    recall  f1-score   support\n",
      "\n",
      "      Normal      0.901     0.928     0.915      2623\n",
      "   Anomalous      0.242     0.183     0.209       327\n",
      "\n",
      "    accuracy                          0.846      2950\n",
      "   macro avg      0.572     0.556     0.562      2950\n",
      "weighted avg      0.828     0.846     0.836      2950\n",
      "\n"
     ]
    }
   ],
   "source": [
    "from sklearn.metrics import (\n",
    "    f1_score,\n",
    "    precision_score,\n",
    "    recall_score,\n",
    "    accuracy_score,\n",
    "    classification_report\n",
    ")\n",
    "\n",
    "# ======================================================\n",
    "# 6️⃣.1 Compute full performance metrics\n",
    "# ======================================================\n",
    "\n",
    "# Accuracy\n",
    "accuracy = accuracy_score(y_true, y_pred)\n",
    "\n",
    "# Precision, Recall, F1\n",
    "precision = precision_score(y_true, y_pred)\n",
    "recall = recall_score(y_true, y_pred)\n",
    "f1 = f1_score(y_true, y_pred)\n",
    "\n",
    "# Classification report\n",
    "report = classification_report(\n",
    "    y_true,\n",
    "    y_pred,\n",
    "    target_names=[\"Normal\", \"Anomalous\"],\n",
    "    digits=3\n",
    ")\n",
    "\n",
    "# Print results\n",
    "print(\"\\n==================== METRICS SUMMARY ====================\")\n",
    "print(f\"Accuracy : {accuracy:.3f}\")\n",
    "print(f\"Precision: {precision:.3f}\")\n",
    "print(f\"Recall   : {recall:.3f}\")\n",
    "print(f\"F1 Score : {f1:.3f}\")\n",
    "print(\"==========================================================\")\n",
    "print(\"\\nDetailed Classification Report:\")\n",
    "print(report)"
   ]
  },
  {
   "cell_type": "markdown",
   "id": "dac70da9",
   "metadata": {},
   "source": [
    "#### ac>10,ref>5"
   ]
  },
  {
   "cell_type": "code",
   "execution_count": 52,
   "id": "1faac354",
   "metadata": {},
   "outputs": [],
   "source": [
    "import pandas as pd\n",
    "\n",
    "# assuming your dataframe is called df\n",
    "\n",
    "# clean up common spelling variations (optional but useful)\n",
    "result['appliance_age'] = result['appliance_age'].replace({\n",
    "    'Wthin the last 5-10 years': 'Within the last 5-10 years'\n",
    "})\n",
    "\n",
    "# condition for Air Conditioners\n",
    "cond_aircon = (\n",
    "    (result['appliance_name'].str.lower().str.strip() == 'air conditioner') &\n",
    "    (result['appliance_age'].isin([\n",
    "        'More than 10 years ago'\n",
    "    ]))\n",
    ")\n",
    "\n",
    "# condition for Refrigerator\n",
    "cond_fridge = (\n",
    "    (result['appliance_name'].str.lower().str.strip() == 'refrigerator') &\n",
    "    (result['appliance_age'].isin(['More than 10 years ago','Within the last 5-10 years']))\n",
    ")\n",
    "\n",
    "# combine both conditions\n",
    "filtered_df4 = result[cond_aircon | cond_fridge]\n",
    "\n",
    "# if you want only unique households that meet the criteria:\n",
    "households_filtered4 = filtered_df4['household_id'].unique()"
   ]
  },
  {
   "cell_type": "code",
   "execution_count": 53,
   "id": "69c54d81",
   "metadata": {},
   "outputs": [],
   "source": [
    "households_filtered4 = pd.DataFrame(households_filtered4, columns=['household_id'])"
   ]
  },
  {
   "cell_type": "code",
   "execution_count": 54,
   "id": "b3a82c3e",
   "metadata": {},
   "outputs": [
    {
     "name": "stdout",
     "output_type": "stream",
     "text": [
      "Number of common households: 116\n",
      "  household_ID\n",
      "0       ID3799\n",
      "1       ID1680\n",
      "2       ID0497\n",
      "3       ID3213\n",
      "4       ID0938\n"
     ]
    }
   ],
   "source": [
    "# Find intersection of household_IDs\n",
    "common_households = set(households_filtered4['household_id']).intersection(set(ae_df['household_ID']))\n",
    "\n",
    "# Convert to DataFrame if you want to see or save it\n",
    "intersection_df = pd.DataFrame({'household_ID': list(common_households)})\n",
    "\n",
    "# Display results\n",
    "print(f\"Number of common households: {len(intersection_df)}\")\n",
    "print(intersection_df.head())"
   ]
  },
  {
   "cell_type": "code",
   "execution_count": 55,
   "id": "71ba548d",
   "metadata": {},
   "outputs": [
    {
     "name": "stdout",
     "output_type": "stream",
     "text": [
      "✅ Confusion Matrix:\n",
      "                   Predicted: Anomalous  Predicted: Normal\n",
      "Actual: Anomalous                   116                521\n",
      "Actual: Normal                      132               2181\n",
      "\n",
      "Metrics Summary:\n",
      "True Positives (TP): 116\n",
      "False Negatives (FN): 521\n",
      "False Positives (FP): 132\n",
      "True Negatives (TN): 2181\n"
     ]
    },
    {
     "data": {
      "image/png": "[encoded data removed]",
      "text/plain": [
       "<Figure size 640x480 with 2 Axes>"
      ]
     },
     "metadata": {},
     "output_type": "display_data"
    }
   ],
   "source": [
    "import os\n",
    "import pandas as pd\n",
    "from sklearn.metrics import confusion_matrix, ConfusionMatrixDisplay\n",
    "import matplotlib.pyplot as plt\n",
    "import glob\n",
    "\n",
    "# ======================================================\n",
    "# 1️⃣ Load the ground truth anomalies (filtered_data)\n",
    "# ======================================================\n",
    "# Assuming filtered_data is already a DataFrame\n",
    "true_anomalies = set(households_filtered4['household_id'].unique())\n",
    "# ======================================================\n",
    "# 4️⃣ Identify normal households (not in ground truth anomalies)\n",
    "# ======================================================\n",
    "normal_households = all_households - true_anomalies\n",
    "\n",
    "# ======================================================\n",
    "# 5️⃣ Build labels for confusion matrix\n",
    "# ======================================================\n",
    "y_true = []\n",
    "y_pred = []\n",
    "\n",
    "for hh in all_households:\n",
    "    true_label = 1 if hh in true_anomalies else 0\n",
    "    pred_label = 1 if hh in predicted_anomalies else 0\n",
    "    y_true.append(true_label)\n",
    "    y_pred.append(pred_label)\n",
    "\n",
    "\n",
    "# ======================================================\n",
    "# 6️⃣ Compute confusion matrix\n",
    "# ======================================================\n",
    "cm = confusion_matrix(y_true, y_pred, labels=[1, 0])\n",
    "\n",
    "# Order: [[TP, FN], [FP, TN]]\n",
    "tp, fn, fp, tn = cm[0,0], cm[0,1], cm[1,0], cm[1,1]\n",
    "\n",
    "print(\"✅ Confusion Matrix:\")\n",
    "print(pd.DataFrame(cm,\n",
    "                   index=['Actual: Anomalous', 'Actual: Normal'],\n",
    "                   columns=['Predicted: Anomalous', 'Predicted: Normal']))\n",
    "print(\"\\nMetrics Summary:\")\n",
    "print(f\"True Positives (TP): {tp}\")\n",
    "print(f\"False Negatives (FN): {fn}\")\n",
    "print(f\"False Positives (FP): {fp}\")\n",
    "print(f\"True Negatives (TN): {tn}\")\n",
    "\n",
    "# ======================================================\n",
    "# 7️⃣ Visualize confusion matrix\n",
    "# ======================================================\n",
    "disp = ConfusionMatrixDisplay(confusion_matrix=cm,\n",
    "                              display_labels=['Anomalous', 'Normal'])\n",
    "disp.plot(cmap='Blues')\n",
    "plt.title(\"Confusion Matrix - Household Anomaly Detection\")\n",
    "plt.show()\n"
   ]
  },
  {
   "cell_type": "code",
   "execution_count": 56,
   "id": "18c437cd",
   "metadata": {},
   "outputs": [
    {
     "name": "stdout",
     "output_type": "stream",
     "text": [
      "\n",
      "==================== METRICS SUMMARY ====================\n",
      "Accuracy : 0.779\n",
      "Precision: 0.468\n",
      "Recall   : 0.182\n",
      "F1 Score : 0.262\n",
      "==========================================================\n",
      "\n",
      "Detailed Classification Report:\n",
      "              precision    recall  f1-score   support\n",
      "\n",
      "      Normal      0.807     0.943     0.870      2313\n",
      "   Anomalous      0.468     0.182     0.262       637\n",
      "\n",
      "    accuracy                          0.779      2950\n",
      "   macro avg      0.637     0.563     0.566      2950\n",
      "weighted avg      0.734     0.779     0.739      2950\n",
      "\n"
     ]
    }
   ],
   "source": [
    "from sklearn.metrics import (\n",
    "    f1_score,\n",
    "    precision_score,\n",
    "    recall_score,\n",
    "    accuracy_score,\n",
    "    classification_report\n",
    ")\n",
    "\n",
    "# ======================================================\n",
    "# 6️⃣.1 Compute full performance metrics\n",
    "# ======================================================\n",
    "\n",
    "# Accuracy\n",
    "accuracy = accuracy_score(y_true, y_pred)\n",
    "\n",
    "# Precision, Recall, F1\n",
    "precision = precision_score(y_true, y_pred)\n",
    "recall = recall_score(y_true, y_pred)\n",
    "f1 = f1_score(y_true, y_pred)\n",
    "\n",
    "# Classification report\n",
    "report = classification_report(\n",
    "    y_true,\n",
    "    y_pred,\n",
    "    target_names=[\"Normal\", \"Anomalous\"],\n",
    "    digits=3\n",
    ")\n",
    "\n",
    "# Print results\n",
    "print(\"\\n==================== METRICS SUMMARY ====================\")\n",
    "print(f\"Accuracy : {accuracy:.3f}\")\n",
    "print(f\"Precision: {precision:.3f}\")\n",
    "print(f\"Recall   : {recall:.3f}\")\n",
    "print(f\"F1 Score : {f1:.3f}\")\n",
    "print(\"==========================================================\")\n",
    "print(\"\\nDetailed Classification Report:\")\n",
    "print(report)"
   ]
  },
  {
   "cell_type": "code",
   "execution_count": 57,
   "id": "beefc957",
   "metadata": {},
   "outputs": [],
   "source": [
    "survey_data = pd.read_csv('/home/ranushi/test/Anomaly DetectionMethod/wave_1/w1_household_information_and_history.csv')"
   ]
  },
  {
   "cell_type": "code",
   "execution_count": 58,
   "id": "b3ebc358",
   "metadata": {},
   "outputs": [
    {
     "data": {
      "text/plain": [
       "built_year_of_the_house\n",
       "2000-2009                918\n",
       "2010-2019                758\n",
       "Before 1980              740\n",
       "1990-1999                615\n",
       "1980-1989                482\n",
       "Don't know               325\n",
       "In 2020 or After 2020    225\n",
       "Name: count, dtype: int64"
      ]
     },
     "execution_count": 58,
     "metadata": {},
     "output_type": "execute_result"
    }
   ],
   "source": [
    "survey_data = survey_data[['household_ID', 'built_year_of_the_house']]\n",
    "survey_data['built_year_of_the_house'].value_counts()"
   ]
  },
  {
   "cell_type": "code",
   "execution_count": 59,
   "id": "06de2bda",
   "metadata": {},
   "outputs": [],
   "source": [
    "# assuming your dataframe is called survey_data\n",
    "\n",
    "target_years = ['Before 1980', '1990-1999', '1980-1989', \"Don't know\"]\n",
    "\n",
    "filtered_survey = survey_data[survey_data['built_year_of_the_house'].isin(target_years)]\n",
    "\n",
    "# if you just want the IDs of those households:\n",
    "households_filtered5 = filtered_survey['household_ID'].unique()\n"
   ]
  },
  {
   "cell_type": "code",
   "execution_count": 60,
   "id": "84cb619e",
   "metadata": {},
   "outputs": [
    {
     "data": {
      "text/html": [
       "<div>\n",
       "<style scoped>\n",
       "    .dataframe tbody tr th:only-of-type {\n",
       "        vertical-align: middle;\n",
       "    }\n",
       "\n",
       "    .dataframe tbody tr th {\n",
       "        vertical-align: top;\n",
       "    }\n",
       "\n",
       "    .dataframe thead th {\n",
       "        text-align: right;\n",
       "    }\n",
       "</style>\n",
       "<table border=\"1\" class=\"dataframe\">\n",
       "  <thead>\n",
       "    <tr style=\"text-align: right;\">\n",
       "      <th></th>\n",
       "      <th>household_ID</th>\n",
       "    </tr>\n",
       "  </thead>\n",
       "  <tbody>\n",
       "    <tr>\n",
       "      <th>0</th>\n",
       "      <td>ID0002</td>\n",
       "    </tr>\n",
       "    <tr>\n",
       "      <th>1</th>\n",
       "      <td>ID0003</td>\n",
       "    </tr>\n",
       "    <tr>\n",
       "      <th>2</th>\n",
       "      <td>ID0010</td>\n",
       "    </tr>\n",
       "    <tr>\n",
       "      <th>3</th>\n",
       "      <td>ID0013</td>\n",
       "    </tr>\n",
       "    <tr>\n",
       "      <th>4</th>\n",
       "      <td>ID0019</td>\n",
       "    </tr>\n",
       "    <tr>\n",
       "      <th>...</th>\n",
       "      <td>...</td>\n",
       "    </tr>\n",
       "    <tr>\n",
       "      <th>2157</th>\n",
       "      <td>ID4054</td>\n",
       "    </tr>\n",
       "    <tr>\n",
       "      <th>2158</th>\n",
       "      <td>ID4057</td>\n",
       "    </tr>\n",
       "    <tr>\n",
       "      <th>2159</th>\n",
       "      <td>ID4058</td>\n",
       "    </tr>\n",
       "    <tr>\n",
       "      <th>2160</th>\n",
       "      <td>ID4060</td>\n",
       "    </tr>\n",
       "    <tr>\n",
       "      <th>2161</th>\n",
       "      <td>ID4062</td>\n",
       "    </tr>\n",
       "  </tbody>\n",
       "</table>\n",
       "<p>2162 rows × 1 columns</p>\n",
       "</div>"
      ],
      "text/plain": [
       "     household_ID\n",
       "0          ID0002\n",
       "1          ID0003\n",
       "2          ID0010\n",
       "3          ID0013\n",
       "4          ID0019\n",
       "...           ...\n",
       "2157       ID4054\n",
       "2158       ID4057\n",
       "2159       ID4058\n",
       "2160       ID4060\n",
       "2161       ID4062\n",
       "\n",
       "[2162 rows x 1 columns]"
      ]
     },
     "execution_count": 60,
     "metadata": {},
     "output_type": "execute_result"
    }
   ],
   "source": [
    "households_filtered5 = pd.DataFrame(households_filtered5, columns=['household_ID'])\n",
    "households_filtered5"
   ]
  },
  {
   "cell_type": "code",
   "execution_count": 61,
   "id": "1fea3796",
   "metadata": {},
   "outputs": [
    {
     "name": "stdout",
     "output_type": "stream",
     "text": [
      "Number of common households: 122\n",
      "  household_ID\n",
      "0       ID3297\n",
      "1       ID3799\n",
      "2       ID1670\n",
      "3       ID1430\n",
      "4       ID3213\n"
     ]
    }
   ],
   "source": [
    "# Find intersection of household_IDs\n",
    "common_households = set(households_filtered5['household_ID']).intersection(set(ae_df['household_ID']))\n",
    "\n",
    "# Convert to DataFrame if you want to see or save it\n",
    "intersection_df = pd.DataFrame({'household_ID': list(common_households)})\n",
    "\n",
    "# Display results\n",
    "print(f\"Number of common households: {len(intersection_df)}\")\n",
    "print(intersection_df.head())"
   ]
  },
  {
   "cell_type": "code",
   "execution_count": 62,
   "id": "2e6f8957",
   "metadata": {},
   "outputs": [],
   "source": [
    "import os\n",
    "import pandas as pd\n",
    "from sklearn.metrics import confusion_matrix, ConfusionMatrixDisplay\n",
    "import matplotlib.pyplot as plt\n",
    "import glob\n",
    "\n",
    "# ======================================================\n",
    "# 1️⃣ Load the ground truth anomalies (filtered_data)\n",
    "# ======================================================\n",
    "# Assuming filtered_data is already a DataFrame\n",
    "true_anomalies = set(households_filtered5['household_ID'].unique())"
   ]
  },
  {
   "cell_type": "code",
   "execution_count": 63,
   "id": "d01b949d",
   "metadata": {},
   "outputs": [
    {
     "name": "stdout",
     "output_type": "stream",
     "text": [
      "✅ Confusion Matrix:\n",
      "                   Predicted: Anomalous  Predicted: Normal\n",
      "Actual: Anomalous                   122                651\n",
      "Actual: Normal                      126               2051\n",
      "\n",
      "Metrics Summary:\n",
      "True Positives (TP): 122\n",
      "False Negatives (FN): 651\n",
      "False Positives (FP): 126\n",
      "True Negatives (TN): 2051\n"
     ]
    },
    {
     "data": {
      "image/png": "[encoded data removed]",
      "text/plain": [
       "<Figure size 640x480 with 2 Axes>"
      ]
     },
     "metadata": {},
     "output_type": "display_data"
    }
   ],
   "source": [
    "# ======================================================\n",
    "# 4️⃣ Identify normal households (not in ground truth anomalies)\n",
    "# ======================================================\n",
    "normal_households = all_households - true_anomalies\n",
    "# ======================================================\n",
    "# 5️⃣ Build labels for confusion matrix\n",
    "# ======================================================\n",
    "y_true = []\n",
    "y_pred = []\n",
    "\n",
    "for hh in all_households:\n",
    "    true_label = 1 if hh in true_anomalies else 0\n",
    "    pred_label = 1 if hh in predicted_anomalies else 0\n",
    "    y_true.append(true_label)\n",
    "    y_pred.append(pred_label)\n",
    "\n",
    "\n",
    "# ======================================================\n",
    "# 6️⃣ Compute confusion matrix\n",
    "# ======================================================\n",
    "cm = confusion_matrix(y_true, y_pred, labels=[1, 0])\n",
    "\n",
    "# Order: [[TP, FN], [FP, TN]]\n",
    "tp, fn, fp, tn = cm[0,0], cm[0,1], cm[1,0], cm[1,1]\n",
    "\n",
    "print(\"✅ Confusion Matrix:\")\n",
    "print(pd.DataFrame(cm,\n",
    "                   index=['Actual: Anomalous', 'Actual: Normal'],\n",
    "                   columns=['Predicted: Anomalous', 'Predicted: Normal']))\n",
    "print(\"\\nMetrics Summary:\")\n",
    "print(f\"True Positives (TP): {tp}\")\n",
    "print(f\"False Negatives (FN): {fn}\")\n",
    "print(f\"False Positives (FP): {fp}\")\n",
    "print(f\"True Negatives (TN): {tn}\")\n",
    "\n",
    "# ======================================================\n",
    "# 7️⃣ Visualize confusion matrix\n",
    "# ======================================================\n",
    "disp = ConfusionMatrixDisplay(confusion_matrix=cm,\n",
    "                              display_labels=['Anomalous', 'Normal'])\n",
    "disp.plot(cmap='Blues')\n",
    "plt.title(\"Confusion Matrix - Household Anomaly Detection\")\n",
    "plt.show()"
   ]
  },
  {
   "cell_type": "code",
   "execution_count": 64,
   "id": "dd9f2c89",
   "metadata": {},
   "outputs": [
    {
     "name": "stdout",
     "output_type": "stream",
     "text": [
      "\n",
      "==================== METRICS SUMMARY ====================\n",
      "Accuracy : 0.737\n",
      "Precision: 0.492\n",
      "Recall   : 0.158\n",
      "F1 Score : 0.239\n",
      "==========================================================\n",
      "\n",
      "Detailed Classification Report:\n",
      "              precision    recall  f1-score   support\n",
      "\n",
      "      Normal      0.759     0.942     0.841      2177\n",
      "   Anomalous      0.492     0.158     0.239       773\n",
      "\n",
      "    accuracy                          0.737      2950\n",
      "   macro avg      0.626     0.550     0.540      2950\n",
      "weighted avg      0.689     0.737     0.683      2950\n",
      "\n"
     ]
    }
   ],
   "source": [
    "from sklearn.metrics import (\n",
    "    f1_score,\n",
    "    precision_score,\n",
    "    recall_score,\n",
    "    accuracy_score,\n",
    "    classification_report\n",
    ")\n",
    "\n",
    "# ======================================================\n",
    "# 6️⃣.1 Compute full performance metrics\n",
    "# ======================================================\n",
    "\n",
    "# Accuracy\n",
    "accuracy = accuracy_score(y_true, y_pred)\n",
    "\n",
    "# Precision, Recall, F1\n",
    "precision = precision_score(y_true, y_pred)\n",
    "recall = recall_score(y_true, y_pred)\n",
    "f1 = f1_score(y_true, y_pred)\n",
    "\n",
    "# Classification report\n",
    "report = classification_report(\n",
    "    y_true,\n",
    "    y_pred,\n",
    "    target_names=[\"Normal\", \"Anomalous\"],\n",
    "    digits=3\n",
    ")\n",
    "\n",
    "# Print results\n",
    "print(\"\\n==================== METRICS SUMMARY ====================\")\n",
    "print(f\"Accuracy : {accuracy:.3f}\")\n",
    "print(f\"Precision: {precision:.3f}\")\n",
    "print(f\"Recall   : {recall:.3f}\")\n",
    "print(f\"F1 Score : {f1:.3f}\")\n",
    "print(\"==========================================================\")\n",
    "print(\"\\nDetailed Classification Report:\")\n",
    "print(report)"
   ]
  },
  {
   "cell_type": "code",
   "execution_count": 28,
   "id": "74ddfc64",
   "metadata": {},
   "outputs": [
    {
     "name": "stdout",
     "output_type": "stream",
     "text": [
      "     household_ID  average_powerfactor\n",
      "0          ID0013             0.754472\n",
      "1          ID0018             0.205128\n",
      "2          ID0041            -0.001664\n",
      "3          ID0043             0.220554\n",
      "4          ID0052             0.869455\n",
      "...           ...                  ...\n",
      "2933       ID5571             0.946570\n",
      "2934       ID5572             0.121005\n",
      "2935       ID5573             0.710816\n",
      "2936       ID5574             0.553514\n",
      "2937       ID5575             0.245074\n",
      "\n",
      "[2938 rows x 2 columns]\n"
     ]
    }
   ],
   "source": [
    "import pandas as pd\n",
    "import os\n",
    "import glob\n",
    "\n",
    "# Directory path\n",
    "dir_path = '/home/ranushi/test/Anomaly DetectionMethod/15min_interval'\n",
    "\n",
    "# Get all CSV files in the directory\n",
    "csv_files = glob.glob(os.path.join(dir_path, '*.csv'))\n",
    "\n",
    "# List to store dataframes\n",
    "dfs = []\n",
    "\n",
    "# Read each CSV file\n",
    "for file in csv_files:\n",
    "    df = pd.read_csv(file)\n",
    "    dfs.append(df)\n",
    "\n",
    "# Concatenate all dataframes\n",
    "combined_df = pd.concat(dfs, ignore_index=True)\n",
    "\n",
    "# Calculate average powerfactor for each household\n",
    "avg_powerfactor = combined_df.groupby('household_ID')['powerfactor'].mean().reset_index()\n",
    "avg_powerfactor.columns = ['household_ID', 'average_powerfactor']\n",
    "\n",
    "# Display the result\n",
    "print(avg_powerfactor)\n",
    "\n",
    "# Optionally, save to CSV\n",
    "# avg_powerfactor.to_csv('household_avg_powerfactor.csv', index=False)"
   ]
  },
  {
   "cell_type": "code",
   "execution_count": 29,
   "id": "641f1f0d",
   "metadata": {},
   "outputs": [],
   "source": [
    "age_powerfactor = pd.merge(result,avg_powerfactor, left_on='household_id', right_on='household_ID', how='inner')"
   ]
  },
  {
   "cell_type": "code",
   "execution_count": 30,
   "id": "6f59ed62",
   "metadata": {},
   "outputs": [],
   "source": [
    "filtered_data = age_powerfactor[\n",
    "    (age_powerfactor['average_powerfactor'] < 0.75) &\n",
    "    (age_powerfactor['average_powerfactor'].notna())\n",
    "]"
   ]
  },
  {
   "cell_type": "code",
   "execution_count": 31,
   "id": "f65351c3",
   "metadata": {},
   "outputs": [
    {
     "name": "stdout",
     "output_type": "stream",
     "text": [
      "Number of common households: 73\n",
      "  household_ID\n",
      "0       ID0999\n",
      "1       ID2406\n",
      "2       ID1031\n",
      "3       ID3039\n",
      "4       ID2358\n"
     ]
    }
   ],
   "source": [
    "# Find intersection of household_IDs\n",
    "common_households = set(filtered_data['household_ID']).intersection(set(ae_df['household_ID']))\n",
    "\n",
    "# Convert to DataFrame if you want to see or save it\n",
    "intersection_df = pd.DataFrame({'household_ID': list(common_households)})\n",
    "\n",
    "# Display results\n",
    "print(f\"Number of common households: {len(intersection_df)}\")\n",
    "print(intersection_df.head())"
   ]
  },
  {
   "cell_type": "code",
   "execution_count": 26,
   "id": "eb921e22",
   "metadata": {},
   "outputs": [
    {
     "data": {
      "text/plain": [
       "248"
      ]
     },
     "execution_count": 26,
     "metadata": {},
     "output_type": "execute_result"
    }
   ],
   "source": [
    "len(predicted_anomalies)"
   ]
  },
  {
   "cell_type": "code",
   "execution_count": 25,
   "id": "30d0d91d",
   "metadata": {},
   "outputs": [
    {
     "name": "stdout",
     "output_type": "stream",
     "text": [
      "✅ Confusion Matrix:\n",
      "                   Predicted: Anomalous  Predicted: Normal\n",
      "Actual: Anomalous                    73                251\n",
      "Actual: Normal                      175               2451\n",
      "\n",
      "Metrics Summary:\n",
      "True Positives (TP): 73\n",
      "False Negatives (FN): 251\n",
      "False Positives (FP): 175\n",
      "True Negatives (TN): 2451\n"
     ]
    },
    {
     "data": {
      "image/png": "[encoded data removed]",
      "text/plain": [
       "<Figure size 640x480 with 2 Axes>"
      ]
     },
     "metadata": {},
     "output_type": "display_data"
    }
   ],
   "source": [
    "import os\n",
    "import pandas as pd\n",
    "from sklearn.metrics import confusion_matrix, ConfusionMatrixDisplay\n",
    "import matplotlib.pyplot as plt\n",
    "import glob\n",
    "\n",
    "# ======================================================\n",
    "# 1️⃣ Load the ground truth anomalies (filtered_data)\n",
    "# ======================================================\n",
    "# Assuming filtered_data is already a DataFrame\n",
    "true_anomalies = set(filtered_data['household_ID'].unique())\n",
    "# ======================================================\n",
    "# 4️⃣ Identify normal households (not in ground truth anomalies)\n",
    "# ======================================================\n",
    "normal_households = all_households - true_anomalies\n",
    "# ======================================================\n",
    "# 5️⃣ Build labels for confusion matrix\n",
    "# ======================================================\n",
    "y_true = []\n",
    "y_pred = []\n",
    "\n",
    "for hh in all_households:\n",
    "    true_label = 1 if hh in true_anomalies else 0\n",
    "    pred_label = 1 if hh in predicted_anomalies else 0\n",
    "    y_true.append(true_label)\n",
    "    y_pred.append(pred_label)\n",
    "\n",
    "\n",
    "# ======================================================\n",
    "# 6️⃣ Compute confusion matrix\n",
    "# ======================================================\n",
    "cm = confusion_matrix(y_true, y_pred, labels=[1, 0])\n",
    "\n",
    "# Order: [[TP, FN], [FP, TN]]\n",
    "tp, fn, fp, tn = cm[0,0], cm[0,1], cm[1,0], cm[1,1]\n",
    "\n",
    "print(\"✅ Confusion Matrix:\")\n",
    "print(pd.DataFrame(cm,\n",
    "                   index=['Actual: Anomalous', 'Actual: Normal'],\n",
    "                   columns=['Predicted: Anomalous', 'Predicted: Normal']))\n",
    "print(\"\\nMetrics Summary:\")\n",
    "print(f\"True Positives (TP): {tp}\")\n",
    "print(f\"False Negatives (FN): {fn}\")\n",
    "print(f\"False Positives (FP): {fp}\")\n",
    "print(f\"True Negatives (TN): {tn}\")\n",
    "\n",
    "# ======================================================\n",
    "# 7️⃣ Visualize confusion matrix\n",
    "# ======================================================\n",
    "disp = ConfusionMatrixDisplay(confusion_matrix=cm,\n",
    "                              display_labels=['Anomalous', 'Normal'])\n",
    "disp.plot(cmap='Blues')\n",
    "plt.title(\"Confusion Matrix - Household Anomaly Detection\")\n",
    "plt.show()\n"
   ]
  },
  {
   "cell_type": "code",
   "execution_count": 27,
   "id": "7f33e793",
   "metadata": {},
   "outputs": [
    {
     "name": "stdout",
     "output_type": "stream",
     "text": [
      "\n",
      "==================== METRICS SUMMARY ====================\n",
      "Accuracy : 0.856\n",
      "Precision: 0.294\n",
      "Recall   : 0.225\n",
      "F1 Score : 0.255\n",
      "==========================================================\n",
      "\n",
      "Detailed Classification Report:\n",
      "              precision    recall  f1-score   support\n",
      "\n",
      "      Normal      0.907     0.933     0.920      2626\n",
      "   Anomalous      0.294     0.225     0.255       324\n",
      "\n",
      "    accuracy                          0.856      2950\n",
      "   macro avg      0.601     0.579     0.588      2950\n",
      "weighted avg      0.840     0.856     0.847      2950\n",
      "\n"
     ]
    }
   ],
   "source": [
    "from sklearn.metrics import (\n",
    "    f1_score,\n",
    "    precision_score,\n",
    "    recall_score,\n",
    "    accuracy_score,\n",
    "    classification_report\n",
    ")\n",
    "\n",
    "# ======================================================\n",
    "# 6️⃣.1 Compute full performance metrics\n",
    "# ======================================================\n",
    "\n",
    "# Accuracy\n",
    "accuracy = accuracy_score(y_true, y_pred)\n",
    "\n",
    "# Precision, Recall, F1\n",
    "precision = precision_score(y_true, y_pred)\n",
    "recall = recall_score(y_true, y_pred)\n",
    "f1 = f1_score(y_true, y_pred)\n",
    "\n",
    "# Classification report\n",
    "report = classification_report(\n",
    "    y_true,\n",
    "    y_pred,\n",
    "    target_names=[\"Normal\", \"Anomalous\"],\n",
    "    digits=3\n",
    ")\n",
    "\n",
    "# Print results\n",
    "print(\"\\n==================== METRICS SUMMARY ====================\")\n",
    "print(f\"Accuracy : {accuracy:.3f}\")\n",
    "print(f\"Precision: {precision:.3f}\")\n",
    "print(f\"Recall   : {recall:.3f}\")\n",
    "print(f\"F1 Score : {f1:.3f}\")\n",
    "print(\"==========================================================\")\n",
    "print(\"\\nDetailed Classification Report:\")\n",
    "print(report)"
   ]
  },
  {
   "cell_type": "code",
   "execution_count": null,
   "id": "d48f71ce",
   "metadata": {},
   "outputs": [],
   "source": []
  },
  {
   "cell_type": "code",
   "execution_count": null,
   "id": "a59d390b",
   "metadata": {},
   "outputs": [],
   "source": []
  },
  {
   "cell_type": "code",
   "execution_count": 1,
   "id": "9e115d38",
   "metadata": {},
   "outputs": [],
   "source": [
    "import pandas as pd"
   ]
  },
  {
   "cell_type": "code",
   "execution_count": 2,
   "id": "30333e26",
   "metadata": {},
   "outputs": [],
   "source": [
    "# -------------------------------\n",
    "# 2️⃣ Load autoencoder CSVs (clusters 0-6) and concatenate\n",
    "# -------------------------------\n",
    "ae_dfs = []\n",
    "for i in range(6):\n",
    "    path = f'/home/ranushi/test/Anomaly DetectionMethod/anomalous_high_energy_households_cluster_2{i}.csv'\n",
    "    df = pd.read_csv(path)\n",
    "    df = df[['household_ID', 'cluster']]\n",
    "    ae_dfs.append(df)\n",
    "\n",
    "ae_df = pd.concat(ae_dfs, ignore_index=True)"
   ]
  },
  {
   "cell_type": "code",
   "execution_count": 3,
   "id": "f08d359b",
   "metadata": {},
   "outputs": [
    {
     "name": "stderr",
     "output_type": "stream",
     "text": [
      "/tmp/ipykernel_100677/2973607930.py:1: DtypeWarning: Columns (11) have mixed types. Specify dtype option on import or set low_memory=False.\n",
      "  appliance_age = pd.read_csv('/home/ranushi/test/Anomaly DetectionMethod/wave_1/household_appliance_specifications_202509020921.csv')\n"
     ]
    }
   ],
   "source": [
    "appliance_age = pd.read_csv('/home/ranushi/test/Anomaly DetectionMethod/wave_1/household_appliance_specifications_202509020921.csv')"
   ]
  },
  {
   "cell_type": "code",
   "execution_count": 4,
   "id": "2542838f",
   "metadata": {},
   "outputs": [],
   "source": [
    "appliance_age = appliance_age[['household_id','appliance_name','no_of_appliances','purchased_time1',\n",
    "                              'purchased_time2','purchased_time3','purchased_time4']]"
   ]
  },
  {
   "cell_type": "code",
   "execution_count": 5,
   "id": "8d0f0311",
   "metadata": {},
   "outputs": [],
   "source": [
    "df = appliance_age.copy()"
   ]
  },
  {
   "cell_type": "code",
   "execution_count": 6,
   "id": "a7f608aa",
   "metadata": {},
   "outputs": [
    {
     "name": "stdout",
     "output_type": "stream",
     "text": [
      "  household_id   appliance_name              appliance_age\n",
      "0       ID0430        Microwave     More than 10 years ago\n",
      "1       ID0430      Rice cooker  Wthin the last 5-10 years\n",
      "2       ID0430  Electric Kettle     More than 10 years ago\n",
      "3       ID0528     Refrigerator     More than 10 years ago\n",
      "4       ID0528      Rice cooker     Within the last 1 year\n"
     ]
    }
   ],
   "source": [
    "import pandas as pd\n",
    "import numpy as np\n",
    "\n",
    "# Define order of appliance age (older = larger number)\n",
    "age_order = {\n",
    "    'Within the last 1 year': 1,\n",
    "    'Within the last 1-5 years': 2,\n",
    "    'Wthin the last 1-5 years': 2,     # fix typo version\n",
    "    'Within the last 5-10 years': 3,\n",
    "    'Wthin the last 5-10 years': 3,    # fix typo version\n",
    "    'More than 10 years ago': 4\n",
    "}\n",
    "\n",
    "# Columns to check\n",
    "purchased_cols = ['purchased_time1', 'purchased_time2', 'purchased_time3', 'purchased_time4']\n",
    "\n",
    "# Convert categories to numeric according to hierarchy\n",
    "df_numeric = df[purchased_cols].apply(lambda col: col.map(age_order))\n",
    "\n",
    "# Find the oldest (maximum numeric value across columns)\n",
    "df['appliance_age_code'] = df_numeric.max(axis=1, skipna=True)\n",
    "\n",
    "# Map numeric code back to category name\n",
    "reverse_age_order = {v: k for k, v in age_order.items()}\n",
    "df['appliance_age'] = df['appliance_age_code'].map(reverse_age_order)\n",
    "\n",
    "# Keep only the required columns\n",
    "result = df[['household_id', 'appliance_name', 'appliance_age']].dropna(subset=['appliance_age']).reset_index(drop=True)\n",
    "\n",
    "print(result.head())"
   ]
  },
  {
   "cell_type": "code",
   "execution_count": 7,
   "id": "4b1f6319",
   "metadata": {},
   "outputs": [
    {
     "name": "stdout",
     "output_type": "stream",
     "text": [
      "\n",
      "✅ Appliance age groups recoded successfully.\n"
     ]
    }
   ],
   "source": [
    "if not result.empty:\n",
    "    def recode_age(age):\n",
    "        \"\"\"Simplify appliance age categories.\"\"\"\n",
    "        if age in ['More than 10 years ago', 'Unknown']:\n",
    "            return 'Old'\n",
    "        elif age in ['Within the last 1-5 years', 'Within the last 1 year']:\n",
    "            return 'Recent'\n",
    "        elif age in ['Within the last 5-10 years', 'Wthin the last 5-10 years']:\n",
    "            return 'Middle'\n",
    "        else:\n",
    "            return 'Old'\n",
    "\n",
    "    result['age_group'] = result['appliance_age'].apply(recode_age)\n",
    "    print(\"\\n✅ Appliance age groups recoded successfully.\")\n",
    "else:\n",
    "    print(\"⚠️ No appliance data to recode.\")"
   ]
  },
  {
   "cell_type": "code",
   "execution_count": 8,
   "id": "86fc37d6",
   "metadata": {},
   "outputs": [
    {
     "name": "stdout",
     "output_type": "stream",
     "text": [
      "\n",
      "✅ Dominant appliance age category computed successfully!\n",
      "\n",
      "  household_id dominant_category\n",
      "0       ID0001          most_Old\n",
      "1       ID0002       most_Middle\n",
      "2       ID0003       most_Middle\n",
      "3       ID0005       most_Recent\n",
      "4       ID0006       most_Middle\n"
     ]
    }
   ],
   "source": [
    "import pandas as pd\n",
    "\n",
    "# Step 1: Define main appliances\n",
    "main_appliances = [\n",
    "    'Microwave',\n",
    "    'Refrigerator',\n",
    "    'Geyser / Hot water systems for bathrooms which operate from electricity',\n",
    "    'Washing Machine',\n",
    "    'Electric Oven',\n",
    "    'Separate Freezer',\n",
    "    'Air Conditioner',\n",
    "    'Electric heater (to control room temperature)'\n",
    "]\n",
    "\n",
    "# Step 2: Filter only main appliances\n",
    "filtered_df = result[result['appliance_name'].isin(main_appliances)].copy()\n",
    "\n",
    "# Step 3: Check which households remain\n",
    "if filtered_df.empty:\n",
    "    print(\"⚠️ No main appliances found in the data.\")\n",
    "else:\n",
    "    # Step 4: Count how many appliances fall under each age_group per household\n",
    "    household_age_counts = (\n",
    "        filtered_df.groupby(['household_id', 'age_group'])['appliance_name']\n",
    "        .count()\n",
    "        .reset_index(name='count')\n",
    "    )\n",
    "\n",
    "    # Step 5: Find the most common (mode) age group per household\n",
    "    # If there are ties, this picks the first one alphabetically (you can change logic if needed)\n",
    "    dominant_age = (\n",
    "        household_age_counts.loc[\n",
    "            household_age_counts.groupby('household_id')['count'].idxmax()\n",
    "        ]\n",
    "        .reset_index(drop=True)\n",
    "    )\n",
    "\n",
    "    # Step 6: Create the “most_...” column label\n",
    "    dominant_age['dominant_category'] = 'most_' + dominant_age['age_group']\n",
    "\n",
    "    # Step 7: Keep only household_id and dominant category\n",
    "    household_dominant_age = dominant_age[['household_id', 'dominant_category']]\n",
    "\n",
    "    print(\"\\n✅ Dominant appliance age category computed successfully!\\n\")\n",
    "    print(household_dominant_age.head())"
   ]
  },
  {
   "cell_type": "code",
   "execution_count": 9,
   "id": "3ff7d53a",
   "metadata": {},
   "outputs": [
    {
     "name": "stdout",
     "output_type": "stream",
     "text": [
      "     household_ID  average_powerfactor\n",
      "0          ID0013             0.754472\n",
      "1          ID0018             0.205128\n",
      "2          ID0041            -0.001664\n",
      "3          ID0043             0.220554\n",
      "4          ID0052             0.869455\n",
      "...           ...                  ...\n",
      "2933       ID5571             0.946570\n",
      "2934       ID5572             0.121005\n",
      "2935       ID5573             0.710816\n",
      "2936       ID5574             0.553514\n",
      "2937       ID5575             0.245074\n",
      "\n",
      "[2938 rows x 2 columns]\n"
     ]
    }
   ],
   "source": [
    "import pandas as pd\n",
    "import os\n",
    "import glob\n",
    "\n",
    "# Directory path\n",
    "dir_path = '/home/ranushi/test/Anomaly DetectionMethod/15min_interval'\n",
    "\n",
    "# Get all CSV files in the directory\n",
    "csv_files = glob.glob(os.path.join(dir_path, '*.csv'))\n",
    "\n",
    "# List to store dataframes\n",
    "dfs = []\n",
    "\n",
    "# Read each CSV file\n",
    "for file in csv_files:\n",
    "    df = pd.read_csv(file)\n",
    "    dfs.append(df)\n",
    "\n",
    "# Concatenate all dataframes\n",
    "combined_df = pd.concat(dfs, ignore_index=True)\n",
    "\n",
    "# Calculate average powerfactor for each household\n",
    "avg_powerfactor = combined_df.groupby('household_ID')['powerfactor'].mean().reset_index()\n",
    "avg_powerfactor.columns = ['household_ID', 'average_powerfactor']\n",
    "\n",
    "# Display the result\n",
    "print(avg_powerfactor)"
   ]
  },
  {
   "cell_type": "code",
   "execution_count": 10,
   "id": "84db4917",
   "metadata": {},
   "outputs": [],
   "source": [
    "age_powerfactor = pd.merge(household_dominant_age,avg_powerfactor, left_on='household_id', right_on='household_ID', how='inner')"
   ]
  },
  {
   "cell_type": "code",
   "execution_count": 11,
   "id": "14c78481",
   "metadata": {},
   "outputs": [],
   "source": [
    "filtered_data = age_powerfactor[\n",
    "    (age_powerfactor['dominant_category'] == 'most_Old') & \n",
    "    (age_powerfactor['average_powerfactor'] < 0.75) &\n",
    "    (age_powerfactor['average_powerfactor'].notna())\n",
    "]"
   ]
  },
  {
   "cell_type": "code",
   "execution_count": 12,
   "id": "7cb485ba",
   "metadata": {},
   "outputs": [
    {
     "name": "stdout",
     "output_type": "stream",
     "text": [
      "Number of common households: 25\n",
      "  household_ID\n",
      "0       ID2406\n",
      "1       ID1031\n",
      "2       ID3720\n",
      "3       ID3282\n",
      "4       ID3113\n"
     ]
    }
   ],
   "source": [
    "# Find intersection of household_IDs\n",
    "common_households = set(filtered_data['household_id']).intersection(set(ae_df['household_ID']))\n",
    "\n",
    "# Convert to DataFrame if you want to see or save it\n",
    "intersection_df = pd.DataFrame({'household_ID': list(common_households)})\n",
    "\n",
    "# Display results\n",
    "print(f\"Number of common households: {len(intersection_df)}\")\n",
    "print(intersection_df.head())"
   ]
  },
  {
   "cell_type": "code",
   "execution_count": 13,
   "id": "3a1ffb1a",
   "metadata": {},
   "outputs": [],
   "source": [
    "import os\n",
    "import pandas as pd\n",
    "from sklearn.metrics import confusion_matrix, ConfusionMatrixDisplay\n",
    "import matplotlib.pyplot as plt\n",
    "import glob\n",
    "\n",
    "# ======================================================\n",
    "# 1️⃣ Load the ground truth anomalies (filtered_data)\n",
    "# ======================================================\n",
    "# Assuming filtered_data is already a DataFrame\n",
    "true_anomalies = set(filtered_data['household_ID'].unique())"
   ]
  },
  {
   "cell_type": "code",
   "execution_count": 14,
   "id": "589045d2",
   "metadata": {},
   "outputs": [],
   "source": [
    "predicted_anomalies = set(ae_df['household_ID'].unique())"
   ]
  },
  {
   "cell_type": "code",
   "execution_count": 16,
   "id": "df20a42a",
   "metadata": {},
   "outputs": [
    {
     "data": {
      "text/plain": [
       "248"
      ]
     },
     "execution_count": 16,
     "metadata": {},
     "output_type": "execute_result"
    }
   ],
   "source": [
    "len(predicted_anomalies)"
   ]
  },
  {
   "cell_type": "code",
   "execution_count": 17,
   "id": "2b7a610f",
   "metadata": {},
   "outputs": [
    {
     "name": "stderr",
     "output_type": "stream",
     "text": [
      "/tmp/ipykernel_100677/4074882391.py:9: DtypeWarning: Columns (9,27) have mixed types. Specify dtype option on import or set low_memory=False.\n",
      "  df = pd.read_csv(file)\n",
      "/tmp/ipykernel_100677/4074882391.py:9: DtypeWarning: Columns (9) have mixed types. Specify dtype option on import or set low_memory=False.\n",
      "  df = pd.read_csv(file)\n",
      "/tmp/ipykernel_100677/4074882391.py:9: DtypeWarning: Columns (14,25,27) have mixed types. Specify dtype option on import or set low_memory=False.\n",
      "  df = pd.read_csv(file)\n",
      "/tmp/ipykernel_100677/4074882391.py:9: DtypeWarning: Columns (26) have mixed types. Specify dtype option on import or set low_memory=False.\n",
      "  df = pd.read_csv(file)\n"
     ]
    }
   ],
   "source": [
    "# ======================================================\n",
    "# 3️⃣ Load all households from 6-hour interval files\n",
    "# ======================================================\n",
    "folder_path = '/home/ranushi/test/Anomaly DetectionMethod/6hour_interval'\n",
    "all_files = glob.glob(os.path.join(folder_path, '*.csv'))\n",
    "\n",
    "all_households = set()\n",
    "for file in all_files:\n",
    "    df = pd.read_csv(file)\n",
    "    if 'household_ID' in df.columns:\n",
    "        all_households.update(df['household_ID'].unique())\n",
    "    else:\n",
    "        print(f\"⚠️ Skipping {file}, no 'household_ID' column found.\")\n",
    "\n",
    "# ======================================================\n",
    "# 4️⃣ Identify normal households (not in ground truth anomalies)\n",
    "# ======================================================\n",
    "normal_households = all_households - true_anomalies"
   ]
  },
  {
   "cell_type": "code",
   "execution_count": 18,
   "id": "38822bb7",
   "metadata": {},
   "outputs": [],
   "source": [
    "# ======================================================\n",
    "# 5️⃣ Build labels for confusion matrix\n",
    "# ======================================================\n",
    "y_true = []\n",
    "y_pred = []\n",
    "\n",
    "for hh in all_households:\n",
    "    true_label = 1 if hh in true_anomalies else 0\n",
    "    pred_label = 1 if hh in predicted_anomalies else 0\n",
    "    y_true.append(true_label)\n",
    "    y_pred.append(pred_label)"
   ]
  },
  {
   "cell_type": "code",
   "execution_count": 19,
   "id": "a42d11b2",
   "metadata": {},
   "outputs": [
    {
     "name": "stdout",
     "output_type": "stream",
     "text": [
      "✅ Confusion Matrix:\n",
      "                   Predicted: Anomalous  Predicted: Normal\n",
      "Actual: Anomalous                    25                 76\n",
      "Actual: Normal                      223               2626\n",
      "\n",
      "Metrics Summary:\n",
      "True Positives (TP): 25\n",
      "False Negatives (FN): 76\n",
      "False Positives (FP): 223\n",
      "True Negatives (TN): 2626\n"
     ]
    },
    {
     "data": {
      "image/png": "[encoded data removed]",
      "text/plain": [
       "<Figure size 640x480 with 2 Axes>"
      ]
     },
     "metadata": {},
     "output_type": "display_data"
    }
   ],
   "source": [
    "\n",
    "# ======================================================\n",
    "# 6️⃣ Compute confusion matrix\n",
    "# ======================================================\n",
    "cm = confusion_matrix(y_true, y_pred, labels=[1, 0])\n",
    "\n",
    "# Order: [[TP, FN], [FP, TN]]\n",
    "tp, fn, fp, tn = cm[0,0], cm[0,1], cm[1,0], cm[1,1]\n",
    "\n",
    "print(\"✅ Confusion Matrix:\")\n",
    "print(pd.DataFrame(cm,\n",
    "                   index=['Actual: Anomalous', 'Actual: Normal'],\n",
    "                   columns=['Predicted: Anomalous', 'Predicted: Normal']))\n",
    "print(\"\\nMetrics Summary:\")\n",
    "print(f\"True Positives (TP): {tp}\")\n",
    "print(f\"False Negatives (FN): {fn}\")\n",
    "print(f\"False Positives (FP): {fp}\")\n",
    "print(f\"True Negatives (TN): {tn}\")\n",
    "\n",
    "# ======================================================\n",
    "# 7️⃣ Visualize confusion matrix\n",
    "# ======================================================\n",
    "disp = ConfusionMatrixDisplay(confusion_matrix=cm,\n",
    "                              display_labels=['Anomalous', 'Normal'])\n",
    "disp.plot(cmap='Blues')\n",
    "plt.title(\"Confusion Matrix - Household Anomaly Detection\")\n",
    "plt.show()"
   ]
  },
  {
   "cell_type": "code",
   "execution_count": 20,
   "id": "3237f004",
   "metadata": {},
   "outputs": [
    {
     "name": "stdout",
     "output_type": "stream",
     "text": [
      "\n",
      "==================== METRICS SUMMARY ====================\n",
      "Accuracy : 0.899\n",
      "Precision: 0.101\n",
      "Recall   : 0.248\n",
      "F1 Score : 0.143\n",
      "==========================================================\n",
      "\n",
      "Detailed Classification Report:\n",
      "              precision    recall  f1-score   support\n",
      "\n",
      "      Normal      0.972     0.922     0.946      2849\n",
      "   Anomalous      0.101     0.248     0.143       101\n",
      "\n",
      "    accuracy                          0.899      2950\n",
      "   macro avg      0.536     0.585     0.545      2950\n",
      "weighted avg      0.942     0.899     0.919      2950\n",
      "\n"
     ]
    }
   ],
   "source": [
    "from sklearn.metrics import (\n",
    "    f1_score,\n",
    "    precision_score,\n",
    "    recall_score,\n",
    "    accuracy_score,\n",
    "    classification_report\n",
    ")\n",
    "\n",
    "# ======================================================\n",
    "# 6️⃣.1 Compute full performance metrics\n",
    "# ======================================================\n",
    "\n",
    "# Accuracy\n",
    "accuracy = accuracy_score(y_true, y_pred)\n",
    "\n",
    "# Precision, Recall, F1\n",
    "precision = precision_score(y_true, y_pred)\n",
    "recall = recall_score(y_true, y_pred)\n",
    "f1 = f1_score(y_true, y_pred)\n",
    "\n",
    "# Classification report\n",
    "report = classification_report(\n",
    "    y_true,\n",
    "    y_pred,\n",
    "    target_names=[\"Normal\", \"Anomalous\"],\n",
    "    digits=3\n",
    ")\n",
    "\n",
    "# Print results\n",
    "print(\"\\n==================== METRICS SUMMARY ====================\")\n",
    "print(f\"Accuracy : {accuracy:.3f}\")\n",
    "print(f\"Precision: {precision:.3f}\")\n",
    "print(f\"Recall   : {recall:.3f}\")\n",
    "print(f\"F1 Score : {f1:.3f}\")\n",
    "print(\"==========================================================\")\n",
    "print(\"\\nDetailed Classification Report:\")\n",
    "print(report)"
   ]
  },
  {
   "cell_type": "code",
   "execution_count": null,
   "id": "3bb630a4",
   "metadata": {},
   "outputs": [],
   "source": []
  },
  {
   "cell_type": "code",
   "execution_count": null,
   "id": "b16c8b75",
   "metadata": {},
   "outputs": [],
   "source": []
  },
  {
   "cell_type": "code",
   "execution_count": 32,
   "metadata": {},
   "outputs": [
    {
     "name": "stderr",
     "output_type": "stream",
     "text": [
      "/tmp/ipykernel_100677/2973607930.py:1: DtypeWarning: Columns (11) have mixed types. Specify dtype option on import or set low_memory=False.\n",
      "  appliance_age = pd.read_csv('/home/ranushi/test/Anomaly DetectionMethod/wave_1/household_appliance_specifications_202509020921.csv')\n"
     ]
    }
   ],
   "source": [
    "appliance_age = pd.read_csv('/home/ranushi/test/Anomaly DetectionMethod/wave_1/household_appliance_specifications_202509020921.csv')"
   ]
  },
  {
   "cell_type": "code",
   "execution_count": 33,
   "id": "a6cb96c8",
   "metadata": {},
   "outputs": [],
   "source": [
    "appliance_age = appliance_age[['household_id','appliance_name','no_of_appliances','purchased_time1',\n",
    "                              'purchased_time2','purchased_time3','purchased_time4']]"
   ]
  },
  {
   "cell_type": "code",
   "execution_count": 34,
   "id": "3b67562b",
   "metadata": {},
   "outputs": [],
   "source": [
    "df = appliance_age.copy()"
   ]
  },
  {
   "cell_type": "code",
   "execution_count": 35,
   "id": "59f1269e",
   "metadata": {},
   "outputs": [
    {
     "name": "stdout",
     "output_type": "stream",
     "text": [
      "  household_id   appliance_name              appliance_age\n",
      "0       ID0430        Microwave     More than 10 years ago\n",
      "1       ID0430      Rice cooker  Wthin the last 5-10 years\n",
      "2       ID0430  Electric Kettle     More than 10 years ago\n",
      "3       ID0528     Refrigerator     More than 10 years ago\n",
      "4       ID0528      Rice cooker     Within the last 1 year\n"
     ]
    }
   ],
   "source": [
    "import pandas as pd\n",
    "import numpy as np\n",
    "\n",
    "# Define order of appliance age (older = larger number)\n",
    "age_order = {\n",
    "    'Within the last 1 year': 1,\n",
    "    'Within the last 1-5 years': 2,\n",
    "    'Wthin the last 1-5 years': 2,     # fix typo version\n",
    "    'Within the last 5-10 years': 3,\n",
    "    'Wthin the last 5-10 years': 3,    # fix typo version\n",
    "    'More than 10 years ago': 4\n",
    "}\n",
    "\n",
    "# Columns to check\n",
    "purchased_cols = ['purchased_time1', 'purchased_time2', 'purchased_time3', 'purchased_time4']\n",
    "\n",
    "# Convert categories to numeric according to hierarchy\n",
    "df_numeric = df[purchased_cols].apply(lambda col: col.map(age_order))\n",
    "\n",
    "# Find the oldest (maximum numeric value across columns)\n",
    "df['appliance_age_code'] = df_numeric.max(axis=1, skipna=True)\n",
    "\n",
    "# Map numeric code back to category name\n",
    "reverse_age_order = {v: k for k, v in age_order.items()}\n",
    "df['appliance_age'] = df['appliance_age_code'].map(reverse_age_order)\n",
    "\n",
    "# Keep only the required columns\n",
    "result = df[['household_id', 'appliance_name', 'appliance_age']].dropna(subset=['appliance_age']).reset_index(drop=True)\n",
    "\n",
    "print(result.head())"
   ]
  },
  {
   "cell_type": "code",
   "execution_count": 36,
   "id": "1f8ada87",
   "metadata": {},
   "outputs": [
    {
     "name": "stdout",
     "output_type": "stream",
     "text": [
      "\n",
      "✅ Appliance age groups recoded successfully.\n"
     ]
    }
   ],
   "source": [
    "if not result.empty:\n",
    "    def recode_age(age):\n",
    "        \"\"\"Simplify appliance age categories.\"\"\"\n",
    "        if age in ['More than 10 years ago', 'Unknown']:\n",
    "            return 'Old'\n",
    "        elif age in ['Within the last 1-5 years', 'Within the last 1 year']:\n",
    "            return 'Recent'\n",
    "        elif age in ['Within the last 5-10 years', 'Wthin the last 5-10 years']:\n",
    "            return 'Middle'\n",
    "        else:\n",
    "            return 'Old'\n",
    "\n",
    "    result['age_group'] = result['appliance_age'].apply(recode_age)\n",
    "    print(\"\\n✅ Appliance age groups recoded successfully.\")\n",
    "else:\n",
    "    print(\"⚠️ No appliance data to recode.\")"
   ]
  },
  {
   "cell_type": "code",
   "execution_count": 37,
   "id": "676bb36c",
   "metadata": {},
   "outputs": [
    {
     "name": "stdout",
     "output_type": "stream",
     "text": [
      "\n",
      "✅ Dominant appliance age category computed successfully!\n",
      "\n",
      "  household_id dominant_category\n",
      "0       ID0001          most_Old\n",
      "1       ID0002       most_Middle\n",
      "2       ID0003       most_Middle\n",
      "3       ID0005       most_Recent\n",
      "4       ID0006       most_Middle\n"
     ]
    }
   ],
   "source": [
    "import pandas as pd\n",
    "\n",
    "# Step 1: Define main appliances\n",
    "main_appliances = [\n",
    "    'Microwave',\n",
    "    'Refrigerator',\n",
    "    'Geyser / Hot water systems for bathrooms which operate from electricity',\n",
    "    'Washing Machine',\n",
    "    'Electric Oven',\n",
    "    'Separate Freezer',\n",
    "    'Air Conditioner',\n",
    "    'Electric heater (to control room temperature)'\n",
    "]\n",
    "\n",
    "# Step 2: Filter only main appliances\n",
    "filtered_df = result[result['appliance_name'].isin(main_appliances)].copy()\n",
    "\n",
    "# Step 3: Check which households remain\n",
    "if filtered_df.empty:\n",
    "    print(\"⚠️ No main appliances found in the data.\")\n",
    "else:\n",
    "    # Step 4: Count how many appliances fall under each age_group per household\n",
    "    household_age_counts = (\n",
    "        filtered_df.groupby(['household_id', 'age_group'])['appliance_name']\n",
    "        .count()\n",
    "        .reset_index(name='count')\n",
    "    )\n",
    "\n",
    "    # Step 5: Find the most common (mode) age group per household\n",
    "    # If there are ties, this picks the first one alphabetically (you can change logic if needed)\n",
    "    dominant_age = (\n",
    "        household_age_counts.loc[\n",
    "            household_age_counts.groupby('household_id')['count'].idxmax()\n",
    "        ]\n",
    "        .reset_index(drop=True)\n",
    "    )\n",
    "\n",
    "    # Step 6: Create the “most_...” column label\n",
    "    dominant_age['dominant_category'] = 'most_' + dominant_age['age_group']\n",
    "\n",
    "    # Step 7: Keep only household_id and dominant category\n",
    "    household_dominant_age = dominant_age[['household_id', 'dominant_category']]\n",
    "\n",
    "    print(\"\\n✅ Dominant appliance age category computed successfully!\\n\")\n",
    "    print(household_dominant_age.head())"
   ]
  },
  {
   "cell_type": "code",
   "execution_count": 38,
   "id": "4b61d3c2",
   "metadata": {},
   "outputs": [
    {
     "name": "stdout",
     "output_type": "stream",
     "text": [
      "     household_ID  average_powerfactor\n",
      "0          ID0013             0.754472\n",
      "1          ID0018             0.205128\n",
      "2          ID0041            -0.001664\n",
      "3          ID0043             0.220554\n",
      "4          ID0052             0.869455\n",
      "...           ...                  ...\n",
      "2933       ID5571             0.946570\n",
      "2934       ID5572             0.121005\n",
      "2935       ID5573             0.710816\n",
      "2936       ID5574             0.553514\n",
      "2937       ID5575             0.245074\n",
      "\n",
      "[2938 rows x 2 columns]\n"
     ]
    }
   ],
   "source": [
    "import pandas as pd\n",
    "import os\n",
    "import glob\n",
    "\n",
    "# Directory path\n",
    "dir_path = '/home/ranushi/test/Anomaly DetectionMethod/15min_interval'\n",
    "\n",
    "# Get all CSV files in the directory\n",
    "csv_files = glob.glob(os.path.join(dir_path, '*.csv'))\n",
    "\n",
    "# List to store dataframes\n",
    "dfs = []\n",
    "\n",
    "# Read each CSV file\n",
    "for file in csv_files:\n",
    "    df = pd.read_csv(file)\n",
    "    dfs.append(df)\n",
    "\n",
    "# Concatenate all dataframes\n",
    "combined_df = pd.concat(dfs, ignore_index=True)\n",
    "\n",
    "# Calculate average powerfactor for each household\n",
    "avg_powerfactor = combined_df.groupby('household_ID')['powerfactor'].mean().reset_index()\n",
    "avg_powerfactor.columns = ['household_ID', 'average_powerfactor']\n",
    "\n",
    "# Display the result\n",
    "print(avg_powerfactor)\n",
    "\n",
    "# Optionally, save to CSV\n",
    "# avg_powerfactor.to_csv('household_avg_powerfactor.csv', index=False)"
   ]
  },
  {
   "cell_type": "code",
   "execution_count": 39,
   "id": "67a9fa1f",
   "metadata": {},
   "outputs": [],
   "source": [
    "age_powerfactor = pd.merge(household_dominant_age,avg_powerfactor, left_on='household_id', right_on='household_ID', how='inner')"
   ]
  },
  {
   "cell_type": "code",
   "execution_count": 40,
   "id": "6814b78c",
   "metadata": {},
   "outputs": [],
   "source": [
    "powerrrrr_data = age_powerfactor[\n",
    "    (age_powerfactor['average_powerfactor'] < 0.75) &\n",
    "    (age_powerfactor['average_powerfactor'].notna())\n",
    "]"
   ]
  },
  {
   "cell_type": "code",
   "execution_count": 41,
   "id": "0b89b184",
   "metadata": {},
   "outputs": [
    {
     "name": "stdout",
     "output_type": "stream",
     "text": [
      "Number of common households: 67\n",
      "  household_ID\n",
      "0       ID0999\n",
      "1       ID2406\n",
      "2       ID1031\n",
      "3       ID2358\n",
      "4       ID3774\n"
     ]
    }
   ],
   "source": [
    "# Find intersection of household_IDs\n",
    "common_households = set(powerrrrr_data['household_id']).intersection(set(ae_df['household_ID']))\n",
    "\n",
    "# Convert to DataFrame if you want to see or save it\n",
    "intersection_df = pd.DataFrame({'household_ID': list(common_households)})\n",
    "\n",
    "# Display results\n",
    "print(f\"Number of common households: {len(intersection_df)}\")\n",
    "print(intersection_df.head())\n",
    "\n",
    "# (Optional) Save to a CSV\n",
    "# intersection_df.to_csv('/home/ranushi/test/Anomaly DetectionMethod/intersecting_households.csv', index=False)"
   ]
  },
  {
   "cell_type": "code",
   "execution_count": 44,
   "id": "71ccbb83",
   "metadata": {},
   "outputs": [
    {
     "name": "stderr",
     "output_type": "stream",
     "text": [
      "/tmp/ipykernel_100677/929530813.py:28: DtypeWarning: Columns (9,27) have mixed types. Specify dtype option on import or set low_memory=False.\n",
      "  df = pd.read_csv(file)\n",
      "/tmp/ipykernel_100677/929530813.py:28: DtypeWarning: Columns (9) have mixed types. Specify dtype option on import or set low_memory=False.\n",
      "  df = pd.read_csv(file)\n",
      "/tmp/ipykernel_100677/929530813.py:28: DtypeWarning: Columns (14,25,27) have mixed types. Specify dtype option on import or set low_memory=False.\n",
      "  df = pd.read_csv(file)\n",
      "/tmp/ipykernel_100677/929530813.py:28: DtypeWarning: Columns (26) have mixed types. Specify dtype option on import or set low_memory=False.\n",
      "  df = pd.read_csv(file)\n"
     ]
    },
    {
     "name": "stdout",
     "output_type": "stream",
     "text": [
      "✅ Confusion Matrix:\n",
      "                   Predicted: Anomalous  Predicted: Normal\n",
      "Actual: Anomalous                    67                207\n",
      "Actual: Normal                      181               2495\n",
      "\n",
      "Metrics Summary:\n",
      "True Positives (TP): 67\n",
      "False Negatives (FN): 207\n",
      "False Positives (FP): 181\n",
      "True Negatives (TN): 2495\n"
     ]
    },
    {
     "data": {
      "image/png": "[encoded data removed]",
      "text/plain": [
       "<Figure size 640x480 with 2 Axes>"
      ]
     },
     "metadata": {},
     "output_type": "display_data"
    }
   ],
   "source": [
    "import os\n",
    "import pandas as pd\n",
    "from sklearn.metrics import confusion_matrix, ConfusionMatrixDisplay\n",
    "import matplotlib.pyplot as plt\n",
    "import glob\n",
    "\n",
    "# ======================================================\n",
    "# 1️⃣ Load the ground truth anomalies (filtered_data)\n",
    "# ======================================================\n",
    "# Assuming filtered_data is already a DataFrame\n",
    "true_anomalies = set(powerrrrr_data['household_ID'].unique())\n",
    "\n",
    "# # ======================================================\n",
    "# # 2️⃣ Load predicted anomalies\n",
    "# # ======================================================\n",
    "# similar_csv = '/home/ranushi/test/Anomaly DetectionMethod/similar_usage_high_energy_households3.csv'\n",
    "# predicted_anomalies_df = pd.read_csv(similar_csv)\n",
    "predicted_anomalies = set(ae_df['household_ID'].unique())\n",
    "\n",
    "# ======================================================\n",
    "# 3️⃣ Load all households from 6-hour interval files\n",
    "# ======================================================\n",
    "folder_path = '/home/ranushi/test/Anomaly DetectionMethod/6hour_interval'\n",
    "all_files = glob.glob(os.path.join(folder_path, '*.csv'))\n",
    "\n",
    "all_households = set()\n",
    "for file in all_files:\n",
    "    df = pd.read_csv(file)\n",
    "    if 'household_ID' in df.columns:\n",
    "        all_households.update(df['household_ID'].unique())\n",
    "    else:\n",
    "        print(f\"⚠️ Skipping {file}, no 'household_ID' column found.\")\n",
    "\n",
    "# ======================================================\n",
    "# 4️⃣ Identify normal households (not in ground truth anomalies)\n",
    "# ======================================================\n",
    "normal_households = all_households - true_anomalies\n",
    "\n",
    "# ======================================================\n",
    "# 5️⃣ Build labels for confusion matrix\n",
    "# ======================================================\n",
    "y_true = []\n",
    "y_pred = []\n",
    "\n",
    "for hh in all_households:\n",
    "    true_label = 1 if hh in true_anomalies else 0\n",
    "    pred_label = 1 if hh in predicted_anomalies else 0\n",
    "    y_true.append(true_label)\n",
    "    y_pred.append(pred_label)\n",
    "\n",
    "# ======================================================\n",
    "# 6️⃣ Compute confusion matrix\n",
    "# ======================================================\n",
    "cm = confusion_matrix(y_true, y_pred, labels=[1, 0])\n",
    "\n",
    "# Order: [[TP, FN], [FP, TN]]\n",
    "tp, fn, fp, tn = cm[0,0], cm[0,1], cm[1,0], cm[1,1]\n",
    "\n",
    "print(\"✅ Confusion Matrix:\")\n",
    "print(pd.DataFrame(cm,\n",
    "                   index=['Actual: Anomalous', 'Actual: Normal'],\n",
    "                   columns=['Predicted: Anomalous', 'Predicted: Normal']))\n",
    "print(\"\\nMetrics Summary:\")\n",
    "print(f\"True Positives (TP): {tp}\")\n",
    "print(f\"False Negatives (FN): {fn}\")\n",
    "print(f\"False Positives (FP): {fp}\")\n",
    "print(f\"True Negatives (TN): {tn}\")\n",
    "\n",
    "# ======================================================\n",
    "# 7️⃣ Visualize confusion matrix\n",
    "# ======================================================\n",
    "disp = ConfusionMatrixDisplay(confusion_matrix=cm,\n",
    "                              display_labels=['Anomalous', 'Normal'])\n",
    "disp.plot(cmap='Blues')\n",
    "plt.title(\"Confusion Matrix - Household Anomaly Detection\")\n",
    "plt.show()"
   ]
  },
  {
   "cell_type": "code",
   "execution_count": 45,
   "id": "88e8297d",
   "metadata": {},
   "outputs": [
    {
     "name": "stdout",
     "output_type": "stream",
     "text": [
      "\n",
      "==================== METRICS SUMMARY ====================\n",
      "Accuracy : 0.868\n",
      "Precision: 0.270\n",
      "Recall   : 0.245\n",
      "F1 Score : 0.257\n",
      "==========================================================\n",
      "\n",
      "Detailed Classification Report:\n",
      "              precision    recall  f1-score   support\n",
      "\n",
      "      Normal      0.923     0.932     0.928      2676\n",
      "   Anomalous      0.270     0.245     0.257       274\n",
      "\n",
      "    accuracy                          0.868      2950\n",
      "   macro avg      0.597     0.588     0.592      2950\n",
      "weighted avg      0.863     0.868     0.866      2950\n",
      "\n"
     ]
    }
   ],
   "source": [
    "from sklearn.metrics import (\n",
    "    f1_score,\n",
    "    precision_score,\n",
    "    recall_score,\n",
    "    accuracy_score,\n",
    "    classification_report\n",
    ")\n",
    "\n",
    "# ======================================================\n",
    "# 6️⃣.1 Compute full performance metrics\n",
    "# ======================================================\n",
    "\n",
    "# Accuracy\n",
    "accuracy = accuracy_score(y_true, y_pred)\n",
    "\n",
    "# Precision, Recall, F1\n",
    "precision = precision_score(y_true, y_pred)\n",
    "recall = recall_score(y_true, y_pred)\n",
    "f1 = f1_score(y_true, y_pred)\n",
    "\n",
    "# Classification report\n",
    "report = classification_report(\n",
    "    y_true,\n",
    "    y_pred,\n",
    "    target_names=[\"Normal\", \"Anomalous\"],\n",
    "    digits=3\n",
    ")\n",
    "\n",
    "# Print results\n",
    "print(\"\\n==================== METRICS SUMMARY ====================\")\n",
    "print(f\"Accuracy : {accuracy:.3f}\")\n",
    "print(f\"Precision: {precision:.3f}\")\n",
    "print(f\"Recall   : {recall:.3f}\")\n",
    "print(f\"F1 Score : {f1:.3f}\")\n",
    "print(\"==========================================================\")\n",
    "print(\"\\nDetailed Classification Report:\")\n",
    "print(report)"
   ]
  },
  {
   "cell_type": "code",
   "execution_count": null,
   "id": "27cf7684",
   "metadata": {},
   "outputs": [],
   "source": []
  }
 ],
 "metadata": {
  "kernelspec": {
   "display_name": ".venv",
   "language": "python",
   "name": "python3"
  },
  "language_info": {
   "codemirror_mode": {
    "name": "ipython",
    "version": 3
   },
   "file_extension": ".py",
   "mimetype": "text/x-python",
   "name": "python",
   "nbconvert_exporter": "python",
   "pygments_lexer": "ipython3",
   "version": "3.10.12"
  }
 },
 "nbformat": 4,
 "nbformat_minor": 5
}
