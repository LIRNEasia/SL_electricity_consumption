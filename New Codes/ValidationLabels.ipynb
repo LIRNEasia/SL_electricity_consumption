{
 "cells": [
  {
   "cell_type": "code",
   "execution_count": 2,
   "id": "32733b6a",
   "metadata": {},
   "outputs": [],
   "source": [
    "import pandas as pd"
   ]
  },
  {
   "cell_type": "markdown",
   "id": "61f48d8e",
   "metadata": {},
   "source": [
    "## Appliance Wise Validation"
   ]
  },
  {
   "cell_type": "markdown",
   "id": "0b9a9ad6",
   "metadata": {},
   "source": [
    "### Appliance Age and Power factor"
   ]
  },
  {
   "cell_type": "code",
   "execution_count": null,
   "id": "e125eecb",
   "metadata": {},
   "outputs": [],
   "source": []
  },
  {
   "cell_type": "code",
   "execution_count": 3,
   "id": "8d6a7f62",
   "metadata": {},
   "outputs": [],
   "source": [
    "# -------------------------------\n",
    "# 1️⃣ Load similar usage CSV\n",
    "# -------------------------------\n",
    "similar_csv = '/home/ranushi/test/Anomaly DetectionMethod/similar_usage_high_energy_households3.csv'\n",
    "similar_df = pd.read_csv(similar_csv)\n",
    "similar_df = similar_df[['household_ID', 'cluster']]\n",
    "\n",
    "# -------------------------------\n",
    "# 2️⃣ Load autoencoder CSVs (clusters 0-6) and concatenate\n",
    "# -------------------------------\n",
    "ae_dfs = []\n",
    "for i in range(6):\n",
    "    path = f'/home/ranushi/test/Anomaly DetectionMethod/anomalous_high_energy_households_cluster_2{i}.csv'\n",
    "    df = pd.read_csv(path)\n",
    "    df = df[['household_ID', 'cluster']]\n",
    "    ae_dfs.append(df)\n",
    "\n",
    "ae_df = pd.concat(ae_dfs, ignore_index=True)"
   ]
  },
  {
   "cell_type": "code",
   "execution_count": 4,
   "id": "33e138ad",
   "metadata": {},
   "outputs": [
    {
     "data": {
      "text/html": [
       "<div>\n",
       "<style scoped>\n",
       "    .dataframe tbody tr th:only-of-type {\n",
       "        vertical-align: middle;\n",
       "    }\n",
       "\n",
       "    .dataframe tbody tr th {\n",
       "        vertical-align: top;\n",
       "    }\n",
       "\n",
       "    .dataframe thead th {\n",
       "        text-align: right;\n",
       "    }\n",
       "</style>\n",
       "<table border=\"1\" class=\"dataframe\">\n",
       "  <thead>\n",
       "    <tr style=\"text-align: right;\">\n",
       "      <th></th>\n",
       "      <th>household_ID</th>\n",
       "      <th>cluster</th>\n",
       "    </tr>\n",
       "  </thead>\n",
       "  <tbody>\n",
       "    <tr>\n",
       "      <th>0</th>\n",
       "      <td>ID0060</td>\n",
       "      <td>0</td>\n",
       "    </tr>\n",
       "    <tr>\n",
       "      <th>1</th>\n",
       "      <td>ID0497</td>\n",
       "      <td>0</td>\n",
       "    </tr>\n",
       "    <tr>\n",
       "      <th>2</th>\n",
       "      <td>ID0835</td>\n",
       "      <td>0</td>\n",
       "    </tr>\n",
       "    <tr>\n",
       "      <th>3</th>\n",
       "      <td>ID0861</td>\n",
       "      <td>0</td>\n",
       "    </tr>\n",
       "    <tr>\n",
       "      <th>4</th>\n",
       "      <td>ID0914</td>\n",
       "      <td>0</td>\n",
       "    </tr>\n",
       "    <tr>\n",
       "      <th>...</th>\n",
       "      <td>...</td>\n",
       "      <td>...</td>\n",
       "    </tr>\n",
       "    <tr>\n",
       "      <th>243</th>\n",
       "      <td>ID3515</td>\n",
       "      <td>5</td>\n",
       "    </tr>\n",
       "    <tr>\n",
       "      <th>244</th>\n",
       "      <td>ID3558</td>\n",
       "      <td>5</td>\n",
       "    </tr>\n",
       "    <tr>\n",
       "      <th>245</th>\n",
       "      <td>ID3720</td>\n",
       "      <td>5</td>\n",
       "    </tr>\n",
       "    <tr>\n",
       "      <th>246</th>\n",
       "      <td>ID3776</td>\n",
       "      <td>5</td>\n",
       "    </tr>\n",
       "    <tr>\n",
       "      <th>247</th>\n",
       "      <td>ID3796</td>\n",
       "      <td>5</td>\n",
       "    </tr>\n",
       "  </tbody>\n",
       "</table>\n",
       "<p>248 rows × 2 columns</p>\n",
       "</div>"
      ],
      "text/plain": [
       "    household_ID  cluster\n",
       "0         ID0060        0\n",
       "1         ID0497        0\n",
       "2         ID0835        0\n",
       "3         ID0861        0\n",
       "4         ID0914        0\n",
       "..           ...      ...\n",
       "243       ID3515        5\n",
       "244       ID3558        5\n",
       "245       ID3720        5\n",
       "246       ID3776        5\n",
       "247       ID3796        5\n",
       "\n",
       "[248 rows x 2 columns]"
      ]
     },
     "execution_count": 4,
     "metadata": {},
     "output_type": "execute_result"
    }
   ],
   "source": [
    "ae_df"
   ]
  },
  {
   "cell_type": "code",
   "execution_count": 5,
   "id": "447a52e7",
   "metadata": {},
   "outputs": [
    {
     "name": "stderr",
     "output_type": "stream",
     "text": [
      "/tmp/ipykernel_90523/2973607930.py:1: DtypeWarning: Columns (11) have mixed types. Specify dtype option on import or set low_memory=False.\n",
      "  appliance_age = pd.read_csv('/home/ranushi/test/Anomaly DetectionMethod/wave_1/household_appliance_specifications_202509020921.csv')\n"
     ]
    }
   ],
   "source": [
    "appliance_age = pd.read_csv('/home/ranushi/test/Anomaly DetectionMethod/wave_1/household_appliance_specifications_202509020921.csv')"
   ]
  },
  {
   "cell_type": "code",
   "execution_count": 6,
   "id": "1167b826",
   "metadata": {},
   "outputs": [],
   "source": [
    "appliance_age = appliance_age[['household_id','appliance_name','no_of_appliances','purchased_time1',\n",
    "                              'purchased_time2','purchased_time3','purchased_time4']]"
   ]
  },
  {
   "cell_type": "code",
   "execution_count": 7,
   "id": "7f903023",
   "metadata": {},
   "outputs": [],
   "source": [
    "df = appliance_age.copy()"
   ]
  },
  {
   "cell_type": "code",
   "execution_count": 8,
   "id": "a0ed0110",
   "metadata": {},
   "outputs": [
    {
     "name": "stdout",
     "output_type": "stream",
     "text": [
      "  household_id   appliance_name              appliance_age\n",
      "0       ID0430        Microwave     More than 10 years ago\n",
      "1       ID0430      Rice cooker  Wthin the last 5-10 years\n",
      "2       ID0430  Electric Kettle     More than 10 years ago\n",
      "3       ID0528     Refrigerator     More than 10 years ago\n",
      "4       ID0528      Rice cooker     Within the last 1 year\n"
     ]
    }
   ],
   "source": [
    "import pandas as pd\n",
    "import numpy as np\n",
    "\n",
    "# Define order of appliance age (older = larger number)\n",
    "age_order = {\n",
    "    'Within the last 1 year': 1,\n",
    "    'Within the last 1-5 years': 2,\n",
    "    'Wthin the last 1-5 years': 2,     # fix typo version\n",
    "    'Within the last 5-10 years': 3,\n",
    "    'Wthin the last 5-10 years': 3,    # fix typo version\n",
    "    'More than 10 years ago': 4\n",
    "}\n",
    "\n",
    "# Columns to check\n",
    "purchased_cols = ['purchased_time1', 'purchased_time2', 'purchased_time3', 'purchased_time4']\n",
    "\n",
    "# Convert categories to numeric according to hierarchy\n",
    "df_numeric = df[purchased_cols].apply(lambda col: col.map(age_order))\n",
    "\n",
    "# Find the oldest (maximum numeric value across columns)\n",
    "df['appliance_age_code'] = df_numeric.max(axis=1, skipna=True)\n",
    "\n",
    "# Map numeric code back to category name\n",
    "reverse_age_order = {v: k for k, v in age_order.items()}\n",
    "df['appliance_age'] = df['appliance_age_code'].map(reverse_age_order)\n",
    "\n",
    "# Keep only the required columns\n",
    "result = df[['household_id', 'appliance_name', 'appliance_age']].dropna(subset=['appliance_age']).reset_index(drop=True)\n",
    "\n",
    "print(result.head())"
   ]
  },
  {
   "cell_type": "code",
   "execution_count": 9,
   "id": "eaa0ccc4",
   "metadata": {},
   "outputs": [
    {
     "name": "stdout",
     "output_type": "stream",
     "text": [
      "\n",
      "✅ Appliance age groups recoded successfully.\n"
     ]
    }
   ],
   "source": [
    "if not result.empty:\n",
    "    def recode_age(age):\n",
    "        \"\"\"Simplify appliance age categories.\"\"\"\n",
    "        if age in ['More than 10 years ago', 'Unknown']:\n",
    "            return 'Old'\n",
    "        elif age in ['Within the last 1-5 years', 'Within the last 1 year']:\n",
    "            return 'Recent'\n",
    "        elif age in ['Within the last 5-10 years', 'Wthin the last 5-10 years']:\n",
    "            return 'Middle'\n",
    "        else:\n",
    "            return 'Old'\n",
    "\n",
    "    result['age_group'] = result['appliance_age'].apply(recode_age)\n",
    "    print(\"\\n✅ Appliance age groups recoded successfully.\")\n",
    "else:\n",
    "    print(\"⚠️ No appliance data to recode.\")"
   ]
  },
  {
   "cell_type": "code",
   "execution_count": 10,
   "id": "f24fa631",
   "metadata": {},
   "outputs": [
    {
     "name": "stdout",
     "output_type": "stream",
     "text": [
      "\n",
      "✅ Dominant appliance age category computed successfully!\n",
      "\n",
      "  household_id dominant_category\n",
      "0       ID0001          most_Old\n",
      "1       ID0002       most_Middle\n",
      "2       ID0003       most_Middle\n",
      "3       ID0005       most_Recent\n",
      "4       ID0006       most_Middle\n"
     ]
    }
   ],
   "source": [
    "import pandas as pd\n",
    "\n",
    "# Step 1: Define main appliances\n",
    "main_appliances = [\n",
    "    'Microwave',\n",
    "    'Refrigerator',\n",
    "    'Geyser / Hot water systems for bathrooms which operate from electricity',\n",
    "    'Washing Machine',\n",
    "    'Electric Oven',\n",
    "    'Separate Freezer',\n",
    "    'Air Conditioner',\n",
    "    'Electric heater (to control room temperature)'\n",
    "]\n",
    "\n",
    "# Step 2: Filter only main appliances\n",
    "filtered_df = result[result['appliance_name'].isin(main_appliances)].copy()\n",
    "\n",
    "# Step 3: Check which households remain\n",
    "if filtered_df.empty:\n",
    "    print(\"⚠️ No main appliances found in the data.\")\n",
    "else:\n",
    "    # Step 4: Count how many appliances fall under each age_group per household\n",
    "    household_age_counts = (\n",
    "        filtered_df.groupby(['household_id', 'age_group'])['appliance_name']\n",
    "        .count()\n",
    "        .reset_index(name='count')\n",
    "    )\n",
    "\n",
    "    # Step 5: Find the most common (mode) age group per household\n",
    "    # If there are ties, this picks the first one alphabetically (you can change logic if needed)\n",
    "    dominant_age = (\n",
    "        household_age_counts.loc[\n",
    "            household_age_counts.groupby('household_id')['count'].idxmax()\n",
    "        ]\n",
    "        .reset_index(drop=True)\n",
    "    )\n",
    "\n",
    "    # Step 6: Create the “most_...” column label\n",
    "    dominant_age['dominant_category'] = 'most_' + dominant_age['age_group']\n",
    "\n",
    "    # Step 7: Keep only household_id and dominant category\n",
    "    household_dominant_age = dominant_age[['household_id', 'dominant_category']]\n",
    "\n",
    "    print(\"\\n✅ Dominant appliance age category computed successfully!\\n\")\n",
    "    print(household_dominant_age.head())"
   ]
  },
  {
   "cell_type": "code",
   "execution_count": 11,
   "id": "45dff1ee",
   "metadata": {},
   "outputs": [
    {
     "name": "stdout",
     "output_type": "stream",
     "text": [
      "     household_ID  average_powerfactor\n",
      "0          ID0013             0.754472\n",
      "1          ID0018             0.205128\n",
      "2          ID0041            -0.001664\n",
      "3          ID0043             0.220554\n",
      "4          ID0052             0.869455\n",
      "...           ...                  ...\n",
      "2933       ID5571             0.946570\n",
      "2934       ID5572             0.121005\n",
      "2935       ID5573             0.710816\n",
      "2936       ID5574             0.553514\n",
      "2937       ID5575             0.245074\n",
      "\n",
      "[2938 rows x 2 columns]\n"
     ]
    }
   ],
   "source": [
    "import pandas as pd\n",
    "import os\n",
    "import glob\n",
    "\n",
    "# Directory path\n",
    "dir_path = '/home/ranushi/test/Anomaly DetectionMethod/15min_interval'\n",
    "\n",
    "# Get all CSV files in the directory\n",
    "csv_files = glob.glob(os.path.join(dir_path, '*.csv'))\n",
    "\n",
    "# List to store dataframes\n",
    "dfs = []\n",
    "\n",
    "# Read each CSV file\n",
    "for file in csv_files:\n",
    "    df = pd.read_csv(file)\n",
    "    dfs.append(df)\n",
    "\n",
    "# Concatenate all dataframes\n",
    "combined_df = pd.concat(dfs, ignore_index=True)\n",
    "\n",
    "# Calculate average powerfactor for each household\n",
    "avg_powerfactor = combined_df.groupby('household_ID')['powerfactor'].mean().reset_index()\n",
    "avg_powerfactor.columns = ['household_ID', 'average_powerfactor']\n",
    "\n",
    "# Display the result\n",
    "print(avg_powerfactor)"
   ]
  },
  {
   "cell_type": "code",
   "execution_count": 12,
   "id": "22d0c12c",
   "metadata": {},
   "outputs": [],
   "source": [
    "age_powerfactor = pd.merge(household_dominant_age,avg_powerfactor, left_on='household_id', right_on='household_ID', how='inner')"
   ]
  },
  {
   "cell_type": "code",
   "execution_count": 13,
   "id": "91799b74",
   "metadata": {},
   "outputs": [],
   "source": [
    "filtered_data = age_powerfactor[\n",
    "    (age_powerfactor['dominant_category'] == 'most_Old') & \n",
    "    (age_powerfactor['average_powerfactor'] < 0.75) &\n",
    "    (age_powerfactor['average_powerfactor'].notna())\n",
    "]"
   ]
  },
  {
   "cell_type": "code",
   "execution_count": 14,
   "id": "12f7b51a",
   "metadata": {},
   "outputs": [
    {
     "data": {
      "text/html": [
       "<div>\n",
       "<style scoped>\n",
       "    .dataframe tbody tr th:only-of-type {\n",
       "        vertical-align: middle;\n",
       "    }\n",
       "\n",
       "    .dataframe tbody tr th {\n",
       "        vertical-align: top;\n",
       "    }\n",
       "\n",
       "    .dataframe thead th {\n",
       "        text-align: right;\n",
       "    }\n",
       "</style>\n",
       "<table border=\"1\" class=\"dataframe\">\n",
       "  <thead>\n",
       "    <tr style=\"text-align: right;\">\n",
       "      <th></th>\n",
       "      <th>household_id</th>\n",
       "      <th>dominant_category</th>\n",
       "      <th>household_ID</th>\n",
       "      <th>average_powerfactor</th>\n",
       "    </tr>\n",
       "  </thead>\n",
       "  <tbody>\n",
       "    <tr>\n",
       "      <th>2</th>\n",
       "      <td>ID0041</td>\n",
       "      <td>most_Old</td>\n",
       "      <td>ID0041</td>\n",
       "      <td>-0.001664</td>\n",
       "    </tr>\n",
       "    <tr>\n",
       "      <th>5</th>\n",
       "      <td>ID0066</td>\n",
       "      <td>most_Old</td>\n",
       "      <td>ID0066</td>\n",
       "      <td>0.061352</td>\n",
       "    </tr>\n",
       "    <tr>\n",
       "      <th>6</th>\n",
       "      <td>ID0106</td>\n",
       "      <td>most_Old</td>\n",
       "      <td>ID0106</td>\n",
       "      <td>0.523001</td>\n",
       "    </tr>\n",
       "    <tr>\n",
       "      <th>14</th>\n",
       "      <td>ID0154</td>\n",
       "      <td>most_Old</td>\n",
       "      <td>ID0154</td>\n",
       "      <td>0.241896</td>\n",
       "    </tr>\n",
       "    <tr>\n",
       "      <th>26</th>\n",
       "      <td>ID0250</td>\n",
       "      <td>most_Old</td>\n",
       "      <td>ID0250</td>\n",
       "      <td>0.286587</td>\n",
       "    </tr>\n",
       "    <tr>\n",
       "      <th>...</th>\n",
       "      <td>...</td>\n",
       "      <td>...</td>\n",
       "      <td>...</td>\n",
       "      <td>...</td>\n",
       "    </tr>\n",
       "    <tr>\n",
       "      <th>820</th>\n",
       "      <td>ID3738</td>\n",
       "      <td>most_Old</td>\n",
       "      <td>ID3738</td>\n",
       "      <td>0.607396</td>\n",
       "    </tr>\n",
       "    <tr>\n",
       "      <th>825</th>\n",
       "      <td>ID3760</td>\n",
       "      <td>most_Old</td>\n",
       "      <td>ID3760</td>\n",
       "      <td>0.279393</td>\n",
       "    </tr>\n",
       "    <tr>\n",
       "      <th>831</th>\n",
       "      <td>ID3785</td>\n",
       "      <td>most_Old</td>\n",
       "      <td>ID3785</td>\n",
       "      <td>0.730197</td>\n",
       "    </tr>\n",
       "    <tr>\n",
       "      <th>832</th>\n",
       "      <td>ID3786</td>\n",
       "      <td>most_Old</td>\n",
       "      <td>ID3786</td>\n",
       "      <td>0.098233</td>\n",
       "    </tr>\n",
       "    <tr>\n",
       "      <th>842</th>\n",
       "      <td>ID3806</td>\n",
       "      <td>most_Old</td>\n",
       "      <td>ID3806</td>\n",
       "      <td>0.241695</td>\n",
       "    </tr>\n",
       "  </tbody>\n",
       "</table>\n",
       "<p>101 rows × 4 columns</p>\n",
       "</div>"
      ],
      "text/plain": [
       "    household_id dominant_category household_ID  average_powerfactor\n",
       "2         ID0041          most_Old       ID0041            -0.001664\n",
       "5         ID0066          most_Old       ID0066             0.061352\n",
       "6         ID0106          most_Old       ID0106             0.523001\n",
       "14        ID0154          most_Old       ID0154             0.241896\n",
       "26        ID0250          most_Old       ID0250             0.286587\n",
       "..           ...               ...          ...                  ...\n",
       "820       ID3738          most_Old       ID3738             0.607396\n",
       "825       ID3760          most_Old       ID3760             0.279393\n",
       "831       ID3785          most_Old       ID3785             0.730197\n",
       "832       ID3786          most_Old       ID3786             0.098233\n",
       "842       ID3806          most_Old       ID3806             0.241695\n",
       "\n",
       "[101 rows x 4 columns]"
      ]
     },
     "execution_count": 14,
     "metadata": {},
     "output_type": "execute_result"
    }
   ],
   "source": [
    "filtered_data"
   ]
  },
  {
   "cell_type": "code",
   "execution_count": 15,
   "id": "b920d080",
   "metadata": {},
   "outputs": [
    {
     "name": "stdout",
     "output_type": "stream",
     "text": [
      "Number of common households: 26\n",
      "  household_ID\n",
      "0       ID2383\n",
      "1       ID1575\n",
      "2       ID3282\n",
      "3       ID1031\n",
      "4       ID3560\n"
     ]
    }
   ],
   "source": [
    "import pandas as pd\n",
    "\n",
    "# Load the comparison CSV\n",
    "similar_usage_df = pd.read_csv('/home/ranushi/test/Anomaly DetectionMethod/similar_usage_high_energy_households3.csv')\n",
    "\n",
    "# Find intersection of household_IDs\n",
    "common_households = set(filtered_data['household_id']).intersection(set(similar_usage_df['household_ID']))\n",
    "\n",
    "# Convert to DataFrame if you want to see or save it\n",
    "intersection_df = pd.DataFrame({'household_ID': list(common_households)})\n",
    "\n",
    "# Display results\n",
    "print(f\"Number of common households: {len(intersection_df)}\")\n",
    "print(intersection_df.head())"
   ]
  },
  {
   "cell_type": "code",
   "execution_count": 16,
   "id": "dc581424",
   "metadata": {},
   "outputs": [],
   "source": [
    "import os\n",
    "import pandas as pd\n",
    "from sklearn.metrics import confusion_matrix, ConfusionMatrixDisplay\n",
    "import matplotlib.pyplot as plt\n",
    "import glob\n",
    "\n",
    "# ======================================================\n",
    "# 1️⃣ Load the ground truth anomalies (filtered_data)\n",
    "# ======================================================\n",
    "# Assuming filtered_data is already a DataFrame\n",
    "true_anomalies = set(filtered_data['household_ID'].unique())"
   ]
  },
  {
   "cell_type": "code",
   "execution_count": 17,
   "id": "400bc643",
   "metadata": {},
   "outputs": [],
   "source": [
    "# ======================================================\n",
    "# 2️⃣ Load predicted anomalies\n",
    "# ======================================================\n",
    "similar_csv = '/home/ranushi/test/Anomaly DetectionMethod/similar_usage_high_energy_households3.csv'\n",
    "predicted_anomalies_df = pd.read_csv(similar_csv)\n",
    "predicted_anomalies = set(predicted_anomalies_df['household_ID'].unique())"
   ]
  },
  {
   "cell_type": "code",
   "execution_count": 18,
   "id": "e34be0f2",
   "metadata": {},
   "outputs": [
    {
     "name": "stderr",
     "output_type": "stream",
     "text": [
      "/tmp/ipykernel_90523/4074882391.py:9: DtypeWarning: Columns (9,27) have mixed types. Specify dtype option on import or set low_memory=False.\n",
      "  df = pd.read_csv(file)\n",
      "/tmp/ipykernel_90523/4074882391.py:9: DtypeWarning: Columns (9) have mixed types. Specify dtype option on import or set low_memory=False.\n",
      "  df = pd.read_csv(file)\n",
      "/tmp/ipykernel_90523/4074882391.py:9: DtypeWarning: Columns (14,25,27) have mixed types. Specify dtype option on import or set low_memory=False.\n",
      "  df = pd.read_csv(file)\n",
      "/tmp/ipykernel_90523/4074882391.py:9: DtypeWarning: Columns (26) have mixed types. Specify dtype option on import or set low_memory=False.\n",
      "  df = pd.read_csv(file)\n"
     ]
    }
   ],
   "source": [
    "# ======================================================\n",
    "# 3️⃣ Load all households from 6-hour interval files\n",
    "# ======================================================\n",
    "folder_path = '/home/ranushi/test/Anomaly DetectionMethod/6hour_interval'\n",
    "all_files = glob.glob(os.path.join(folder_path, '*.csv'))\n",
    "\n",
    "all_households = set()\n",
    "for file in all_files:\n",
    "    df = pd.read_csv(file)\n",
    "    if 'household_ID' in df.columns:\n",
    "        all_households.update(df['household_ID'].unique())\n",
    "    else:\n",
    "        print(f\"⚠️ Skipping {file}, no 'household_ID' column found.\")\n",
    "\n",
    "# ======================================================\n",
    "# 4️⃣ Identify normal households (not in ground truth anomalies)\n",
    "# ======================================================\n",
    "normal_households = all_households - true_anomalies"
   ]
  },
  {
   "cell_type": "code",
   "execution_count": 19,
   "id": "b8b17457",
   "metadata": {},
   "outputs": [],
   "source": [
    "# ======================================================\n",
    "# 5️⃣ Build labels for confusion matrix\n",
    "# ======================================================\n",
    "y_true = []\n",
    "y_pred = []\n",
    "\n",
    "for hh in all_households:\n",
    "    true_label = 1 if hh in true_anomalies else 0\n",
    "    pred_label = 1 if hh in predicted_anomalies else 0\n",
    "    y_true.append(true_label)\n",
    "    y_pred.append(pred_label)"
   ]
  },
  {
   "cell_type": "code",
   "execution_count": 20,
   "id": "178dd896",
   "metadata": {},
   "outputs": [
    {
     "name": "stdout",
     "output_type": "stream",
     "text": [
      "✅ Confusion Matrix:\n",
      "                   Predicted: Anomalous  Predicted: Normal\n",
      "Actual: Anomalous                    26                 75\n",
      "Actual: Normal                      228               2621\n",
      "\n",
      "Metrics Summary:\n",
      "True Positives (TP): 26\n",
      "False Negatives (FN): 75\n",
      "False Positives (FP): 228\n",
      "True Negatives (TN): 2621\n"
     ]
    },
    {
     "data": {
      "image/png": "[encoded data removed]",
      "text/plain": [
       "<Figure size 640x480 with 2 Axes>"
      ]
     },
     "metadata": {},
     "output_type": "display_data"
    }
   ],
   "source": [
    "\n",
    "# ======================================================\n",
    "# 6️⃣ Compute confusion matrix\n",
    "# ======================================================\n",
    "cm = confusion_matrix(y_true, y_pred, labels=[1, 0])\n",
    "\n",
    "# Order: [[TP, FN], [FP, TN]]\n",
    "tp, fn, fp, tn = cm[0,0], cm[0,1], cm[1,0], cm[1,1]\n",
    "\n",
    "print(\"✅ Confusion Matrix:\")\n",
    "print(pd.DataFrame(cm,\n",
    "                   index=['Actual: Anomalous', 'Actual: Normal'],\n",
    "                   columns=['Predicted: Anomalous', 'Predicted: Normal']))\n",
    "print(\"\\nMetrics Summary:\")\n",
    "print(f\"True Positives (TP): {tp}\")\n",
    "print(f\"False Negatives (FN): {fn}\")\n",
    "print(f\"False Positives (FP): {fp}\")\n",
    "print(f\"True Negatives (TN): {tn}\")\n",
    "\n",
    "# ======================================================\n",
    "# 7️⃣ Visualize confusion matrix\n",
    "# ======================================================\n",
    "disp = ConfusionMatrixDisplay(confusion_matrix=cm,\n",
    "                              display_labels=['Anomalous', 'Normal'])\n",
    "disp.plot(cmap='Blues')\n",
    "plt.title(\"Confusion Matrix - Household Anomaly Detection\")\n",
    "plt.show()"
   ]
  },
  {
   "cell_type": "code",
   "execution_count": 21,
   "id": "37cf241a",
   "metadata": {},
   "outputs": [
    {
     "name": "stdout",
     "output_type": "stream",
     "text": [
      "\n",
      "==================== METRICS SUMMARY ====================\n",
      "Accuracy : 0.897\n",
      "Precision: 0.102\n",
      "Recall   : 0.257\n",
      "F1 Score : 0.146\n",
      "==========================================================\n",
      "\n",
      "Detailed Classification Report:\n",
      "              precision    recall  f1-score   support\n",
      "\n",
      "      Normal      0.972     0.920     0.945      2849\n",
      "   Anomalous      0.102     0.257     0.146       101\n",
      "\n",
      "    accuracy                          0.897      2950\n",
      "   macro avg      0.537     0.589     0.546      2950\n",
      "weighted avg      0.942     0.897     0.918      2950\n",
      "\n"
     ]
    }
   ],
   "source": [
    "from sklearn.metrics import (\n",
    "    f1_score,\n",
    "    precision_score,\n",
    "    recall_score,\n",
    "    accuracy_score,\n",
    "    classification_report\n",
    ")\n",
    "\n",
    "# ======================================================\n",
    "# 6️⃣.1 Compute full performance metrics\n",
    "# ======================================================\n",
    "\n",
    "# Accuracy\n",
    "accuracy = accuracy_score(y_true, y_pred)\n",
    "\n",
    "# Precision, Recall, F1\n",
    "precision = precision_score(y_true, y_pred)\n",
    "recall = recall_score(y_true, y_pred)\n",
    "f1 = f1_score(y_true, y_pred)\n",
    "\n",
    "# Classification report\n",
    "report = classification_report(\n",
    "    y_true,\n",
    "    y_pred,\n",
    "    target_names=[\"Normal\", \"Anomalous\"],\n",
    "    digits=3\n",
    ")\n",
    "\n",
    "# Print results\n",
    "print(\"\\n==================== METRICS SUMMARY ====================\")\n",
    "print(f\"Accuracy : {accuracy:.3f}\")\n",
    "print(f\"Precision: {precision:.3f}\")\n",
    "print(f\"Recall   : {recall:.3f}\")\n",
    "print(f\"F1 Score : {f1:.3f}\")\n",
    "print(\"==========================================================\")\n",
    "print(\"\\nDetailed Classification Report:\")\n",
    "print(report)"
   ]
  },
  {
   "cell_type": "markdown",
   "id": "c4027b00",
   "metadata": {},
   "source": [
    "##  AC,Ref"
   ]
  },
  {
   "cell_type": "code",
   "execution_count": 20,
   "id": "bdf79fa8",
   "metadata": {},
   "outputs": [
    {
     "name": "stderr",
     "output_type": "stream",
     "text": [
      "/tmp/ipykernel_4116148/2973607930.py:1: DtypeWarning: Columns (11) have mixed types. Specify dtype option on import or set low_memory=False.\n",
      "  appliance_age = pd.read_csv('/home/ranushi/test/Anomaly DetectionMethod/wave_1/household_appliance_specifications_202509020921.csv')\n"
     ]
    }
   ],
   "source": [
    "appliance_age = pd.read_csv('/home/ranushi/test/Anomaly DetectionMethod/wave_1/household_appliance_specifications_202509020921.csv')"
   ]
  },
  {
   "cell_type": "code",
   "execution_count": 21,
   "id": "dbeec10d",
   "metadata": {},
   "outputs": [],
   "source": [
    "appliance_age = appliance_age[['household_id','appliance_name','no_of_appliances','purchased_time1',\n",
    "                              'purchased_time2','purchased_time3','purchased_time4']]"
   ]
  },
  {
   "cell_type": "code",
   "execution_count": 23,
   "id": "76e8e9df",
   "metadata": {},
   "outputs": [],
   "source": [
    "df = appliance_age.copy()"
   ]
  },
  {
   "cell_type": "code",
   "execution_count": 24,
   "id": "20200567",
   "metadata": {},
   "outputs": [
    {
     "name": "stdout",
     "output_type": "stream",
     "text": [
      "  household_id   appliance_name              appliance_age\n",
      "0       ID0430        Microwave     More than 10 years ago\n",
      "1       ID0430      Rice cooker  Wthin the last 5-10 years\n",
      "2       ID0430  Electric Kettle     More than 10 years ago\n",
      "3       ID0528     Refrigerator     More than 10 years ago\n",
      "4       ID0528      Rice cooker     Within the last 1 year\n"
     ]
    }
   ],
   "source": [
    "import pandas as pd\n",
    "import numpy as np\n",
    "\n",
    "# Define order of appliance age (older = larger number)\n",
    "age_order = {\n",
    "    'Within the last 1 year': 1,\n",
    "    'Within the last 1-5 years': 2,\n",
    "    'Wthin the last 1-5 years': 2,     # fix typo version\n",
    "    'Within the last 5-10 years': 3,\n",
    "    'Wthin the last 5-10 years': 3,    # fix typo version\n",
    "    'More than 10 years ago': 4\n",
    "}\n",
    "\n",
    "# Columns to check\n",
    "purchased_cols = ['purchased_time1', 'purchased_time2', 'purchased_time3', 'purchased_time4']\n",
    "\n",
    "# Convert categories to numeric according to hierarchy\n",
    "df_numeric = df[purchased_cols].apply(lambda col: col.map(age_order))\n",
    "\n",
    "# Find the oldest (maximum numeric value across columns)\n",
    "df['appliance_age_code'] = df_numeric.max(axis=1, skipna=True)\n",
    "\n",
    "# Map numeric code back to category name\n",
    "reverse_age_order = {v: k for k, v in age_order.items()}\n",
    "df['appliance_age'] = df['appliance_age_code'].map(reverse_age_order)\n",
    "\n",
    "# Keep only the required columns\n",
    "result = df[['household_id', 'appliance_name', 'appliance_age']].dropna(subset=['appliance_age']).reset_index(drop=True)\n",
    "\n",
    "print(result.head())"
   ]
  },
  {
   "cell_type": "markdown",
   "id": "264615e4",
   "metadata": {},
   "source": [
    "#### AC, REF More than 5 years"
   ]
  },
  {
   "cell_type": "code",
   "execution_count": 61,
   "id": "16cb188b",
   "metadata": {},
   "outputs": [],
   "source": [
    "# Define target appliances\n",
    "target_appliances = ['Air Conditioner', 'Refrigerator']\n",
    "\n",
    "# Define old or unknown age categories\n",
    "old_or_unknown = [\n",
    "    'Within the last 5-10 years',\n",
    "    'Wthin the last 5-10 years',\n",
    "    'More than 10 years ago'\n",
    "]\n",
    "\n",
    "# Filter rows for those appliances and ages (or NaN)\n",
    "filtered1 = result[\n",
    "    (result['appliance_name'].isin(target_appliances)) &\n",
    "    (result['appliance_age'].isin(old_or_unknown) | result['appliance_age'].isna())\n",
    "]\n",
    "\n",
    "# Get unique household IDs that meet the condition\n",
    "households_to_flag1 = filtered1['household_id'].unique()\n",
    "\n"
   ]
  },
  {
   "cell_type": "code",
   "execution_count": 62,
   "id": "b4f328a7",
   "metadata": {},
   "outputs": [
    {
     "data": {
      "text/plain": [
       "1742"
      ]
     },
     "execution_count": 62,
     "metadata": {},
     "output_type": "execute_result"
    }
   ],
   "source": [
    "len(households_to_flag1)"
   ]
  },
  {
   "cell_type": "code",
   "execution_count": 63,
   "id": "a67607b5",
   "metadata": {},
   "outputs": [
    {
     "data": {
      "text/html": [
       "<div>\n",
       "<style scoped>\n",
       "    .dataframe tbody tr th:only-of-type {\n",
       "        vertical-align: middle;\n",
       "    }\n",
       "\n",
       "    .dataframe tbody tr th {\n",
       "        vertical-align: top;\n",
       "    }\n",
       "\n",
       "    .dataframe thead th {\n",
       "        text-align: right;\n",
       "    }\n",
       "</style>\n",
       "<table border=\"1\" class=\"dataframe\">\n",
       "  <thead>\n",
       "    <tr style=\"text-align: right;\">\n",
       "      <th></th>\n",
       "      <th>household_id</th>\n",
       "    </tr>\n",
       "  </thead>\n",
       "  <tbody>\n",
       "    <tr>\n",
       "      <th>0</th>\n",
       "      <td>ID0528</td>\n",
       "    </tr>\n",
       "    <tr>\n",
       "      <th>1</th>\n",
       "      <td>ID2328</td>\n",
       "    </tr>\n",
       "    <tr>\n",
       "      <th>2</th>\n",
       "      <td>ID1146</td>\n",
       "    </tr>\n",
       "    <tr>\n",
       "      <th>3</th>\n",
       "      <td>ID2755</td>\n",
       "    </tr>\n",
       "    <tr>\n",
       "      <th>4</th>\n",
       "      <td>ID2663</td>\n",
       "    </tr>\n",
       "    <tr>\n",
       "      <th>...</th>\n",
       "      <td>...</td>\n",
       "    </tr>\n",
       "    <tr>\n",
       "      <th>1737</th>\n",
       "      <td>ID2496</td>\n",
       "    </tr>\n",
       "    <tr>\n",
       "      <th>1738</th>\n",
       "      <td>ID0320</td>\n",
       "    </tr>\n",
       "    <tr>\n",
       "      <th>1739</th>\n",
       "      <td>ID0373</td>\n",
       "    </tr>\n",
       "    <tr>\n",
       "      <th>1740</th>\n",
       "      <td>ID0160</td>\n",
       "    </tr>\n",
       "    <tr>\n",
       "      <th>1741</th>\n",
       "      <td>ID1667</td>\n",
       "    </tr>\n",
       "  </tbody>\n",
       "</table>\n",
       "<p>1742 rows × 1 columns</p>\n",
       "</div>"
      ],
      "text/plain": [
       "     household_id\n",
       "0          ID0528\n",
       "1          ID2328\n",
       "2          ID1146\n",
       "3          ID2755\n",
       "4          ID2663\n",
       "...           ...\n",
       "1737       ID2496\n",
       "1738       ID0320\n",
       "1739       ID0373\n",
       "1740       ID0160\n",
       "1741       ID1667\n",
       "\n",
       "[1742 rows x 1 columns]"
      ]
     },
     "execution_count": 63,
     "metadata": {},
     "output_type": "execute_result"
    }
   ],
   "source": [
    "households_to_flag1 = pd.DataFrame(households_to_flag1, columns=['household_id'])\n",
    "households_to_flag1"
   ]
  },
  {
   "cell_type": "code",
   "execution_count": 64,
   "id": "9cc42d75",
   "metadata": {},
   "outputs": [
    {
     "name": "stdout",
     "output_type": "stream",
     "text": [
      "Number of common households: 119\n",
      "  household_ID\n",
      "0       ID2911\n",
      "1       ID1424\n",
      "2       ID1778\n",
      "3       ID0773\n",
      "4       ID0796\n"
     ]
    }
   ],
   "source": [
    "### for socio economic class\n",
    "import pandas as pd\n",
    "\n",
    "# Load the comparison CSV\n",
    "similar_usage_df = pd.read_csv('/home/ranushi/test/Anomaly DetectionMethod/similar_usage_high_energy_households3.csv')\n",
    "\n",
    "# Find intersection of household_IDs\n",
    "common_households = set(households_to_flag1['household_id']).intersection(set(similar_usage_df['household_ID']))\n",
    "\n",
    "# Convert to DataFrame if you want to see or save it\n",
    "intersection_df = pd.DataFrame({'household_ID': list(common_households)})\n",
    "\n",
    "# Display results\n",
    "print(f\"Number of common households: {len(intersection_df)}\")\n",
    "print(intersection_df.head())"
   ]
  },
  {
   "cell_type": "code",
   "execution_count": 65,
   "id": "8132c745",
   "metadata": {},
   "outputs": [],
   "source": [
    "import os\n",
    "import pandas as pd\n",
    "from sklearn.metrics import confusion_matrix, ConfusionMatrixDisplay\n",
    "import matplotlib.pyplot as plt\n",
    "import glob\n",
    "\n",
    "# ======================================================\n",
    "# 1️⃣ Load the ground truth anomalies (filtered_data)\n",
    "# ======================================================\n",
    "# Assuming filtered_data is already a DataFrame\n",
    "true_anomalies = set(households_to_flag1['household_id'].unique())"
   ]
  },
  {
   "cell_type": "code",
   "execution_count": 66,
   "id": "1e3f0cf7",
   "metadata": {},
   "outputs": [],
   "source": [
    "# ======================================================\n",
    "# 2️⃣ Load predicted anomalies\n",
    "# ======================================================\n",
    "similar_csv = '/home/ranushi/test/Anomaly DetectionMethod/similar_usage_high_energy_households3.csv'\n",
    "predicted_anomalies_df = pd.read_csv(similar_csv)\n",
    "predicted_anomalies = set(predicted_anomalies_df['household_ID'].unique())"
   ]
  },
  {
   "cell_type": "code",
   "execution_count": 37,
   "id": "f946ab27",
   "metadata": {},
   "outputs": [
    {
     "name": "stderr",
     "output_type": "stream",
     "text": [
      "/tmp/ipykernel_4116148/4074882391.py:9: DtypeWarning: Columns (9,27) have mixed types. Specify dtype option on import or set low_memory=False.\n",
      "  df = pd.read_csv(file)\n",
      "/tmp/ipykernel_4116148/4074882391.py:9: DtypeWarning: Columns (9) have mixed types. Specify dtype option on import or set low_memory=False.\n",
      "  df = pd.read_csv(file)\n",
      "/tmp/ipykernel_4116148/4074882391.py:9: DtypeWarning: Columns (14,25,27) have mixed types. Specify dtype option on import or set low_memory=False.\n",
      "  df = pd.read_csv(file)\n",
      "/tmp/ipykernel_4116148/4074882391.py:9: DtypeWarning: Columns (26) have mixed types. Specify dtype option on import or set low_memory=False.\n",
      "  df = pd.read_csv(file)\n"
     ]
    }
   ],
   "source": [
    "# ======================================================\n",
    "# 3️⃣ Load all households from 6-hour interval files\n",
    "# ======================================================\n",
    "folder_path = '/home/ranushi/test/Anomaly DetectionMethod/6hour_interval'\n",
    "all_files = glob.glob(os.path.join(folder_path, '*.csv'))\n",
    "\n",
    "all_households = set()\n",
    "for file in all_files:\n",
    "    df = pd.read_csv(file)\n",
    "    if 'household_ID' in df.columns:\n",
    "        all_households.update(df['household_ID'].unique())\n",
    "    else:\n",
    "        print(f\"⚠️ Skipping {file}, no 'household_ID' column found.\")\n",
    "\n",
    "# ======================================================\n",
    "# 4️⃣ Identify normal households (not in ground truth anomalies)\n",
    "# ======================================================\n",
    "normal_households = all_households - true_anomalies"
   ]
  },
  {
   "cell_type": "code",
   "execution_count": 67,
   "id": "9c938530",
   "metadata": {},
   "outputs": [],
   "source": [
    "# ======================================================\n",
    "# 5️⃣ Build labels for confusion matrix\n",
    "# ======================================================\n",
    "y_true = []\n",
    "y_pred = []\n",
    "\n",
    "for hh in all_households:\n",
    "    true_label = 1 if hh in true_anomalies else 0\n",
    "    pred_label = 1 if hh in predicted_anomalies else 0\n",
    "    y_true.append(true_label)\n",
    "    y_pred.append(pred_label)"
   ]
  },
  {
   "cell_type": "code",
   "execution_count": 68,
   "id": "5ea340f9",
   "metadata": {},
   "outputs": [
    {
     "name": "stdout",
     "output_type": "stream",
     "text": [
      "✅ Confusion Matrix:\n",
      "                   Predicted: Anomalous  Predicted: Normal\n",
      "Actual: Anomalous                   119                519\n",
      "Actual: Normal                      135               2177\n",
      "\n",
      "Metrics Summary:\n",
      "True Positives (TP): 119\n",
      "False Negatives (FN): 519\n",
      "False Positives (FP): 135\n",
      "True Negatives (TN): 2177\n"
     ]
    },
    {
     "data": {
      "image/png": "[encoded data removed]",
      "text/plain": [
       "<Figure size 640x480 with 2 Axes>"
      ]
     },
     "metadata": {},
     "output_type": "display_data"
    }
   ],
   "source": [
    "\n",
    "# ======================================================\n",
    "# 6️⃣ Compute confusion matrix\n",
    "# ======================================================\n",
    "cm = confusion_matrix(y_true, y_pred, labels=[1, 0])\n",
    "\n",
    "# Order: [[TP, FN], [FP, TN]]\n",
    "tp, fn, fp, tn = cm[0,0], cm[0,1], cm[1,0], cm[1,1]\n",
    "\n",
    "print(\"✅ Confusion Matrix:\")\n",
    "print(pd.DataFrame(cm,\n",
    "                   index=['Actual: Anomalous', 'Actual: Normal'],\n",
    "                   columns=['Predicted: Anomalous', 'Predicted: Normal']))\n",
    "print(\"\\nMetrics Summary:\")\n",
    "print(f\"True Positives (TP): {tp}\")\n",
    "print(f\"False Negatives (FN): {fn}\")\n",
    "print(f\"False Positives (FP): {fp}\")\n",
    "print(f\"True Negatives (TN): {tn}\")\n",
    "\n",
    "# ======================================================\n",
    "# 7️⃣ Visualize confusion matrix\n",
    "# ======================================================\n",
    "disp = ConfusionMatrixDisplay(confusion_matrix=cm,\n",
    "                              display_labels=['Anomalous', 'Normal'])\n",
    "disp.plot(cmap='Blues')\n",
    "plt.title(\"Confusion Matrix - Household Anomaly Detection\")\n",
    "plt.show()"
   ]
  },
  {
   "cell_type": "code",
   "execution_count": 69,
   "id": "c5054ff0",
   "metadata": {},
   "outputs": [
    {
     "name": "stdout",
     "output_type": "stream",
     "text": [
      "\n",
      "==================== METRICS SUMMARY ====================\n",
      "Accuracy : 0.778\n",
      "Precision: 0.469\n",
      "Recall   : 0.187\n",
      "F1 Score : 0.267\n",
      "==========================================================\n",
      "\n",
      "Detailed Classification Report:\n",
      "              precision    recall  f1-score   support\n",
      "\n",
      "      Normal      0.807     0.942     0.869      2312\n",
      "   Anomalous      0.469     0.187     0.267       638\n",
      "\n",
      "    accuracy                          0.778      2950\n",
      "   macro avg      0.638     0.564     0.568      2950\n",
      "weighted avg      0.734     0.778     0.739      2950\n",
      "\n"
     ]
    }
   ],
   "source": [
    "from sklearn.metrics import (\n",
    "    f1_score,\n",
    "    precision_score,\n",
    "    recall_score,\n",
    "    accuracy_score,\n",
    "    classification_report\n",
    ")\n",
    "\n",
    "# ======================================================\n",
    "# 6️⃣.1 Compute full performance metrics\n",
    "# ======================================================\n",
    "\n",
    "# Accuracy\n",
    "accuracy = accuracy_score(y_true, y_pred)\n",
    "\n",
    "# Precision, Recall, F1\n",
    "precision = precision_score(y_true, y_pred)\n",
    "recall = recall_score(y_true, y_pred)\n",
    "f1 = f1_score(y_true, y_pred)\n",
    "\n",
    "# Classification report\n",
    "report = classification_report(\n",
    "    y_true,\n",
    "    y_pred,\n",
    "    target_names=[\"Normal\", \"Anomalous\"],\n",
    "    digits=3\n",
    ")\n",
    "\n",
    "# Print results\n",
    "print(\"\\n==================== METRICS SUMMARY ====================\")\n",
    "print(f\"Accuracy : {accuracy:.3f}\")\n",
    "print(f\"Precision: {precision:.3f}\")\n",
    "print(f\"Recall   : {recall:.3f}\")\n",
    "print(f\"F1 Score : {f1:.3f}\")\n",
    "print(\"==========================================================\")\n",
    "print(\"\\nDetailed Classification Report:\")\n",
    "print(report)"
   ]
  },
  {
   "cell_type": "markdown",
   "id": "a1a558ee",
   "metadata": {},
   "source": [
    "#### AC, REF more than 10 years"
   ]
  },
  {
   "cell_type": "code",
   "execution_count": 50,
   "id": "cdbe430b",
   "metadata": {},
   "outputs": [
    {
     "data": {
      "text/html": [
       "<div>\n",
       "<style scoped>\n",
       "    .dataframe tbody tr th:only-of-type {\n",
       "        vertical-align: middle;\n",
       "    }\n",
       "\n",
       "    .dataframe tbody tr th {\n",
       "        vertical-align: top;\n",
       "    }\n",
       "\n",
       "    .dataframe thead th {\n",
       "        text-align: right;\n",
       "    }\n",
       "</style>\n",
       "<table border=\"1\" class=\"dataframe\">\n",
       "  <thead>\n",
       "    <tr style=\"text-align: right;\">\n",
       "      <th></th>\n",
       "      <th>household_id</th>\n",
       "      <th>appliance_name</th>\n",
       "      <th>appliance_age</th>\n",
       "    </tr>\n",
       "  </thead>\n",
       "  <tbody>\n",
       "    <tr>\n",
       "      <th>0</th>\n",
       "      <td>ID0430</td>\n",
       "      <td>Microwave</td>\n",
       "      <td>More than 10 years ago</td>\n",
       "    </tr>\n",
       "    <tr>\n",
       "      <th>1</th>\n",
       "      <td>ID0430</td>\n",
       "      <td>Rice cooker</td>\n",
       "      <td>Wthin the last 5-10 years</td>\n",
       "    </tr>\n",
       "    <tr>\n",
       "      <th>2</th>\n",
       "      <td>ID0430</td>\n",
       "      <td>Electric Kettle</td>\n",
       "      <td>More than 10 years ago</td>\n",
       "    </tr>\n",
       "    <tr>\n",
       "      <th>3</th>\n",
       "      <td>ID0528</td>\n",
       "      <td>Refrigerator</td>\n",
       "      <td>More than 10 years ago</td>\n",
       "    </tr>\n",
       "    <tr>\n",
       "      <th>4</th>\n",
       "      <td>ID0528</td>\n",
       "      <td>Rice cooker</td>\n",
       "      <td>Within the last 1 year</td>\n",
       "    </tr>\n",
       "    <tr>\n",
       "      <th>...</th>\n",
       "      <td>...</td>\n",
       "      <td>...</td>\n",
       "      <td>...</td>\n",
       "    </tr>\n",
       "    <tr>\n",
       "      <th>11300</th>\n",
       "      <td>ID1667</td>\n",
       "      <td>TV</td>\n",
       "      <td>Wthin the last 5-10 years</td>\n",
       "    </tr>\n",
       "    <tr>\n",
       "      <th>11301</th>\n",
       "      <td>ID1667</td>\n",
       "      <td>Computers</td>\n",
       "      <td>Wthin the last 5-10 years</td>\n",
       "    </tr>\n",
       "    <tr>\n",
       "      <th>11302</th>\n",
       "      <td>ID1667</td>\n",
       "      <td>Laptops</td>\n",
       "      <td>Wthin the last 5-10 years</td>\n",
       "    </tr>\n",
       "    <tr>\n",
       "      <th>11303</th>\n",
       "      <td>ID1667</td>\n",
       "      <td>Electric Water pump</td>\n",
       "      <td>More than 10 years ago</td>\n",
       "    </tr>\n",
       "    <tr>\n",
       "      <th>11304</th>\n",
       "      <td>ID1667</td>\n",
       "      <td>Geyser / Hot water systems for bathrooms which...</td>\n",
       "      <td>Within the last 1 year</td>\n",
       "    </tr>\n",
       "  </tbody>\n",
       "</table>\n",
       "<p>11305 rows × 3 columns</p>\n",
       "</div>"
      ],
      "text/plain": [
       "      household_id                                     appliance_name  \\\n",
       "0           ID0430                                          Microwave   \n",
       "1           ID0430                                        Rice cooker   \n",
       "2           ID0430                                    Electric Kettle   \n",
       "3           ID0528                                       Refrigerator   \n",
       "4           ID0528                                        Rice cooker   \n",
       "...            ...                                                ...   \n",
       "11300       ID1667                                                 TV   \n",
       "11301       ID1667                                          Computers   \n",
       "11302       ID1667                                            Laptops   \n",
       "11303       ID1667                                Electric Water pump   \n",
       "11304       ID1667  Geyser / Hot water systems for bathrooms which...   \n",
       "\n",
       "                   appliance_age  \n",
       "0         More than 10 years ago  \n",
       "1      Wthin the last 5-10 years  \n",
       "2         More than 10 years ago  \n",
       "3         More than 10 years ago  \n",
       "4         Within the last 1 year  \n",
       "...                          ...  \n",
       "11300  Wthin the last 5-10 years  \n",
       "11301  Wthin the last 5-10 years  \n",
       "11302  Wthin the last 5-10 years  \n",
       "11303     More than 10 years ago  \n",
       "11304     Within the last 1 year  \n",
       "\n",
       "[11305 rows x 3 columns]"
      ]
     },
     "execution_count": 50,
     "metadata": {},
     "output_type": "execute_result"
    }
   ],
   "source": [
    "result"
   ]
  },
  {
   "cell_type": "code",
   "execution_count": 70,
   "id": "19db171b",
   "metadata": {},
   "outputs": [],
   "source": [
    "# Define target appliances\n",
    "target_appliances = ['Air Conditioner', 'Refrigerator']\n",
    "\n",
    "# Define old or unknown age categories\n",
    "old_or_unknown = [\n",
    "    'More than 10 years ago'\n",
    "]\n",
    "\n",
    "# Filter rows for those appliances and ages (or NaN)\n",
    "filtered2 = result[\n",
    "    (result['appliance_name'].isin(target_appliances)) &\n",
    "    (result['appliance_age'].isin(old_or_unknown) | result['appliance_age'].isna())\n",
    "]\n",
    "\n",
    "# Get unique household IDs that meet the condition\n",
    "households_to_flag2 = filtered2['household_id'].unique()\n"
   ]
  },
  {
   "cell_type": "code",
   "execution_count": 71,
   "id": "afb74058",
   "metadata": {},
   "outputs": [
    {
     "data": {
      "text/plain": [
       "896"
      ]
     },
     "execution_count": 71,
     "metadata": {},
     "output_type": "execute_result"
    }
   ],
   "source": [
    "len(households_to_flag2)"
   ]
  },
  {
   "cell_type": "code",
   "execution_count": 72,
   "id": "f2cfafde",
   "metadata": {},
   "outputs": [
    {
     "data": {
      "text/html": [
       "<div>\n",
       "<style scoped>\n",
       "    .dataframe tbody tr th:only-of-type {\n",
       "        vertical-align: middle;\n",
       "    }\n",
       "\n",
       "    .dataframe tbody tr th {\n",
       "        vertical-align: top;\n",
       "    }\n",
       "\n",
       "    .dataframe thead th {\n",
       "        text-align: right;\n",
       "    }\n",
       "</style>\n",
       "<table border=\"1\" class=\"dataframe\">\n",
       "  <thead>\n",
       "    <tr style=\"text-align: right;\">\n",
       "      <th></th>\n",
       "      <th>household_id</th>\n",
       "    </tr>\n",
       "  </thead>\n",
       "  <tbody>\n",
       "    <tr>\n",
       "      <th>0</th>\n",
       "      <td>ID0528</td>\n",
       "    </tr>\n",
       "    <tr>\n",
       "      <th>1</th>\n",
       "      <td>ID1146</td>\n",
       "    </tr>\n",
       "    <tr>\n",
       "      <th>2</th>\n",
       "      <td>ID2663</td>\n",
       "    </tr>\n",
       "    <tr>\n",
       "      <th>3</th>\n",
       "      <td>ID0016</td>\n",
       "    </tr>\n",
       "    <tr>\n",
       "      <th>4</th>\n",
       "      <td>ID0055</td>\n",
       "    </tr>\n",
       "    <tr>\n",
       "      <th>...</th>\n",
       "      <td>...</td>\n",
       "    </tr>\n",
       "    <tr>\n",
       "      <th>891</th>\n",
       "      <td>ID3731</td>\n",
       "    </tr>\n",
       "    <tr>\n",
       "      <th>892</th>\n",
       "      <td>ID2272</td>\n",
       "    </tr>\n",
       "    <tr>\n",
       "      <th>893</th>\n",
       "      <td>ID1349</td>\n",
       "    </tr>\n",
       "    <tr>\n",
       "      <th>894</th>\n",
       "      <td>ID0320</td>\n",
       "    </tr>\n",
       "    <tr>\n",
       "      <th>895</th>\n",
       "      <td>ID0373</td>\n",
       "    </tr>\n",
       "  </tbody>\n",
       "</table>\n",
       "<p>896 rows × 1 columns</p>\n",
       "</div>"
      ],
      "text/plain": [
       "    household_id\n",
       "0         ID0528\n",
       "1         ID1146\n",
       "2         ID2663\n",
       "3         ID0016\n",
       "4         ID0055\n",
       "..           ...\n",
       "891       ID3731\n",
       "892       ID2272\n",
       "893       ID1349\n",
       "894       ID0320\n",
       "895       ID0373\n",
       "\n",
       "[896 rows x 1 columns]"
      ]
     },
     "execution_count": 72,
     "metadata": {},
     "output_type": "execute_result"
    }
   ],
   "source": [
    "households_to_flag2 = pd.DataFrame(households_to_flag2, columns=['household_id'])\n",
    "households_to_flag2"
   ]
  },
  {
   "cell_type": "code",
   "execution_count": 73,
   "id": "0b02f69a",
   "metadata": {},
   "outputs": [
    {
     "name": "stdout",
     "output_type": "stream",
     "text": [
      "Number of common households: 64\n",
      "  household_ID\n",
      "0       ID2273\n",
      "1       ID2911\n",
      "2       ID1424\n",
      "3       ID0551\n",
      "4       ID2505\n"
     ]
    }
   ],
   "source": [
    "### for socio economic class\n",
    "import pandas as pd\n",
    "\n",
    "# Load the comparison CSV\n",
    "similar_usage_df = pd.read_csv('/home/ranushi/test/Anomaly DetectionMethod/similar_usage_high_energy_households3.csv')\n",
    "\n",
    "# Find intersection of household_IDs\n",
    "common_households = set(households_to_flag2['household_id']).intersection(set(similar_usage_df['household_ID']))\n",
    "\n",
    "# Convert to DataFrame if you want to see or save it\n",
    "intersection_df = pd.DataFrame({'household_ID': list(common_households)})\n",
    "\n",
    "# Display results\n",
    "print(f\"Number of common households: {len(intersection_df)}\")\n",
    "print(intersection_df.head())"
   ]
  },
  {
   "cell_type": "code",
   "execution_count": 74,
   "id": "f83d39df",
   "metadata": {},
   "outputs": [],
   "source": [
    "import os\n",
    "import pandas as pd\n",
    "from sklearn.metrics import confusion_matrix, ConfusionMatrixDisplay\n",
    "import matplotlib.pyplot as plt\n",
    "import glob\n",
    "\n",
    "# ======================================================\n",
    "# 1️⃣ Load the ground truth anomalies (filtered_data)\n",
    "# ======================================================\n",
    "# Assuming filtered_data is already a DataFrame\n",
    "true_anomalies = set(households_to_flag2['household_id'].unique())"
   ]
  },
  {
   "cell_type": "code",
   "execution_count": 78,
   "id": "4e8b066a",
   "metadata": {},
   "outputs": [
    {
     "data": {
      "text/plain": [
       "896"
      ]
     },
     "execution_count": 78,
     "metadata": {},
     "output_type": "execute_result"
    }
   ],
   "source": [
    "len(true_anomalies)"
   ]
  },
  {
   "cell_type": "code",
   "execution_count": 75,
   "id": "53ded790",
   "metadata": {},
   "outputs": [],
   "source": [
    "# ======================================================\n",
    "# 4️⃣ Identify normal households (not in ground truth anomalies)\n",
    "# ======================================================\n",
    "normal_households = all_households - true_anomalies"
   ]
  },
  {
   "cell_type": "code",
   "execution_count": 76,
   "id": "fc21867b",
   "metadata": {},
   "outputs": [],
   "source": [
    "# ======================================================\n",
    "# 5️⃣ Build labels for confusion matrix\n",
    "# ======================================================\n",
    "y_true = []\n",
    "y_pred = []\n",
    "\n",
    "for hh in all_households:\n",
    "    true_label = 1 if hh in true_anomalies else 0\n",
    "    pred_label = 1 if hh in predicted_anomalies else 0\n",
    "    y_true.append(true_label)\n",
    "    y_pred.append(pred_label)"
   ]
  },
  {
   "cell_type": "code",
   "execution_count": 79,
   "id": "37910f78",
   "metadata": {},
   "outputs": [
    {
     "name": "stdout",
     "output_type": "stream",
     "text": [
      "✅ Confusion Matrix:\n",
      "                   Predicted: Anomalous  Predicted: Normal\n",
      "Actual: Anomalous                    64                262\n",
      "Actual: Normal                      190               2434\n",
      "\n",
      "Metrics Summary:\n",
      "True Positives (TP): 64\n",
      "False Negatives (FN): 262\n",
      "False Positives (FP): 190\n",
      "True Negatives (TN): 2434\n"
     ]
    },
    {
     "data": {
      "image/png": "[encoded data removed]",
      "text/plain": [
       "<Figure size 640x480 with 2 Axes>"
      ]
     },
     "metadata": {},
     "output_type": "display_data"
    }
   ],
   "source": [
    "\n",
    "# ======================================================\n",
    "# 6️⃣ Compute confusion matrix\n",
    "# ======================================================\n",
    "cm = confusion_matrix(y_true, y_pred, labels=[1, 0])\n",
    "\n",
    "# Order: [[TP, FN], [FP, TN]]\n",
    "tp, fn, fp, tn = cm[0,0], cm[0,1], cm[1,0], cm[1,1]\n",
    "\n",
    "print(\"✅ Confusion Matrix:\")\n",
    "print(pd.DataFrame(cm,\n",
    "                   index=['Actual: Anomalous', 'Actual: Normal'],\n",
    "                   columns=['Predicted: Anomalous', 'Predicted: Normal']))\n",
    "print(\"\\nMetrics Summary:\")\n",
    "print(f\"True Positives (TP): {tp}\")\n",
    "print(f\"False Negatives (FN): {fn}\")\n",
    "print(f\"False Positives (FP): {fp}\")\n",
    "print(f\"True Negatives (TN): {tn}\")\n",
    "\n",
    "# ======================================================\n",
    "# 7️⃣ Visualize confusion matrix\n",
    "# ======================================================\n",
    "disp = ConfusionMatrixDisplay(confusion_matrix=cm,\n",
    "                              display_labels=['Anomalous', 'Normal'])\n",
    "disp.plot(cmap='Blues')\n",
    "plt.title(\"Confusion Matrix - Household Anomaly Detection\")\n",
    "plt.show()"
   ]
  },
  {
   "cell_type": "code",
   "execution_count": 80,
   "id": "ebd38a1e",
   "metadata": {},
   "outputs": [
    {
     "name": "stdout",
     "output_type": "stream",
     "text": [
      "\n",
      "==================== METRICS SUMMARY ====================\n",
      "Accuracy : 0.847\n",
      "Precision: 0.252\n",
      "Recall   : 0.196\n",
      "F1 Score : 0.221\n",
      "==========================================================\n",
      "\n",
      "Detailed Classification Report:\n",
      "              precision    recall  f1-score   support\n",
      "\n",
      "      Normal      0.903     0.928     0.915      2624\n",
      "   Anomalous      0.252     0.196     0.221       326\n",
      "\n",
      "    accuracy                          0.847      2950\n",
      "   macro avg      0.577     0.562     0.568      2950\n",
      "weighted avg      0.831     0.847     0.838      2950\n",
      "\n"
     ]
    }
   ],
   "source": [
    "from sklearn.metrics import (\n",
    "    f1_score,\n",
    "    precision_score,\n",
    "    recall_score,\n",
    "    accuracy_score,\n",
    "    classification_report\n",
    ")\n",
    "\n",
    "# ======================================================\n",
    "# 6️⃣.1 Compute full performance metrics\n",
    "# ======================================================\n",
    "\n",
    "# Accuracy\n",
    "accuracy = accuracy_score(y_true, y_pred)\n",
    "\n",
    "# Precision, Recall, F1\n",
    "precision = precision_score(y_true, y_pred)\n",
    "recall = recall_score(y_true, y_pred)\n",
    "f1 = f1_score(y_true, y_pred)\n",
    "\n",
    "# Classification report\n",
    "report = classification_report(\n",
    "    y_true,\n",
    "    y_pred,\n",
    "    target_names=[\"Normal\", \"Anomalous\"],\n",
    "    digits=3\n",
    ")\n",
    "\n",
    "# Print results\n",
    "print(\"\\n==================== METRICS SUMMARY ====================\")\n",
    "print(f\"Accuracy : {accuracy:.3f}\")\n",
    "print(f\"Precision: {precision:.3f}\")\n",
    "print(f\"Recall   : {recall:.3f}\")\n",
    "print(f\"F1 Score : {f1:.3f}\")\n",
    "print(\"==========================================================\")\n",
    "print(\"\\nDetailed Classification Report:\")\n",
    "print(report)"
   ]
  },
  {
   "cell_type": "code",
   "execution_count": 81,
   "id": "bcc35cf6",
   "metadata": {},
   "outputs": [
    {
     "data": {
      "text/html": [
       "<div>\n",
       "<style scoped>\n",
       "    .dataframe tbody tr th:only-of-type {\n",
       "        vertical-align: middle;\n",
       "    }\n",
       "\n",
       "    .dataframe tbody tr th {\n",
       "        vertical-align: top;\n",
       "    }\n",
       "\n",
       "    .dataframe thead th {\n",
       "        text-align: right;\n",
       "    }\n",
       "</style>\n",
       "<table border=\"1\" class=\"dataframe\">\n",
       "  <thead>\n",
       "    <tr style=\"text-align: right;\">\n",
       "      <th></th>\n",
       "      <th>household_id</th>\n",
       "      <th>appliance_name</th>\n",
       "      <th>appliance_age</th>\n",
       "    </tr>\n",
       "  </thead>\n",
       "  <tbody>\n",
       "    <tr>\n",
       "      <th>0</th>\n",
       "      <td>ID0430</td>\n",
       "      <td>Microwave</td>\n",
       "      <td>More than 10 years ago</td>\n",
       "    </tr>\n",
       "    <tr>\n",
       "      <th>1</th>\n",
       "      <td>ID0430</td>\n",
       "      <td>Rice cooker</td>\n",
       "      <td>Wthin the last 5-10 years</td>\n",
       "    </tr>\n",
       "    <tr>\n",
       "      <th>2</th>\n",
       "      <td>ID0430</td>\n",
       "      <td>Electric Kettle</td>\n",
       "      <td>More than 10 years ago</td>\n",
       "    </tr>\n",
       "    <tr>\n",
       "      <th>3</th>\n",
       "      <td>ID0528</td>\n",
       "      <td>Refrigerator</td>\n",
       "      <td>More than 10 years ago</td>\n",
       "    </tr>\n",
       "    <tr>\n",
       "      <th>4</th>\n",
       "      <td>ID0528</td>\n",
       "      <td>Rice cooker</td>\n",
       "      <td>Within the last 1 year</td>\n",
       "    </tr>\n",
       "    <tr>\n",
       "      <th>...</th>\n",
       "      <td>...</td>\n",
       "      <td>...</td>\n",
       "      <td>...</td>\n",
       "    </tr>\n",
       "    <tr>\n",
       "      <th>11300</th>\n",
       "      <td>ID1667</td>\n",
       "      <td>TV</td>\n",
       "      <td>Wthin the last 5-10 years</td>\n",
       "    </tr>\n",
       "    <tr>\n",
       "      <th>11301</th>\n",
       "      <td>ID1667</td>\n",
       "      <td>Computers</td>\n",
       "      <td>Wthin the last 5-10 years</td>\n",
       "    </tr>\n",
       "    <tr>\n",
       "      <th>11302</th>\n",
       "      <td>ID1667</td>\n",
       "      <td>Laptops</td>\n",
       "      <td>Wthin the last 5-10 years</td>\n",
       "    </tr>\n",
       "    <tr>\n",
       "      <th>11303</th>\n",
       "      <td>ID1667</td>\n",
       "      <td>Electric Water pump</td>\n",
       "      <td>More than 10 years ago</td>\n",
       "    </tr>\n",
       "    <tr>\n",
       "      <th>11304</th>\n",
       "      <td>ID1667</td>\n",
       "      <td>Geyser / Hot water systems for bathrooms which...</td>\n",
       "      <td>Within the last 1 year</td>\n",
       "    </tr>\n",
       "  </tbody>\n",
       "</table>\n",
       "<p>11305 rows × 3 columns</p>\n",
       "</div>"
      ],
      "text/plain": [
       "      household_id                                     appliance_name  \\\n",
       "0           ID0430                                          Microwave   \n",
       "1           ID0430                                        Rice cooker   \n",
       "2           ID0430                                    Electric Kettle   \n",
       "3           ID0528                                       Refrigerator   \n",
       "4           ID0528                                        Rice cooker   \n",
       "...            ...                                                ...   \n",
       "11300       ID1667                                                 TV   \n",
       "11301       ID1667                                          Computers   \n",
       "11302       ID1667                                            Laptops   \n",
       "11303       ID1667                                Electric Water pump   \n",
       "11304       ID1667  Geyser / Hot water systems for bathrooms which...   \n",
       "\n",
       "                   appliance_age  \n",
       "0         More than 10 years ago  \n",
       "1      Wthin the last 5-10 years  \n",
       "2         More than 10 years ago  \n",
       "3         More than 10 years ago  \n",
       "4         Within the last 1 year  \n",
       "...                          ...  \n",
       "11300  Wthin the last 5-10 years  \n",
       "11301  Wthin the last 5-10 years  \n",
       "11302  Wthin the last 5-10 years  \n",
       "11303     More than 10 years ago  \n",
       "11304     Within the last 1 year  \n",
       "\n",
       "[11305 rows x 3 columns]"
      ]
     },
     "execution_count": 81,
     "metadata": {},
     "output_type": "execute_result"
    }
   ],
   "source": [
    "result"
   ]
  },
  {
   "cell_type": "code",
   "execution_count": 83,
   "id": "79653227",
   "metadata": {},
   "outputs": [],
   "source": [
    "import pandas as pd\n",
    "\n",
    "# assuming your dataframe is called df\n",
    "\n",
    "# clean up common spelling variations (optional but useful)\n",
    "result['appliance_age'] = result['appliance_age'].replace({\n",
    "    'Wthin the last 5-10 years': 'Within the last 5-10 years'\n",
    "})\n",
    "\n",
    "# condition for Air Conditioners\n",
    "cond_aircon = (\n",
    "    (result['appliance_name'].str.lower().str.strip() == 'air conditioner') &\n",
    "    (result['appliance_age'].isin([\n",
    "        'Within the last 5-10 years',\n",
    "        'More than 10 years ago'\n",
    "    ]))\n",
    ")\n",
    "\n",
    "# condition for Refrigerator\n",
    "cond_fridge = (\n",
    "    (result['appliance_name'].str.lower().str.strip() == 'refrigerator') &\n",
    "    (result['appliance_age'] == 'More than 10 years ago')\n",
    ")\n",
    "\n",
    "# combine both conditions\n",
    "filtered_df3 = result[cond_aircon | cond_fridge]\n",
    "\n",
    "# if you want only unique households that meet the criteria:\n",
    "households_filtered3 = filtered_df3['household_id'].unique()\n",
    "\n",
    "# # optionally filter original df to show all appliances of those households\n",
    "# households_df3 = result[result['household_id'].isin(households_filtered3)]\n",
    "\n"
   ]
  },
  {
   "cell_type": "code",
   "execution_count": 85,
   "id": "2b087c30",
   "metadata": {},
   "outputs": [
    {
     "data": {
      "text/plain": [
       "899"
      ]
     },
     "execution_count": 85,
     "metadata": {},
     "output_type": "execute_result"
    }
   ],
   "source": [
    "len(households_filtered3)"
   ]
  },
  {
   "cell_type": "code",
   "execution_count": 87,
   "id": "f53208de",
   "metadata": {},
   "outputs": [],
   "source": [
    "households_filtered3 = pd.DataFrame(households_filtered3, columns=['household_id'])"
   ]
  },
  {
   "cell_type": "code",
   "execution_count": 88,
   "id": "55a9afd6",
   "metadata": {},
   "outputs": [
    {
     "name": "stdout",
     "output_type": "stream",
     "text": [
      "Number of common households: 64\n",
      "  household_ID\n",
      "0       ID2273\n",
      "1       ID2911\n",
      "2       ID1424\n",
      "3       ID0551\n",
      "4       ID2505\n"
     ]
    }
   ],
   "source": [
    "### for socio economic class\n",
    "import pandas as pd\n",
    "\n",
    "# Load the comparison CSV\n",
    "similar_usage_df = pd.read_csv('/home/ranushi/test/Anomaly DetectionMethod/similar_usage_high_energy_households3.csv')\n",
    "\n",
    "# Find intersection of household_IDs\n",
    "common_households = set(households_filtered3['household_id']).intersection(set(similar_usage_df['household_ID']))\n",
    "\n",
    "# Convert to DataFrame if you want to see or save it\n",
    "intersection_df = pd.DataFrame({'household_ID': list(common_households)})\n",
    "\n",
    "# Display results\n",
    "print(f\"Number of common households: {len(intersection_df)}\")\n",
    "print(intersection_df.head())"
   ]
  },
  {
   "cell_type": "code",
   "execution_count": 89,
   "id": "30b8ae20",
   "metadata": {},
   "outputs": [],
   "source": [
    "import os\n",
    "import pandas as pd\n",
    "from sklearn.metrics import confusion_matrix, ConfusionMatrixDisplay\n",
    "import matplotlib.pyplot as plt\n",
    "import glob\n",
    "\n",
    "# ======================================================\n",
    "# 1️⃣ Load the ground truth anomalies (filtered_data)\n",
    "# ======================================================\n",
    "# Assuming filtered_data is already a DataFrame\n",
    "true_anomalies = set(households_filtered3['household_id'].unique())"
   ]
  },
  {
   "cell_type": "code",
   "execution_count": 90,
   "id": "e9020223",
   "metadata": {},
   "outputs": [],
   "source": [
    "# ======================================================\n",
    "# 4️⃣ Identify normal households (not in ground truth anomalies)\n",
    "# ======================================================\n",
    "normal_households = all_households - true_anomalies"
   ]
  },
  {
   "cell_type": "code",
   "execution_count": 91,
   "id": "e514353c",
   "metadata": {},
   "outputs": [],
   "source": [
    "# ======================================================\n",
    "# 5️⃣ Build labels for confusion matrix\n",
    "# ======================================================\n",
    "y_true = []\n",
    "y_pred = []\n",
    "\n",
    "for hh in all_households:\n",
    "    true_label = 1 if hh in true_anomalies else 0\n",
    "    pred_label = 1 if hh in predicted_anomalies else 0\n",
    "    y_true.append(true_label)\n",
    "    y_pred.append(pred_label)"
   ]
  },
  {
   "cell_type": "code",
   "execution_count": 92,
   "id": "0712ce81",
   "metadata": {},
   "outputs": [
    {
     "name": "stdout",
     "output_type": "stream",
     "text": [
      "✅ Confusion Matrix:\n",
      "                   Predicted: Anomalous  Predicted: Normal\n",
      "Actual: Anomalous                    64                263\n",
      "Actual: Normal                      190               2433\n",
      "\n",
      "Metrics Summary:\n",
      "True Positives (TP): 64\n",
      "False Negatives (FN): 263\n",
      "False Positives (FP): 190\n",
      "True Negatives (TN): 2433\n"
     ]
    },
    {
     "data": {
      "image/png": "[encoded data removed]",
      "text/plain": [
       "<Figure size 640x480 with 2 Axes>"
      ]
     },
     "metadata": {},
     "output_type": "display_data"
    }
   ],
   "source": [
    "\n",
    "# ======================================================\n",
    "# 6️⃣ Compute confusion matrix\n",
    "# ======================================================\n",
    "cm = confusion_matrix(y_true, y_pred, labels=[1, 0])\n",
    "\n",
    "# Order: [[TP, FN], [FP, TN]]\n",
    "tp, fn, fp, tn = cm[0,0], cm[0,1], cm[1,0], cm[1,1]\n",
    "\n",
    "print(\"✅ Confusion Matrix:\")\n",
    "print(pd.DataFrame(cm,\n",
    "                   index=['Actual: Anomalous', 'Actual: Normal'],\n",
    "                   columns=['Predicted: Anomalous', 'Predicted: Normal']))\n",
    "print(\"\\nMetrics Summary:\")\n",
    "print(f\"True Positives (TP): {tp}\")\n",
    "print(f\"False Negatives (FN): {fn}\")\n",
    "print(f\"False Positives (FP): {fp}\")\n",
    "print(f\"True Negatives (TN): {tn}\")\n",
    "\n",
    "# ======================================================\n",
    "# 7️⃣ Visualize confusion matrix\n",
    "# ======================================================\n",
    "disp = ConfusionMatrixDisplay(confusion_matrix=cm,\n",
    "                              display_labels=['Anomalous', 'Normal'])\n",
    "disp.plot(cmap='Blues')\n",
    "plt.title(\"Confusion Matrix - Household Anomaly Detection\")\n",
    "plt.show()"
   ]
  },
  {
   "cell_type": "code",
   "execution_count": 93,
   "id": "4ccbec69",
   "metadata": {},
   "outputs": [
    {
     "name": "stdout",
     "output_type": "stream",
     "text": [
      "\n",
      "==================== METRICS SUMMARY ====================\n",
      "Accuracy : 0.846\n",
      "Precision: 0.252\n",
      "Recall   : 0.196\n",
      "F1 Score : 0.220\n",
      "==========================================================\n",
      "\n",
      "Detailed Classification Report:\n",
      "              precision    recall  f1-score   support\n",
      "\n",
      "      Normal      0.902     0.928     0.915      2623\n",
      "   Anomalous      0.252     0.196     0.220       327\n",
      "\n",
      "    accuracy                          0.846      2950\n",
      "   macro avg      0.577     0.562     0.568      2950\n",
      "weighted avg      0.830     0.846     0.838      2950\n",
      "\n"
     ]
    }
   ],
   "source": [
    "from sklearn.metrics import (\n",
    "    f1_score,\n",
    "    precision_score,\n",
    "    recall_score,\n",
    "    accuracy_score,\n",
    "    classification_report\n",
    ")\n",
    "\n",
    "# ======================================================\n",
    "# 6️⃣.1 Compute full performance metrics\n",
    "# ======================================================\n",
    "\n",
    "# Accuracy\n",
    "accuracy = accuracy_score(y_true, y_pred)\n",
    "\n",
    "# Precision, Recall, F1\n",
    "precision = precision_score(y_true, y_pred)\n",
    "recall = recall_score(y_true, y_pred)\n",
    "f1 = f1_score(y_true, y_pred)\n",
    "\n",
    "# Classification report\n",
    "report = classification_report(\n",
    "    y_true,\n",
    "    y_pred,\n",
    "    target_names=[\"Normal\", \"Anomalous\"],\n",
    "    digits=3\n",
    ")\n",
    "\n",
    "# Print results\n",
    "print(\"\\n==================== METRICS SUMMARY ====================\")\n",
    "print(f\"Accuracy : {accuracy:.3f}\")\n",
    "print(f\"Precision: {precision:.3f}\")\n",
    "print(f\"Recall   : {recall:.3f}\")\n",
    "print(f\"F1 Score : {f1:.3f}\")\n",
    "print(\"==========================================================\")\n",
    "print(\"\\nDetailed Classification Report:\")\n",
    "print(report)"
   ]
  },
  {
   "cell_type": "markdown",
   "id": "df929661",
   "metadata": {},
   "source": [
    "#### ac>10,ref>5"
   ]
  },
  {
   "cell_type": "code",
   "execution_count": 94,
   "id": "3514649e",
   "metadata": {},
   "outputs": [],
   "source": [
    "import pandas as pd\n",
    "\n",
    "# assuming your dataframe is called df\n",
    "\n",
    "# clean up common spelling variations (optional but useful)\n",
    "result['appliance_age'] = result['appliance_age'].replace({\n",
    "    'Wthin the last 5-10 years': 'Within the last 5-10 years'\n",
    "})\n",
    "\n",
    "# condition for Air Conditioners\n",
    "cond_aircon = (\n",
    "    (result['appliance_name'].str.lower().str.strip() == 'air conditioner') &\n",
    "    (result['appliance_age'].isin([\n",
    "        'More than 10 years ago'\n",
    "    ]))\n",
    ")\n",
    "\n",
    "# condition for Refrigerator\n",
    "cond_fridge = (\n",
    "    (result['appliance_name'].str.lower().str.strip() == 'refrigerator') &\n",
    "    (result['appliance_age'].isin(['More than 10 years ago','Within the last 5-10 years']))\n",
    ")\n",
    "\n",
    "# combine both conditions\n",
    "filtered_df4 = result[cond_aircon | cond_fridge]\n",
    "\n",
    "# if you want only unique households that meet the criteria:\n",
    "households_filtered4 = filtered_df4['household_id'].unique()"
   ]
  },
  {
   "cell_type": "code",
   "execution_count": 96,
   "id": "f2d18e78",
   "metadata": {},
   "outputs": [],
   "source": [
    "households_filtered4 = pd.DataFrame(households_filtered4, columns=['household_id'])"
   ]
  },
  {
   "cell_type": "code",
   "execution_count": 97,
   "id": "e1f587e9",
   "metadata": {},
   "outputs": [
    {
     "name": "stdout",
     "output_type": "stream",
     "text": [
      "Number of common households: 119\n",
      "  household_ID\n",
      "0       ID2911\n",
      "1       ID1424\n",
      "2       ID1778\n",
      "3       ID0773\n",
      "4       ID0796\n"
     ]
    }
   ],
   "source": [
    "### for socio economic class\n",
    "import pandas as pd\n",
    "\n",
    "# Load the comparison CSV\n",
    "similar_usage_df = pd.read_csv('/home/ranushi/test/Anomaly DetectionMethod/similar_usage_high_energy_households3.csv')\n",
    "\n",
    "# Find intersection of household_IDs\n",
    "common_households = set(households_filtered4['household_id']).intersection(set(similar_usage_df['household_ID']))\n",
    "\n",
    "# Convert to DataFrame if you want to see or save it\n",
    "intersection_df = pd.DataFrame({'household_ID': list(common_households)})\n",
    "\n",
    "# Display results\n",
    "print(f\"Number of common households: {len(intersection_df)}\")\n",
    "print(intersection_df.head())"
   ]
  },
  {
   "cell_type": "code",
   "execution_count": 98,
   "id": "702405ad",
   "metadata": {},
   "outputs": [],
   "source": [
    "import os\n",
    "import pandas as pd\n",
    "from sklearn.metrics import confusion_matrix, ConfusionMatrixDisplay\n",
    "import matplotlib.pyplot as plt\n",
    "import glob\n",
    "\n",
    "# ======================================================\n",
    "# 1️⃣ Load the ground truth anomalies (filtered_data)\n",
    "# ======================================================\n",
    "# Assuming filtered_data is already a DataFrame\n",
    "true_anomalies = set(households_filtered4['household_id'].unique())"
   ]
  },
  {
   "cell_type": "code",
   "execution_count": 99,
   "id": "47523cb4",
   "metadata": {},
   "outputs": [],
   "source": [
    "# ======================================================\n",
    "# 4️⃣ Identify normal households (not in ground truth anomalies)\n",
    "# ======================================================\n",
    "normal_households = all_households - true_anomalies"
   ]
  },
  {
   "cell_type": "code",
   "execution_count": 100,
   "id": "2d024f51",
   "metadata": {},
   "outputs": [],
   "source": [
    "# ======================================================\n",
    "# 5️⃣ Build labels for confusion matrix\n",
    "# ======================================================\n",
    "y_true = []\n",
    "y_pred = []\n",
    "\n",
    "for hh in all_households:\n",
    "    true_label = 1 if hh in true_anomalies else 0\n",
    "    pred_label = 1 if hh in predicted_anomalies else 0\n",
    "    y_true.append(true_label)\n",
    "    y_pred.append(pred_label)"
   ]
  },
  {
   "cell_type": "code",
   "execution_count": 101,
   "id": "4cedc32e",
   "metadata": {},
   "outputs": [
    {
     "name": "stdout",
     "output_type": "stream",
     "text": [
      "✅ Confusion Matrix:\n",
      "                   Predicted: Anomalous  Predicted: Normal\n",
      "Actual: Anomalous                   119                518\n",
      "Actual: Normal                      135               2178\n",
      "\n",
      "Metrics Summary:\n",
      "True Positives (TP): 119\n",
      "False Negatives (FN): 518\n",
      "False Positives (FP): 135\n",
      "True Negatives (TN): 2178\n"
     ]
    },
    {
     "data": {
      "image/png": "[encoded data removed]",
      "text/plain": [
       "<Figure size 640x480 with 2 Axes>"
      ]
     },
     "metadata": {},
     "output_type": "display_data"
    }
   ],
   "source": [
    "\n",
    "# ======================================================\n",
    "# 6️⃣ Compute confusion matrix\n",
    "# ======================================================\n",
    "cm = confusion_matrix(y_true, y_pred, labels=[1, 0])\n",
    "\n",
    "# Order: [[TP, FN], [FP, TN]]\n",
    "tp, fn, fp, tn = cm[0,0], cm[0,1], cm[1,0], cm[1,1]\n",
    "\n",
    "print(\"✅ Confusion Matrix:\")\n",
    "print(pd.DataFrame(cm,\n",
    "                   index=['Actual: Anomalous', 'Actual: Normal'],\n",
    "                   columns=['Predicted: Anomalous', 'Predicted: Normal']))\n",
    "print(\"\\nMetrics Summary:\")\n",
    "print(f\"True Positives (TP): {tp}\")\n",
    "print(f\"False Negatives (FN): {fn}\")\n",
    "print(f\"False Positives (FP): {fp}\")\n",
    "print(f\"True Negatives (TN): {tn}\")\n",
    "\n",
    "# ======================================================\n",
    "# 7️⃣ Visualize confusion matrix\n",
    "# ======================================================\n",
    "disp = ConfusionMatrixDisplay(confusion_matrix=cm,\n",
    "                              display_labels=['Anomalous', 'Normal'])\n",
    "disp.plot(cmap='Blues')\n",
    "plt.title(\"Confusion Matrix - Household Anomaly Detection\")\n",
    "plt.show()"
   ]
  },
  {
   "cell_type": "code",
   "execution_count": 102,
   "id": "f3e327a0",
   "metadata": {},
   "outputs": [
    {
     "name": "stdout",
     "output_type": "stream",
     "text": [
      "\n",
      "==================== METRICS SUMMARY ====================\n",
      "Accuracy : 0.779\n",
      "Precision: 0.469\n",
      "Recall   : 0.187\n",
      "F1 Score : 0.267\n",
      "==========================================================\n",
      "\n",
      "Detailed Classification Report:\n",
      "              precision    recall  f1-score   support\n",
      "\n",
      "      Normal      0.808     0.942     0.870      2313\n",
      "   Anomalous      0.469     0.187     0.267       637\n",
      "\n",
      "    accuracy                          0.779      2950\n",
      "   macro avg      0.638     0.564     0.568      2950\n",
      "weighted avg      0.735     0.779     0.740      2950\n",
      "\n"
     ]
    }
   ],
   "source": [
    "from sklearn.metrics import (\n",
    "    f1_score,\n",
    "    precision_score,\n",
    "    recall_score,\n",
    "    accuracy_score,\n",
    "    classification_report\n",
    ")\n",
    "\n",
    "# ======================================================\n",
    "# 6️⃣.1 Compute full performance metrics\n",
    "# ======================================================\n",
    "\n",
    "# Accuracy\n",
    "accuracy = accuracy_score(y_true, y_pred)\n",
    "\n",
    "# Precision, Recall, F1\n",
    "precision = precision_score(y_true, y_pred)\n",
    "recall = recall_score(y_true, y_pred)\n",
    "f1 = f1_score(y_true, y_pred)\n",
    "\n",
    "# Classification report\n",
    "report = classification_report(\n",
    "    y_true,\n",
    "    y_pred,\n",
    "    target_names=[\"Normal\", \"Anomalous\"],\n",
    "    digits=3\n",
    ")\n",
    "\n",
    "# Print results\n",
    "print(\"\\n==================== METRICS SUMMARY ====================\")\n",
    "print(f\"Accuracy : {accuracy:.3f}\")\n",
    "print(f\"Precision: {precision:.3f}\")\n",
    "print(f\"Recall   : {recall:.3f}\")\n",
    "print(f\"F1 Score : {f1:.3f}\")\n",
    "print(\"==========================================================\")\n",
    "print(\"\\nDetailed Classification Report:\")\n",
    "print(report)"
   ]
  },
  {
   "cell_type": "code",
   "execution_count": 103,
   "id": "1078d9b8",
   "metadata": {},
   "outputs": [],
   "source": [
    "survey_data = pd.read_csv('/home/ranushi/test/Anomaly DetectionMethod/wave_1/w1_household_information_and_history.csv')"
   ]
  },
  {
   "cell_type": "code",
   "execution_count": 105,
   "id": "bbfba5a4",
   "metadata": {},
   "outputs": [
    {
     "data": {
      "text/plain": [
       "Index(['household_ID', 'no_of_electricity_meters',\n",
       "       'electricity_provider_csc_area', 'own_the_house_or_living_on_rent',\n",
       "       'occupy_renters_boarders',\n",
       "       'awareness_of_electricity_consumption_of_renters',\n",
       "       'built_year_of_the_house', 'type_of_house', 'floor_which_house_located',\n",
       "       'no_of_storeys', 'floor_area', 'no_of_household_members',\n",
       "       'charging_method_of_renters_for_electricity',\n",
       "       'charged_method_for_rent_for_electricity',\n",
       "       'is_there_business_carried_out_in_the_household', 'type_of_business',\n",
       "       'whom_or_how_the_house_was_designed',\n",
       "       'availability_of_certificate_of_compliance',\n",
       "       'main_material_used_for_walls_of_the_house',\n",
       "       'main_material_used_for_roof_of_the_house',\n",
       "       'any_constructions_or_renovations_in_the_household',\n",
       "       'highest_level_of_education_of_the_chief_wage_earner',\n",
       "       'occupation_of_the_chief_wage_earner', 'socio_economic_class',\n",
       "       'total_monthly_expenditure_of_last_month', 'type_of_electricity_meter'],\n",
       "      dtype='object')"
      ]
     },
     "execution_count": 105,
     "metadata": {},
     "output_type": "execute_result"
    }
   ],
   "source": [
    "survey_data.columns"
   ]
  },
  {
   "cell_type": "code",
   "execution_count": null,
   "id": "efc03828",
   "metadata": {},
   "outputs": [],
   "source": [
    "survey_data = survey_data[['household_ID', 'built_year_of_the_house']]\n"
   ]
  },
  {
   "cell_type": "code",
   "execution_count": 108,
   "id": "ca4a7be0",
   "metadata": {},
   "outputs": [
    {
     "data": {
      "text/plain": [
       "built_year_of_the_house\n",
       "2000-2009                918\n",
       "2010-2019                758\n",
       "Before 1980              740\n",
       "1990-1999                615\n",
       "1980-1989                482\n",
       "Don't know               325\n",
       "In 2020 or After 2020    225\n",
       "Name: count, dtype: int64"
      ]
     },
     "execution_count": 108,
     "metadata": {},
     "output_type": "execute_result"
    }
   ],
   "source": [
    "survey_data['built_year_of_the_house'].value_counts()"
   ]
  },
  {
   "cell_type": "code",
   "execution_count": 109,
   "id": "05b948cd",
   "metadata": {},
   "outputs": [
    {
     "data": {
      "text/html": [
       "<div>\n",
       "<style scoped>\n",
       "    .dataframe tbody tr th:only-of-type {\n",
       "        vertical-align: middle;\n",
       "    }\n",
       "\n",
       "    .dataframe tbody tr th {\n",
       "        vertical-align: top;\n",
       "    }\n",
       "\n",
       "    .dataframe thead th {\n",
       "        text-align: right;\n",
       "    }\n",
       "</style>\n",
       "<table border=\"1\" class=\"dataframe\">\n",
       "  <thead>\n",
       "    <tr style=\"text-align: right;\">\n",
       "      <th></th>\n",
       "      <th>household_ID</th>\n",
       "      <th>built_year_of_the_house</th>\n",
       "    </tr>\n",
       "  </thead>\n",
       "  <tbody>\n",
       "    <tr>\n",
       "      <th>0</th>\n",
       "      <td>ID0001</td>\n",
       "      <td>2000-2009</td>\n",
       "    </tr>\n",
       "    <tr>\n",
       "      <th>1</th>\n",
       "      <td>ID0002</td>\n",
       "      <td>Before 1980</td>\n",
       "    </tr>\n",
       "    <tr>\n",
       "      <th>2</th>\n",
       "      <td>ID0003</td>\n",
       "      <td>1980-1989</td>\n",
       "    </tr>\n",
       "    <tr>\n",
       "      <th>3</th>\n",
       "      <td>ID0004</td>\n",
       "      <td>2010-2019</td>\n",
       "    </tr>\n",
       "    <tr>\n",
       "      <th>4</th>\n",
       "      <td>ID0005</td>\n",
       "      <td>2010-2019</td>\n",
       "    </tr>\n",
       "    <tr>\n",
       "      <th>...</th>\n",
       "      <td>...</td>\n",
       "      <td>...</td>\n",
       "    </tr>\n",
       "    <tr>\n",
       "      <th>4058</th>\n",
       "      <td>ID4059</td>\n",
       "      <td>In 2020 or After 2020</td>\n",
       "    </tr>\n",
       "    <tr>\n",
       "      <th>4059</th>\n",
       "      <td>ID4060</td>\n",
       "      <td>Before 1980</td>\n",
       "    </tr>\n",
       "    <tr>\n",
       "      <th>4060</th>\n",
       "      <td>ID4061</td>\n",
       "      <td>2000-2009</td>\n",
       "    </tr>\n",
       "    <tr>\n",
       "      <th>4061</th>\n",
       "      <td>ID4062</td>\n",
       "      <td>1980-1989</td>\n",
       "    </tr>\n",
       "    <tr>\n",
       "      <th>4062</th>\n",
       "      <td>ID4063</td>\n",
       "      <td>2010-2019</td>\n",
       "    </tr>\n",
       "  </tbody>\n",
       "</table>\n",
       "<p>4063 rows × 2 columns</p>\n",
       "</div>"
      ],
      "text/plain": [
       "     household_ID built_year_of_the_house\n",
       "0          ID0001               2000-2009\n",
       "1          ID0002             Before 1980\n",
       "2          ID0003               1980-1989\n",
       "3          ID0004               2010-2019\n",
       "4          ID0005               2010-2019\n",
       "...           ...                     ...\n",
       "4058       ID4059   In 2020 or After 2020\n",
       "4059       ID4060             Before 1980\n",
       "4060       ID4061               2000-2009\n",
       "4061       ID4062               1980-1989\n",
       "4062       ID4063               2010-2019\n",
       "\n",
       "[4063 rows x 2 columns]"
      ]
     },
     "execution_count": 109,
     "metadata": {},
     "output_type": "execute_result"
    }
   ],
   "source": [
    "survey_data"
   ]
  },
  {
   "cell_type": "code",
   "execution_count": 114,
   "id": "0b8d87d8",
   "metadata": {},
   "outputs": [],
   "source": [
    "# assuming your dataframe is called survey_data\n",
    "\n",
    "target_years = ['Before 1980', '1990-1999', '1980-1989', \"Don't know\"]\n",
    "\n",
    "filtered_survey = survey_data[survey_data['built_year_of_the_house'].isin(target_years)]\n",
    "\n",
    "# if you just want the IDs of those households:\n",
    "households_filtered5 = filtered_survey['household_ID'].unique()\n"
   ]
  },
  {
   "cell_type": "code",
   "execution_count": 115,
   "id": "cfd2d840",
   "metadata": {},
   "outputs": [
    {
     "data": {
      "text/plain": [
       "2162"
      ]
     },
     "execution_count": 115,
     "metadata": {},
     "output_type": "execute_result"
    }
   ],
   "source": [
    "len(households_filtered5)"
   ]
  },
  {
   "cell_type": "code",
   "execution_count": 116,
   "id": "90f82638",
   "metadata": {},
   "outputs": [
    {
     "data": {
      "text/html": [
       "<div>\n",
       "<style scoped>\n",
       "    .dataframe tbody tr th:only-of-type {\n",
       "        vertical-align: middle;\n",
       "    }\n",
       "\n",
       "    .dataframe tbody tr th {\n",
       "        vertical-align: top;\n",
       "    }\n",
       "\n",
       "    .dataframe thead th {\n",
       "        text-align: right;\n",
       "    }\n",
       "</style>\n",
       "<table border=\"1\" class=\"dataframe\">\n",
       "  <thead>\n",
       "    <tr style=\"text-align: right;\">\n",
       "      <th></th>\n",
       "      <th>household_ID</th>\n",
       "    </tr>\n",
       "  </thead>\n",
       "  <tbody>\n",
       "    <tr>\n",
       "      <th>0</th>\n",
       "      <td>ID0002</td>\n",
       "    </tr>\n",
       "    <tr>\n",
       "      <th>1</th>\n",
       "      <td>ID0003</td>\n",
       "    </tr>\n",
       "    <tr>\n",
       "      <th>2</th>\n",
       "      <td>ID0010</td>\n",
       "    </tr>\n",
       "    <tr>\n",
       "      <th>3</th>\n",
       "      <td>ID0013</td>\n",
       "    </tr>\n",
       "    <tr>\n",
       "      <th>4</th>\n",
       "      <td>ID0019</td>\n",
       "    </tr>\n",
       "    <tr>\n",
       "      <th>...</th>\n",
       "      <td>...</td>\n",
       "    </tr>\n",
       "    <tr>\n",
       "      <th>2157</th>\n",
       "      <td>ID4054</td>\n",
       "    </tr>\n",
       "    <tr>\n",
       "      <th>2158</th>\n",
       "      <td>ID4057</td>\n",
       "    </tr>\n",
       "    <tr>\n",
       "      <th>2159</th>\n",
       "      <td>ID4058</td>\n",
       "    </tr>\n",
       "    <tr>\n",
       "      <th>2160</th>\n",
       "      <td>ID4060</td>\n",
       "    </tr>\n",
       "    <tr>\n",
       "      <th>2161</th>\n",
       "      <td>ID4062</td>\n",
       "    </tr>\n",
       "  </tbody>\n",
       "</table>\n",
       "<p>2162 rows × 1 columns</p>\n",
       "</div>"
      ],
      "text/plain": [
       "     household_ID\n",
       "0          ID0002\n",
       "1          ID0003\n",
       "2          ID0010\n",
       "3          ID0013\n",
       "4          ID0019\n",
       "...           ...\n",
       "2157       ID4054\n",
       "2158       ID4057\n",
       "2159       ID4058\n",
       "2160       ID4060\n",
       "2161       ID4062\n",
       "\n",
       "[2162 rows x 1 columns]"
      ]
     },
     "execution_count": 116,
     "metadata": {},
     "output_type": "execute_result"
    }
   ],
   "source": [
    "households_filtered5 = pd.DataFrame(households_filtered5, columns=['household_ID'])\n",
    "households_filtered5"
   ]
  },
  {
   "cell_type": "code",
   "execution_count": 118,
   "id": "0998ca05",
   "metadata": {},
   "outputs": [
    {
     "name": "stdout",
     "output_type": "stream",
     "text": [
      "Number of common households: 123\n",
      "  household_ID\n",
      "0       ID1424\n",
      "1       ID1778\n",
      "2       ID0773\n",
      "3       ID0796\n",
      "4       ID1751\n"
     ]
    }
   ],
   "source": [
    "### for socio economic class\n",
    "import pandas as pd\n",
    "\n",
    "# Load the comparison CSV\n",
    "similar_usage_df = pd.read_csv('/home/ranushi/test/Anomaly DetectionMethod/similar_usage_high_energy_households3.csv')\n",
    "\n",
    "# Find intersection of household_IDs\n",
    "common_households = set(households_filtered5['household_ID']).intersection(set(similar_usage_df['household_ID']))\n",
    "\n",
    "# Convert to DataFrame if you want to see or save it\n",
    "intersection_df = pd.DataFrame({'household_ID': list(common_households)})\n",
    "\n",
    "# Display results\n",
    "print(f\"Number of common households: {len(intersection_df)}\")\n",
    "print(intersection_df.head())"
   ]
  },
  {
   "cell_type": "code",
   "execution_count": 120,
   "id": "346d4e52",
   "metadata": {},
   "outputs": [],
   "source": [
    "import os\n",
    "import pandas as pd\n",
    "from sklearn.metrics import confusion_matrix, ConfusionMatrixDisplay\n",
    "import matplotlib.pyplot as plt\n",
    "import glob\n",
    "\n",
    "# ======================================================\n",
    "# 1️⃣ Load the ground truth anomalies (filtered_data)\n",
    "# ======================================================\n",
    "# Assuming filtered_data is already a DataFrame\n",
    "true_anomalies = set(households_filtered5['household_ID'].unique())"
   ]
  },
  {
   "cell_type": "code",
   "execution_count": 121,
   "id": "f92f2c06",
   "metadata": {},
   "outputs": [],
   "source": [
    "# ======================================================\n",
    "# 4️⃣ Identify normal households (not in ground truth anomalies)\n",
    "# ======================================================\n",
    "normal_households = all_households - true_anomalies"
   ]
  },
  {
   "cell_type": "code",
   "execution_count": 122,
   "id": "44025d04",
   "metadata": {},
   "outputs": [],
   "source": [
    "# ======================================================\n",
    "# 5️⃣ Build labels for confusion matrix\n",
    "# ======================================================\n",
    "y_true = []\n",
    "y_pred = []\n",
    "\n",
    "for hh in all_households:\n",
    "    true_label = 1 if hh in true_anomalies else 0\n",
    "    pred_label = 1 if hh in predicted_anomalies else 0\n",
    "    y_true.append(true_label)\n",
    "    y_pred.append(pred_label)"
   ]
  },
  {
   "cell_type": "code",
   "execution_count": 123,
   "id": "04159138",
   "metadata": {},
   "outputs": [
    {
     "name": "stdout",
     "output_type": "stream",
     "text": [
      "✅ Confusion Matrix:\n",
      "                   Predicted: Anomalous  Predicted: Normal\n",
      "Actual: Anomalous                   123                650\n",
      "Actual: Normal                      131               2046\n",
      "\n",
      "Metrics Summary:\n",
      "True Positives (TP): 123\n",
      "False Negatives (FN): 650\n",
      "False Positives (FP): 131\n",
      "True Negatives (TN): 2046\n"
     ]
    },
    {
     "data": {
      "image/png": "[encoded data removed]",
      "text/plain": [
       "<Figure size 640x480 with 2 Axes>"
      ]
     },
     "metadata": {},
     "output_type": "display_data"
    }
   ],
   "source": [
    "\n",
    "# ======================================================\n",
    "# 6️⃣ Compute confusion matrix\n",
    "# ======================================================\n",
    "cm = confusion_matrix(y_true, y_pred, labels=[1, 0])\n",
    "\n",
    "# Order: [[TP, FN], [FP, TN]]\n",
    "tp, fn, fp, tn = cm[0,0], cm[0,1], cm[1,0], cm[1,1]\n",
    "\n",
    "print(\"✅ Confusion Matrix:\")\n",
    "print(pd.DataFrame(cm,\n",
    "                   index=['Actual: Anomalous', 'Actual: Normal'],\n",
    "                   columns=['Predicted: Anomalous', 'Predicted: Normal']))\n",
    "print(\"\\nMetrics Summary:\")\n",
    "print(f\"True Positives (TP): {tp}\")\n",
    "print(f\"False Negatives (FN): {fn}\")\n",
    "print(f\"False Positives (FP): {fp}\")\n",
    "print(f\"True Negatives (TN): {tn}\")\n",
    "\n",
    "# ======================================================\n",
    "# 7️⃣ Visualize confusion matrix\n",
    "# ======================================================\n",
    "disp = ConfusionMatrixDisplay(confusion_matrix=cm,\n",
    "                              display_labels=['Anomalous', 'Normal'])\n",
    "disp.plot(cmap='Blues')\n",
    "plt.title(\"Confusion Matrix - Household Anomaly Detection\")\n",
    "plt.show()"
   ]
  },
  {
   "cell_type": "code",
   "execution_count": 124,
   "id": "985968ee",
   "metadata": {},
   "outputs": [
    {
     "name": "stdout",
     "output_type": "stream",
     "text": [
      "\n",
      "==================== METRICS SUMMARY ====================\n",
      "Accuracy : 0.735\n",
      "Precision: 0.484\n",
      "Recall   : 0.159\n",
      "F1 Score : 0.240\n",
      "==========================================================\n",
      "\n",
      "Detailed Classification Report:\n",
      "              precision    recall  f1-score   support\n",
      "\n",
      "      Normal      0.759     0.940     0.840      2177\n",
      "   Anomalous      0.484     0.159     0.240       773\n",
      "\n",
      "    accuracy                          0.735      2950\n",
      "   macro avg      0.622     0.549     0.540      2950\n",
      "weighted avg      0.687     0.735     0.682      2950\n",
      "\n"
     ]
    }
   ],
   "source": [
    "from sklearn.metrics import (\n",
    "    f1_score,\n",
    "    precision_score,\n",
    "    recall_score,\n",
    "    accuracy_score,\n",
    "    classification_report\n",
    ")\n",
    "\n",
    "# ======================================================\n",
    "# 6️⃣.1 Compute full performance metrics\n",
    "# ======================================================\n",
    "\n",
    "# Accuracy\n",
    "accuracy = accuracy_score(y_true, y_pred)\n",
    "\n",
    "# Precision, Recall, F1\n",
    "precision = precision_score(y_true, y_pred)\n",
    "recall = recall_score(y_true, y_pred)\n",
    "f1 = f1_score(y_true, y_pred)\n",
    "\n",
    "# Classification report\n",
    "report = classification_report(\n",
    "    y_true,\n",
    "    y_pred,\n",
    "    target_names=[\"Normal\", \"Anomalous\"],\n",
    "    digits=3\n",
    ")\n",
    "\n",
    "# Print results\n",
    "print(\"\\n==================== METRICS SUMMARY ====================\")\n",
    "print(f\"Accuracy : {accuracy:.3f}\")\n",
    "print(f\"Precision: {precision:.3f}\")\n",
    "print(f\"Recall   : {recall:.3f}\")\n",
    "print(f\"F1 Score : {f1:.3f}\")\n",
    "print(\"==========================================================\")\n",
    "print(\"\\nDetailed Classification Report:\")\n",
    "print(report)"
   ]
  },
  {
   "cell_type": "code",
   "execution_count": null,
   "id": "58188504",
   "metadata": {},
   "outputs": [],
   "source": []
  }
 ],
 "metadata": {
  "kernelspec": {
   "display_name": ".venv",
   "language": "python",
   "name": "python3"
  },
  "language_info": {
   "codemirror_mode": {
    "name": "ipython",
    "version": 3
   },
   "file_extension": ".py",
   "mimetype": "text/x-python",
   "name": "python",
   "nbconvert_exporter": "python",
   "pygments_lexer": "ipython3",
   "version": "3.10.12"
  }
 },
 "nbformat": 4,
 "nbformat_minor": 5
}
